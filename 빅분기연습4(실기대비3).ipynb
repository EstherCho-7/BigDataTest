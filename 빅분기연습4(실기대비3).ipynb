{
  "nbformat": 4,
  "nbformat_minor": 0,
  "metadata": {
    "colab": {
      "provenance": [],
      "toc_visible": true,
      "include_colab_link": true
    },
    "kernelspec": {
      "name": "python3",
      "display_name": "Python 3"
    },
    "language_info": {
      "name": "python"
    }
  },
  "cells": [
    {
      "cell_type": "markdown",
      "metadata": {
        "id": "view-in-github",
        "colab_type": "text"
      },
      "source": [
        "<a href=\"https://colab.research.google.com/github/GITSangWoo/BigDataTest/blob/main/%EB%B9%85%EB%B6%84%EA%B8%B0%EC%97%B0%EC%8A%B54(%EC%8B%A4%EA%B8%B0%EB%8C%80%EB%B9%843).ipynb\" target=\"_parent\"><img src=\"https://colab.research.google.com/assets/colab-badge.svg\" alt=\"Open In Colab\"/></a>"
      ]
    },
    {
      "cell_type": "markdown",
      "source": [
        "#검정\n",
        "1. 검정(Test)개념\n",
        " * Z-검정, T-검정은 모집단의 평균이 표본평균과 차이가 있는지 검정하는 방법이다.\n",
        " * Z-검정, T-검정은 모두 두 모집단이 정규성을 따라야 한다.\n",
        " * Z-검정은 모집단의 분산을 알고 있는 경우, T-검정은 모집단의 분산을 모르고 있는 경우 사용한다.\n",
        "$$Z=\\frac{\\bar{X}-\\mu}{\\frac{σ}{\\sqrt{n}}}$$\n",
        "       * $\\bar{X}$ : 표본평균\n",
        "       * μ : 모평균\n",
        "       * σ : 모표준편차\n",
        "       * n : 표본의 크기\n",
        "\n",
        "2. 검정 절차   \n",
        " * 검정은 가설 설정, 유의수준 설정, 정규성 검정, 검정통계량 및 p-값 산출, 귀무가설 기각 여부 순서로 진행한다.\n",
        " 1. 가설설정 : 귀무가설과 대립가설 설정\n",
        "    * 양측 검정 :모평균 μ에 대해 표본자료를 바탕으로 모평균이 특정 값   \n",
        "  $\\mu_{0}$ 와 통계적으로 같은지 여부를 판단.\n",
        "        * $귀무가설(H_{0}):모평균 \\ μ와 \\ 특정 \\ 값 \\ \\mu_{0}가 \\ 같음(\\mu = \\mu_{0})$\n",
        "        * $대립가설(H_{1}): 모평균 \\ \\mu와 \\ 특정 \\ 값 \\ \\mu_{0}이 \\ 다름(\\mu \\neq \\mu_{0}) $\n",
        "    * 단측 검정: 모평균 μ에 대해 표본자료를 바탕으로 모평균이 특정 값 $\\mu_{0}$와 통게적으로 큰지 작은지 여부를 판단.\n",
        "         * 좌측검정 : 모평균(μ)의 값은 특정 값 $\\mu_{0}$보다 작음\n",
        "             * 귀무가설 : 모평균 μ와 특정 값 $\\mu_{0}$가 같음($ \\mu = \\mu_{0})$\n",
        "             * 대립가설 : 모평균 μ가 특정 값 $\\mu_{0}$보다 작음 ($ \\mu < \\mu_{0})$\n",
        "         * 우측검정 : 모평균(μ)의 값은 특정 값 $\\mu_{0}$보다 큼\n",
        "             * 귀무가설 : 모평균 μ와 특정 값 $\\mu_{0}$가 같음($ \\mu = \\mu_{0})$\n",
        "             * 대립가설 : 모평균 μ가 특정 값 $\\mu_{0}$보다 큼 ($ \\mu > \\mu_{0})$\n",
        "  2. 유의수준 설정\n",
        "     * 유의수준 α를 설정\n",
        "     * 주어지지 않을 경우 일반적으로 0.05 또는 0.01을 많이 사용\n",
        "  3. 정규성 검정\n",
        "     * 표본의 정규성(데이터가 정규분포를 따르는지 나타내는 특성)을 검정\n",
        "  4. 검정통계량 및 p-값 산출\n",
        "     * T, Z 등 검정통계량과 검정통계량에 따른 p-값 산출\n",
        "  5. 귀무가설 기각여부\n",
        "     * 귀무가설의 기각 여부 판단 후 의사결정\n",
        "         * $유의확률(p-값)<유의수준(\\alpha)$: 귀무가설을 기각하고, 대립가설을 채택\n",
        "         ** $유의확률(p-값)>유의수준(\\alpha)$: 귀무가설을 기각하지 않음\n"
      ],
      "metadata": {
        "id": "tvFDnSBOYYQr"
      }
    },
    {
      "cell_type": "markdown",
      "source": [
        "##Z-검정(Z-Test)\n",
        " 1. Z-검정의 개념   \n",
        "  * Z- 검정은 귀무가설에서 검정 통계량의 분포를 정규분포로 근사할 수 있는 통계 검정이다.\n",
        " 2. Z-검정 가정\n",
        "  * Z-검정은 정규분포를 가정하며, 추출된 표본이 동일 모집단에 속하는지 가설을 검증하기 위해 사용한다.\n",
        "  * 모집단 분산 $\\sigma^{2}$을 이미 알고 있을 때 분포의 평균을 테스트한다.\n",
        "  * Z-검정 통계량 값이 임계치(Critical Value)보다 크고 작음에 따라, 가설을 기각 또는 채택한다.\n",
        " 3. Z-검정 함수\n",
        "  * norm.cdf 함수는 정규분포에서 누적분포함수의 값을 계산하는 함수이다.\n",
        "  ```\n",
        "  norm.cdf(z)\n",
        "  ```\n",
        "  * 파라미터   \n",
        "          z : z-검정 통계량"
      ],
      "metadata": {
        "id": "_eRf5Gtk5LP3"
      }
    },
    {
      "cell_type": "markdown",
      "source": [
        "###문제\n",
        "공장에서 생상한 제품의 평균 높이는 26cm이며 표준편차는 5cm로 확인되었다. 제품의 높이를 측정한 표본 7개의 데이터는 다음과 같다. 유의수준이 0.05일 때 데이터를 기반으로 제품의 평균 높이를 검정하려고 한다.\n",
        "---\n",
        "제품의 높이(cm) | 25, 27, 31, 23, 24, 30, 26  \n",
        "귀무가설 : 모평균은 26cm 이다 (모평균 = 표본평균)  \n",
        "대립가설 : 모평균은 26cm가 아니다 (모평균 $\\neq$ 표본평균)\n"
      ],
      "metadata": {
        "id": "UWsxsKL_GJ2m"
      }
    },
    {
      "cell_type": "code",
      "source": [
        "#Z-검정\n",
        "import numpy as np\n",
        "from scipy.stats import norm\n",
        "\n",
        "x=np.array([25,27,31,23,24,30,26])\n",
        "print(np.mean(x))"
      ],
      "metadata": {
        "colab": {
          "base_uri": "https://localhost:8080/"
        },
        "id": "cihkaZP3GFqx",
        "outputId": "63557e38-48f2-47ce-8e95-1845f1e41dbb"
      },
      "execution_count": null,
      "outputs": [
        {
          "output_type": "stream",
          "name": "stdout",
          "text": [
            "26.571428571428573\n"
          ]
        }
      ]
    },
    {
      "cell_type": "code",
      "source": [
        "z=(np.mean(x)-26)/5*np.sqrt(7)\n",
        "print(z)"
      ],
      "metadata": {
        "colab": {
          "base_uri": "https://localhost:8080/"
        },
        "id": "xvQvwj7xHLcD",
        "outputId": "b7dbcc5d-8abb-41b8-9ea6-eee74f4583b7"
      },
      "execution_count": null,
      "outputs": [
        {
          "output_type": "stream",
          "name": "stdout",
          "text": [
            "0.3023715784073826\n"
          ]
        }
      ]
    },
    {
      "cell_type": "code",
      "source": [
        "p=(1-norm.cdf(z))*2\n",
        "print(p)\n",
        "\n",
        "#유의 수준 0.05 일경우 p-값은 0.7623로 유의수준보다 크기 때문에 귀무가설(모평균26cm)를 채택한다."
      ],
      "metadata": {
        "colab": {
          "base_uri": "https://localhost:8080/"
        },
        "id": "47tHU_k4HVpv",
        "outputId": "350e2a77-372f-4860-a511-ba50781d03ef"
      },
      "execution_count": null,
      "outputs": [
        {
          "output_type": "stream",
          "name": "stdout",
          "text": [
            "0.7623688184698392\n"
          ]
        }
      ]
    },
    {
      "cell_type": "markdown",
      "source": [
        "##T-검정\n",
        "1. T-검정(T-Test)개념\n",
        " * T-검정은 독립변수가 범주형이고, 종속변수가 수치형일 때 두 집단의 평균을 비교하는 검정 방법이다.\n",
        " * T-검정은 두 집단 간의 평균을 비교하는 모수적 통계 방법으로서 표본이 정규성, 등분산성, 독립성 등을 만족할 경우 적용한다.\n",
        " * 모집단이 정규분포라는 정도만 알고, $σ^{2}$(모분산)을 모를 때 $s^{2}$(표본분산)으로 대체하여 모평균 μ를 구할 때 사용한다.\n",
        " * 적은 표본으로도 모집단 평균을 추정하려고 정규분포 대신에 사용되는 확률분포이다.\n",
        "2. T-검정 종류  \n",
        " * T-검정에는 단일표본 T-검정(One sample T-Test), 쌍체표본 T-검정(Paired Sample T-Test), 독립표본 T-검정(Independent Sample T-Test)이 있다.  "
      ],
      "metadata": {
        "id": "F_EPernHIVyy"
      }
    },
    {
      "cell_type": "markdown",
      "source": [
        "###단일표본 T-검정\n",
        " 1. 단일표본 T-검정(One Sample T-test)의 개념\n",
        "  * 단일표본 T-검정은 한 집단의 평균이 모집단의 평균과 같은지 검정하는 방법이다.\n",
        "  * 모집단의 평균이 알려진 경우 ,하나의 표본 집단의 평균을 구하고 모집단의 평균과 표본 집단의 평균이 같은지를 검정한다.\n",
        "$$T=\\frac{\\bar{X}-\\mu}{\\frac{s}{\\sqrt{n}}}$$\n",
        "     * $\\bar{X}$ : 표본평균\n",
        "     * μ : 모평균\n",
        "     * s : 표본표준편차\n",
        "     * n : 표본의 크기\n",
        "\n",
        "\n",
        "2. 단일표본 정규성 검정\n",
        " * 단일표본 T-검정을 수행하기 전에, 데이터가 정규분포를 따른다는 정규성 가정을 만족하는지를 확인한다.\n",
        " * 단일표본 정규성 검정\n",
        "    *  단일표본 T-검정을 수행하기 전 표본에 대한 정규성을 검정해야 할 경우, 샤피로 윌크 검정 등을 활용한다.\n",
        "    * 데이터의 정규성출력을 확인하는 샤피로 윌크 검정은 shapiro.test함수를 사용한다.\n",
        "           귀무가설: 데이터가 정규분포를 따름\n",
        "           대립가설: 데이터가 정규분포를 따르지 않음\n",
        "\n",
        "    ```\n",
        "    shapiro(x)\n",
        "    ```\n",
        "    파라미터  \n",
        "           x: 정규성 검정을 수행할 데이터\n",
        "    * 검정 결과로 나오는 p-값에 따라 데이터의 정규성을 확인할 수 있다.  \n",
        "           statistic : 샤피로 윌크 검정의 통곗값\n",
        "           pvalue : p-값\n",
        "\n",
        "  1. 정규성 가정을 만족하는 경우\n",
        "    * 데이터가 정규성 가정을 만족한다면, ttest-1samp함수를 사용하여 T-검정을 수행한다.\n",
        "    ```\n",
        "    ttest_1samp(a,popmean)\n",
        "    ```\n",
        "    파라미터  \n",
        "       * a : 표본으로부터 관측한 값\n",
        "       * popmean:검정시 기준이 되는 값($\\mu_{0}$)\n",
        "    * ttest_1samp 함수에 대한 변수는 다음과 같다.\n",
        "       * statistic : t-검정의 통곗값\n",
        "       * pvalue : p-값\n",
        "\n",
        "  2. 정규성 가정을 만족하지 않는 경우\n",
        "    * 데이터가 정규성을 만족하지 않는다면 wilcoxon 함수를 사용하여 검정을 수행한다.\n",
        "   ```\n",
        "   wilcoxon(x,alternative)\n",
        "   ```\n",
        "   파라미터\n",
        "    * x : 표본으로부터 관측한 값\n",
        "    * alternative : 검정 방향을 설정\n",
        "       * two.sided : 양측검정\n",
        "       * less : 단측검정일 때 표본평균이 특정 값보다 작은지에 대한 검정 (좌측 검정)\n",
        "       * greater: 단측검정일 때 표본평균이 특정 값보다 큰지에 대한 검정(우측 검정)\n",
        "    * 윌 콕슨 검정 결과 변수\n",
        "       * statistic : t-검정의 통곗값\n",
        "       * pvalue : p-값"
      ],
      "metadata": {
        "id": "zdUbZHvgJ8sV"
      }
    },
    {
      "cell_type": "markdown",
      "source": [
        "####데이터가 정규성 가정을 만족하는 경우 단일표본 T-검정 문제\n",
        "공장에서 트렌드에 맞는 신제품을 출시했다. 생산된 신제품 7개의 높이를 측정한 결과는 다음과 같다. 유의수준 0.05일 때 신제품들의 평균 높이가 11인지 아닌지에 대해 양측 검정을 수행한다.\n",
        "\n",
        "신제품의 높이 | 12,14,16,19,11,17,13  \n",
        "귀무가설 : 신제품의 높이의 평균은 11cm다.  \n",
        "대립가설 : 신제품 높이의 평균은 11cm가 아니다.  "
      ],
      "metadata": {
        "id": "ZRF4m-OIOyO-"
      }
    },
    {
      "cell_type": "code",
      "source": [
        "#정규성 가정을 만족하는 경우 단일표본 T-검정\n",
        "import pandas as pd\n",
        "from scipy.stats import shapiro, ttest_1samp\n",
        "\n",
        "df =pd.DataFrame({'height':[12,14,16,19,11,17,13]})\n",
        "\n",
        "print(df)"
      ],
      "metadata": {
        "colab": {
          "base_uri": "https://localhost:8080/"
        },
        "id": "io-agaTqOods",
        "outputId": "446b7533-5368-4f59-ae4d-87faf6e9c405"
      },
      "execution_count": null,
      "outputs": [
        {
          "output_type": "stream",
          "name": "stdout",
          "text": [
            "   height\n",
            "0      12\n",
            "1      14\n",
            "2      16\n",
            "3      19\n",
            "4      11\n",
            "5      17\n",
            "6      13\n"
          ]
        }
      ]
    },
    {
      "cell_type": "code",
      "source": [
        "print(shapiro(df['height']))\n",
        "#p-value = 0.8535 < 0.05(유의확률)보다 크므로 '높이'데이터들은 \"정규성을 만족한다\"라는 귀무가설을 기각할 수 없다.  즉 정규성을 만족한다."
      ],
      "metadata": {
        "colab": {
          "base_uri": "https://localhost:8080/"
        },
        "id": "WPH4qvxVdsnu",
        "outputId": "87c1a22c-bc0d-4a80-ae3a-e011076376f1"
      },
      "execution_count": null,
      "outputs": [
        {
          "output_type": "stream",
          "name": "stdout",
          "text": [
            "ShapiroResult(statistic=0.9641615748405457, pvalue=0.8535423278808594)\n"
          ]
        }
      ]
    },
    {
      "cell_type": "code",
      "source": [
        "print(ttest_1samp(df['height'],popmean=11))\n",
        "\n",
        "#p-value = 0.0167 < 0.05 (유의확률)보다 작으므로 \"신제품들의 평균 높이가 11cm다\"라는 귀무가설을 기각 신제품 높이의 평균은 11cm가 아니다 라는 대립가설 채택"
      ],
      "metadata": {
        "colab": {
          "base_uri": "https://localhost:8080/"
        },
        "id": "VzGpYkJld1rC",
        "outputId": "5eae2abc-80e8-411f-e89c-4e968448bda5"
      },
      "execution_count": null,
      "outputs": [
        {
          "output_type": "stream",
          "name": "stdout",
          "text": [
            "TtestResult(statistic=3.2826608214930637, pvalue=0.016766749930606027, df=6)\n"
          ]
        }
      ]
    },
    {
      "cell_type": "markdown",
      "source": [
        "####정규성 가정을 만족하지 않는 경우 단일 표본 T-검정\n",
        "cats 데이터는 고양이들의 성별, 몸무게, 심장의 무게를 담고 있다.\n",
        "유의수준 0.05일 때 cats데이터에서 고양이들의 평균 몸무게가 2.1kg인지 아닌지에 대해 양측 검정을 수행한다.\n",
        "\n",
        "귀무가설($H_{0}$) : 고양이들의 평균 몸무게(Bwt 변수 값의 평균)는 2.1kg  \n",
        "대립가설($H_{1}$) : 고양이들의 평균 몸무게(Bwt 변수 값의 평균)는 2.1kg가 아님\n"
      ],
      "metadata": {
        "id": "tPvyO0qNfRD8"
      }
    },
    {
      "cell_type": "code",
      "source": [
        "import pandas as pd\n",
        "from scipy.stats import shapiro,wilcoxon\n",
        "\n",
        "df = pd.read_csv(\"cats.csv\")\n",
        "print(df.info())"
      ],
      "metadata": {
        "colab": {
          "base_uri": "https://localhost:8080/"
        },
        "id": "nnqJZ6h6hIjZ",
        "outputId": "15302bba-5f14-4360-8322-7127e99b65d8"
      },
      "execution_count": null,
      "outputs": [
        {
          "output_type": "stream",
          "name": "stdout",
          "text": [
            "<class 'pandas.core.frame.DataFrame'>\n",
            "RangeIndex: 144 entries, 0 to 143\n",
            "Data columns (total 3 columns):\n",
            " #   Column  Non-Null Count  Dtype  \n",
            "---  ------  --------------  -----  \n",
            " 0   Sex     144 non-null    object \n",
            " 1   Bwt     144 non-null    float64\n",
            " 2   Hwt     144 non-null    float64\n",
            "dtypes: float64(2), object(1)\n",
            "memory usage: 3.5+ KB\n",
            "None\n"
          ]
        }
      ]
    },
    {
      "cell_type": "code",
      "source": [
        "result = shapiro(df['Bwt'])\n",
        "print(result)\n",
        "\n",
        "#pvalue=6.730228778906167e-05로 유의수준 0.05보다 작기 때문에 귀무가설(정규성을 만족한다)를 기각하고 대립가설(정규성을 만족하지 않음)을 채택"
      ],
      "metadata": {
        "colab": {
          "base_uri": "https://localhost:8080/"
        },
        "id": "2tJ0uZA1iv4Y",
        "outputId": "1df67cca-5a2a-4a04-f6d8-86cd0e76fc20"
      },
      "execution_count": null,
      "outputs": [
        {
          "output_type": "stream",
          "name": "stdout",
          "text": [
            "ShapiroResult(statistic=0.9518786668777466, pvalue=6.730228778906167e-05)\n"
          ]
        }
      ]
    },
    {
      "cell_type": "code",
      "source": [
        "result = wilcoxon(df['Bwt']-2.1 ,alternative='two-sided')\n",
        "print(result)\n",
        "\n",
        "#pvalue=2.765612175340855e-23로 유의수준 0.05보다 작기 때문에 귀무가설(고양이들의 평균 몸무게는 2.1kg)를 기각하고, 대립가설(고양이들의 평균 몸무게는 2.1kg이 아님)을 채택"
      ],
      "metadata": {
        "colab": {
          "base_uri": "https://localhost:8080/"
        },
        "id": "oQZG-Jfai3Nx",
        "outputId": "897174d3-36e9-482a-fd58-a0aa7830b1db"
      },
      "execution_count": null,
      "outputs": [
        {
          "output_type": "stream",
          "name": "stdout",
          "text": [
            "WilcoxonResult(statistic=50.0, pvalue=2.765612175340855e-23)\n"
          ]
        }
      ]
    },
    {
      "cell_type": "markdown",
      "source": [
        "### 쌍체표본 T-검정\n",
        " 1. 쌍체표본 T-검정(Paired Sample T-test; 대응표본 T-검정)의 개념\n",
        "   * 쌍체표본 T-검정은 한 집단에서 처치를 받기 전과 후의 차이를 알아보기 위해 사용하는 검정 방법이다.\n",
        "   * 쌍체표본 T-검정은 표본(Sample)이 하나, 독립변수가 1개일 때 사용된다.\n",
        "$$T=\\frac{\\bar{d}-\\mu_{d}}{\\frac{s}{\\sqrt{n}}}$$\n",
        "     * $\\bar{d}$ : 두 표본 집단 평균의 차이\n",
        "     * $\\mu_{d}$ : 두 모집단 평균의 차이\n",
        "     * s : 표본표준편차\n",
        "     * n : 표본의 크기   \n",
        "   * 하나의 모집단에서 크기가 n개인 하나의 표본을 추출한 후, 표본 내의 개체들에 대해서 두 번 측정한다. 따라서 관측값들은 서로 독립적이지 않고 쌍(Pair)으로 이루어져 있어 쌍체표본 T-검정을 짝지어진 T-검정(Matched Pair T-test)이 라고도 한다.\n",
        "  \n",
        " 2. 쌍체표본 T-검정의 가정\n",
        "   * 쌍체표본 T-검정에서는 모집단의 관측값이 정규분포를 만족한다는 정규성 가정을 만족해야 한다.\n",
        "   * 종속변수는 연속형 변수이어야 한다.\n",
        "\n",
        " 3. 쌍체표본 T-검정 함수   \n",
        "   * ttest_rel 함수는 쌍체표본 T-검정을 수행하는 함수이다.\n",
        "   ```\n",
        "   ttest_rel(x,y,alternative)\n",
        "   ```\n",
        "   파라미터  \n",
        "     * x : 처리 방법이 x일 때의 관측값(수치형 벡터)\n",
        "     * y : 처리 방법이 y일 때의 관측값(수치형 벡터)\n",
        "     * alternative : 검정 방향을 설정\n",
        "       * two.sided : 양측 검정\n",
        "       * less : 단측검정일 때 표본평균이 특정 값보다 작은지에 대한 검정(좌측 검정)\n",
        "       * greater : 단측검정일 때 표본평균이 특정 값보다 큰지에 대한 검정(우측 검정)\n",
        "\n",
        "4. 쌍체표본 T-검정 함수의 변수\n",
        "  * ttest_rel 함수에 대한 변수는 다음과 같다.\n",
        "  * 쌍체표본 T-검정 함수의 변수   \n",
        "      * statistic : t-검정의 통곗값\n",
        "      * pvalue : p-값\n",
        "      * df : 자유도\n",
        "\n",
        "\n",
        "  "
      ],
      "metadata": {
        "id": "xDNLU-t5mFP-"
      }
    },
    {
      "cell_type": "markdown",
      "source": [
        "####문제\n",
        "7명의 환자를 대상으로 수면영양제를 복용하기 전과 후의 수면시간을 측정하여 영양제의 효과가 있는지를 판단하고자 한다. 유의수준이 0.05일 때 영양제 복용 전과 후의 평균 수면시간에 차이가 있는지를 알아보는데, 단측검정을 수행하여 영양제 복용 후에 수면시간이 더 늘어났는지를 검정하려고 한다. 수면영양제를 복용하기 전과 후의 수면시간은 다음과 같다.(표본이 정규성을 만족한다는 가정 하에 단측 검정 수행)\n",
        "\n",
        "    수면 영양제 복용 전 7명의 환자들의 수면시간 |  5,3,8,4,3,2,1  \n",
        "    수면 영양제 복용 후 7명의 환자들의 수면시간 |  8,6,6,5,8,7,3\n",
        "\n",
        " * $귀무가설(H_{0})$ : 수면 영양제를 복용하기 전과 후의 평균 수면시간에는 차이가 없음($\\mu_{x}-\\mu_{y}=D=0$)\n",
        " * $대립가설(H_{1})$ : 수면 영양제를 복용하기 전과 후의 평균 수면시간 차이는 0보다 작음(수면 영양제를 복용한 후 평균 수면시간이 늘어남)($\\mu_{x}-\\mu_{y}=D<0$)"
      ],
      "metadata": {
        "id": "tYEvswZ3rEx6"
      }
    },
    {
      "cell_type": "code",
      "source": [
        "import pandas as pd\n",
        "from scipy.stats import ttest_rel\n",
        "\n",
        "data = pd.DataFrame({\n",
        "    'before': [5,3,8,4,3,2,1],\n",
        "    'after' : [8,6,6,5,8,7,3]\n",
        "})\n",
        "\n",
        "print(data)"
      ],
      "metadata": {
        "colab": {
          "base_uri": "https://localhost:8080/"
        },
        "id": "sjBp9rUvspdD",
        "outputId": "2179e1cc-b120-47da-c6f1-7c0b080256eb"
      },
      "execution_count": null,
      "outputs": [
        {
          "output_type": "stream",
          "name": "stdout",
          "text": [
            "   before  after\n",
            "0       5      8\n",
            "1       3      6\n",
            "2       8      6\n",
            "3       4      5\n",
            "4       3      8\n",
            "5       2      7\n",
            "6       1      3\n"
          ]
        }
      ]
    },
    {
      "cell_type": "code",
      "source": [
        "result = ttest_rel(data['before'], data['after'], alternative='less')\n",
        "print(result)"
      ],
      "metadata": {
        "colab": {
          "base_uri": "https://localhost:8080/"
        },
        "id": "_UVg1nI5tDc-",
        "outputId": "ba9ad4cf-908b-4384-d24e-4dd5cbbd56a3"
      },
      "execution_count": null,
      "outputs": [
        {
          "output_type": "stream",
          "name": "stdout",
          "text": [
            "TtestResult(statistic=-2.633628675421043, pvalue=0.019435182851729293, df=6)\n"
          ]
        }
      ]
    },
    {
      "cell_type": "code",
      "source": [
        "print(result.pvalue)  #0.05 유의확률 보다 p-value 값이 작으므로 대립가설(수면 영양제 복용하기 전과 후의 평균 수면차이는 0보다 작다)를 채택 즉 수면영양제 효과가 있음"
      ],
      "metadata": {
        "colab": {
          "base_uri": "https://localhost:8080/"
        },
        "id": "cbCveNEPthbn",
        "outputId": "ec532a14-4894-446c-9436-35570700591a"
      },
      "execution_count": null,
      "outputs": [
        {
          "output_type": "stream",
          "name": "stdout",
          "text": [
            "0.019435182851729293\n"
          ]
        }
      ]
    },
    {
      "cell_type": "markdown",
      "source": [
        "###독립표본 T-검정\n",
        "\n",
        "1. 독립표본 T-검정(Independent Sample T-test)의 개념\n",
        "  * 독립 표본 T-검정은 데이터가 서로 다른 모집단에서 추출된 경우 사용할 수 있는 분석 방법이다.\n",
        "  * 독립된 두 집단의 평균 차이를 검정하는 방법이다.\n",
        "  * 독립표본 T-검정을 하기 전에 반드시 정규성, 등분산성 가정이 만족되는지 확인한다.\n",
        "  * 표본의 수에 따른 정규성 증명 방법\n",
        "     * 10개 미만  : 정규성을 만족하지 못한다고 간주하고 비모수적인 방법인 만-위트니 검정(Mahn-Whitney Test)을 적용\n",
        "     * 10개 이상~ 30개이하: 샤피로-윌크 검정(Shapiro-Wilk test), 콜모고로프-스르노프 검정(Kolmogorov-Smirnov test)등의 방법을 통해서 정규성을 증명\n",
        "     * 30개 이상 : 중심극한정리를 통해서 정규성을 증명\n",
        "\n",
        " 독립표본 T-검정     \n",
        "$$T=\\frac{(\\bar{X_{1}}-\\bar{X_{2}})-(\\mu_{1}-\\mu_{2})}{\\sqrt{s_{p}^{2}(\\frac{1}{n_{1}}+\\frac{1}{n_{2}})}}$$\n",
        " * $\\bar{X_{1}}$ : 집단 1의 평균\n",
        " * $\\bar{X_{2}}$ : 집단 2의 평균\n",
        " * $s_{p}^{2}$ : 통합 분산 추정량\n",
        " * $n_{1}$ : 집단 1의 표본 개수\n",
        " * $n_{2}$ : 집단 2의 표본 개수\n",
        "\n",
        "2. 독립표본 T-검정의 가정\n",
        " * 독립표본 T-검정의 두 모집단은 정규성을 만족해야 한다.\n",
        " * 독립표본 T-검정에서 두 개의 모집단은 서로 독립적이어야 한다.\n",
        " * 두 모집단의 분산이 서로 같음을 의미하는 등분산성 가정을 확인해야 한다.\n",
        " * 등분산 가정은 비교하고자 하는 두 독립 집단의 모분산이 동일함을 의미하며, 등분산성 만족 여부에 따라 다른 계산 방법이 사용된다.(이 가정을 확인하기 위해 독립표본 T-검정 수행 과정에서는 등분산 검정을 먼저 수행한 후 검정통계량을 계산한다.)\n",
        " * 독립변수는 범주형, 종속변수는 연속형이어야 한다.\n",
        "\n",
        "3. 등분산 검정 함수\n",
        " * 등분산 검정을 위해 levene함수를 사용한다.\n",
        " ```\n",
        " levene(sample1,sample2,center)\n",
        " ```\n",
        " 파라미터\n",
        " * sample1 : 모집단 1로부터 측정한 관측값(수치형 벡터)\n",
        " * smaple2 : 모집단 2로부터 측정한 관측값(수치형 벡터)\n",
        " * center : 분포의 중심을 정의하는 방법을 지정 (기본값은 median)\n",
        "      * median : 중위수\n",
        "      * mean : 평균\n",
        "\n",
        "4. 독립표본 T-검정 함수\n",
        "* 독립표본 T-검정을 위해 ttest_ind 함수를 사용한다\n",
        "```.\n",
        "ttest_ind(sample1,sample2,alternative,equal,var)\n",
        "```\n",
        "파라미터\n",
        "  * sample1 : 모집단 1로부터 측정한 관측값(수치형 벡터)\n",
        "  * sample2 : 모집단 2로부터 측정한 관측값(수치형 벡터)\n",
        "  * alternative : 검정 방향을 설정\n",
        "      * two.sided : 양측 검정\n",
        "      * less : 단측검정일 때 표본평균이 특정 값보다 작은지에 대한 검정(좌측검정)\n",
        "      * greater : 단측검정일 때 표본평균이 특정 값보다 큰지에 대한 검정(우측검정)\n",
        "  * equal_var : 등분산성을 만족하는지의 여부(기본값은 FALSE)\n",
        "     * TRUE : 등분산성을 만족\n",
        "     * False: 등분산성을 만족하지 않음\n"
      ],
      "metadata": {
        "id": "7xJaVI6jtyhp"
      }
    },
    {
      "cell_type": "markdown",
      "source": [
        "####문제\n",
        "cats 데이터는 고양이들의 성별(Sex), 몸무게(Bwt), 심장의 무게(Hwt)를 담고 있다. 유의수준이 0.05일 때 고양이들의 성별에 따른 몸무게의 평균은 통계적으로 다르다고 할 수 있는지에 대한 검정을 수행하려고 한다.\n",
        "\n",
        "* $귀무가설(H_{0})$ :고양이의 성별에 따른 평균 몸무게에는 통계적으로 유의한 차이가 없음\n",
        "* $대립가설(H_{1})$ : 고양이의 성별에 따른 평균 몸무게에는 통계적으로 유의한 차이가 있음"
      ],
      "metadata": {
        "id": "VGtojb8Byd5v"
      }
    },
    {
      "cell_type": "code",
      "source": [
        "import pandas as pd\n",
        "from scipy.stats import ttest_ind,levene\n",
        "\n",
        "cats = pd.read_csv(\"cats.csv\")\n",
        "print(cats.info())"
      ],
      "metadata": {
        "colab": {
          "base_uri": "https://localhost:8080/"
        },
        "id": "7vT5en2wzZpo",
        "outputId": "51d3700b-1944-4ca0-b07e-337199300c1c"
      },
      "execution_count": null,
      "outputs": [
        {
          "output_type": "stream",
          "name": "stdout",
          "text": [
            "<class 'pandas.core.frame.DataFrame'>\n",
            "RangeIndex: 144 entries, 0 to 143\n",
            "Data columns (total 3 columns):\n",
            " #   Column  Non-Null Count  Dtype  \n",
            "---  ------  --------------  -----  \n",
            " 0   Sex     144 non-null    object \n",
            " 1   Bwt     144 non-null    float64\n",
            " 2   Hwt     144 non-null    float64\n",
            "dtypes: float64(2), object(1)\n",
            "memory usage: 3.5+ KB\n",
            "None\n"
          ]
        }
      ]
    },
    {
      "cell_type": "code",
      "source": [
        "group1=cats[cats[\"Sex\"]==\"F\"][\"Bwt\"]\n",
        "group2=cats[cats[\"Sex\"]==\"M\"][\"Bwt\"]"
      ],
      "metadata": {
        "id": "xyRiaiDKzmY5"
      },
      "execution_count": null,
      "outputs": []
    },
    {
      "cell_type": "code",
      "source": [
        "result =levene(group1,group2)\n",
        "print(result)"
      ],
      "metadata": {
        "colab": {
          "base_uri": "https://localhost:8080/"
        },
        "id": "X3M1gahhz4FE",
        "outputId": "fd3fe95d-9322-49e3-aa01-09e6c44c8159"
      },
      "execution_count": null,
      "outputs": [
        {
          "output_type": "stream",
          "name": "stdout",
          "text": [
            "LeveneResult(statistic=19.43101190877999, pvalue=2.0435285255189404e-05)\n"
          ]
        }
      ]
    },
    {
      "cell_type": "code",
      "source": [
        "print(result.pvalue) # 등분산 가정을 만족하지 않음"
      ],
      "metadata": {
        "colab": {
          "base_uri": "https://localhost:8080/"
        },
        "id": "iklpTnbWz8xM",
        "outputId": "e0c3793c-3dc4-41ad-cde2-0db919fdbb81"
      },
      "execution_count": null,
      "outputs": [
        {
          "output_type": "stream",
          "name": "stdout",
          "text": [
            "2.0435285255189404e-05\n"
          ]
        }
      ]
    },
    {
      "cell_type": "code",
      "source": [
        "result=ttest_ind(group1,group2,equal_var=False)  # 등분산성을 만족하지 않기 때문에 eqaul_var = False\n",
        "print(result)"
      ],
      "metadata": {
        "colab": {
          "base_uri": "https://localhost:8080/"
        },
        "id": "3P2XUBpxz_I8",
        "outputId": "f3629cc3-b2e1-4d9f-cc6f-2451e46c19af"
      },
      "execution_count": null,
      "outputs": [
        {
          "output_type": "stream",
          "name": "stdout",
          "text": [
            "TtestResult(statistic=-8.70948849909559, pvalue=8.831034455859356e-15, df=136.83788299625363)\n"
          ]
        }
      ]
    },
    {
      "cell_type": "code",
      "source": [
        "print(result.pvalue) # 성별에 따른 고양이의 몸무게 차이에는 유의한 차이가 없다는 귀무가설을 기각 / 성별에 따른 고양이의 몸무게 차이에는 유의한 차이가 있다는 대립가설을 채택"
      ],
      "metadata": {
        "colab": {
          "base_uri": "https://localhost:8080/"
        },
        "id": "hzSnUaq10OKl",
        "outputId": "7b7ac9b1-4bd1-439e-e642-dd3168338598"
      },
      "execution_count": null,
      "outputs": [
        {
          "output_type": "stream",
          "name": "stdout",
          "text": [
            "8.831034455859356e-15\n"
          ]
        }
      ]
    },
    {
      "cell_type": "markdown",
      "source": [
        "##F-검정\n",
        "1. F-검정 개념\n",
        " * F-검정은 두 표본의 분산에 대한 차이가 통계적으로 유의한가를 판별하는 검정기법이다.\n",
        " * 두 모집단 분산 간의 비율에 대한 검정이다.\n",
        "\n",
        " * F-검정 공식\n",
        "$$F=\\frac{s_{1}^{2}}{s_{2}^{2}}(s_{1}^{2}>s_{2}^{2})$$\n",
        "    * $s_{1}^{2},s_{2}^{2}$ : 표본 분산\n",
        "\n",
        "\n",
        "2. F-검정 함수   \n",
        "  * f.cdf 함수는 F-분포에서 누적분포 함수의 값을 계산하는 함수이다.  \n",
        "  ```\n",
        "  f.cdf(x, dfn, dfd)\n",
        "  ```\n",
        "  파라미터\n",
        "    * f : F-검정 통계량\n",
        "    * dfn : F-분포의 분자의 자유도\n",
        "    * dfd : F-분포의 분모의 자유도\n",
        "\n",
        "\n",
        "3. 등분산 검정의 종류와 차이\n",
        "\n",
        "* F 검정(F test)\n",
        "    * 두 집단 간의 분산 비교\n",
        "    * F test 가정\n",
        "      * 두 sample은 random sample 이어야 함.\n",
        "      * 두 sample의 모집단은 정규분포를 따라야함. (정규성)\n",
        "      * 두 sample은 서로 독립이어야 함. (독립성)\n",
        "\n",
        "* 바틀렛 검정(Bartlett Test)\n",
        "    * 두 집단 이상의 분산 비교\n",
        "    * 표본이 정규분포를 따를 때 사용 가능 (비정규성에 민감)\n",
        "* 레빈 검정(Levene Test) - 비모수 검정\n",
        "     * 두 집단 이상의 분산 비교\n",
        "     * 표본이  정규분포를 따르지 않는 경우 사용 가능\n",
        "     * 표본이 적은 경우 사용 가능\n",
        "     * 집단 분포 특성에 따라 대표값을 평균, 중앙값, 절삭평균 중 하나로 정하여 검정함.\n",
        "          * 평균: 정규분포처럼 대칭이고, 한쪽으로 기울어진 분포가 아닐때\n",
        "          * 중앙값: 카이제곱 분포처럼 분포가 한쪽으로 기울어져 있을 때\n",
        "          * 절삭평균: 코시분포 처럼 꼬리가 두꺼운 경우\n",
        "* 플리그너 검정(Fligner Test) - 비모수 검정  \n",
        "   * 레빈 검정과 동일. but, 비모수 데이터에 더 robust함.(안정적임)\n",
        "   * Some of these tests are very sensitive to outliers, but Fligner test is not.\n",
        "   * Fligner test is the most robust against departures from normality"
      ],
      "metadata": {
        "id": "dK7eT5j20hH8"
      }
    },
    {
      "cell_type": "markdown",
      "source": [
        "###문제\n",
        "유의수준이 0.05일 때 무작위로 5개의 값을 생성한 두 그룹(df1,df2)의 분산이 같은지 대한 검정을 하려고 한다.\n",
        "     \n",
        "     1번 그룹 | 1,2,3,4,6\n",
        "     2번 그룹 | 4,5,6,7,8\n",
        "\n",
        "     귀무가설 | 두 그룹의 분산은 같음\n",
        "     대립가설 | 두 그룹의 분산은 같지 않음"
      ],
      "metadata": {
        "id": "40h8SDPe2F2R"
      }
    },
    {
      "cell_type": "code",
      "source": [
        "import numpy as np\n",
        "from scipy.stats import f\n",
        "df1 = np.array([1,2,3,4,6])\n",
        "print(np.var(df1,ddof=1))\n"
      ],
      "metadata": {
        "colab": {
          "base_uri": "https://localhost:8080/"
        },
        "id": "pfCKi35h2BJz",
        "outputId": "38f4879e-4769-4093-b434-afe91789cb33"
      },
      "execution_count": null,
      "outputs": [
        {
          "output_type": "stream",
          "name": "stdout",
          "text": [
            "3.7\n"
          ]
        }
      ]
    },
    {
      "cell_type": "code",
      "source": [
        "df2 = np.array([4,5,6,7,8])\n",
        "print(np.var(df2, ddof=1))"
      ],
      "metadata": {
        "colab": {
          "base_uri": "https://localhost:8080/"
        },
        "id": "89NOagA645wt",
        "outputId": "6c297faa-1811-465a-81bf-242c8f89ae79"
      },
      "execution_count": null,
      "outputs": [
        {
          "output_type": "stream",
          "name": "stdout",
          "text": [
            "2.5\n"
          ]
        }
      ]
    },
    {
      "cell_type": "code",
      "source": [
        "def f_test(x,y):\n",
        "  if np.var(x,ddof=1) <np.var(y,ddof=1) :\n",
        "    x,y=y,x\n",
        "  f_value=np.var(x, ddof=1)/np.var(y,ddof=1)\n",
        "  x_dof = x.size-1\n",
        "  y_dof = y.size-1\n",
        "  p_value = (1 - f.cdf(f_value,x_dof,y_dof))*2\n",
        "  return f_value, p_value\n",
        "\n",
        "result = f_test(df1, df2)\n",
        "print(result)          #  두 그룹 분산은 같다 귀무가설을 기각하지 못함"
      ],
      "metadata": {
        "colab": {
          "base_uri": "https://localhost:8080/"
        },
        "id": "yqo7ePVe5Brp",
        "outputId": "0202edb5-183e-40bd-b562-0909d9c8b794"
      },
      "execution_count": null,
      "outputs": [
        {
          "output_type": "stream",
          "name": "stdout",
          "text": [
            "(1.48, 0.7133026753046221)\n"
          ]
        }
      ]
    },
    {
      "cell_type": "markdown",
      "source": [
        "##카이제곱 검정\n",
        " 1. 카이제곱 검정(Chi-Squared Test; $\\chi^{2}$test) 개념\n",
        " * 카이제곱 검정은 범주형 자료 간의 차이를 보여주는 분석 방법으로 관찰된 빈도가 기대되는 빈도와 유의하게 다른지를 검정하는 방법이다.\n",
        " * 교차분석은 적합도 검정(Goodness of Fit Test), 독립성 검정(Test of Independence), 동질성 검정(Test of Homogeneity)3가지로 분류할 수 있다.\n"
      ],
      "metadata": {
        "id": "mNqnbzvP8fhK"
      }
    },
    {
      "cell_type": "markdown",
      "source": [
        "### 적합도 검정\n",
        "1. 적합도 검정(Goodness of Fit Test) 개념\n",
        "* 적합도 검정은 표본 집단의 분포가 주어진 특정 분포를 따르고 있는지를 검정하는 기법이다.\n",
        "* 적합도 검정의 자료를 구분하는 범주가 상호 배타적이어야 한다.\n",
        "      예) 성별(남자,여자), 등수(1등,2등,3등)\n",
        "* 적합도 검정에서의 귀무가설은 '표본 집단의 분포가 주어진 특정 분포를 따른다'로 설정한다.\n",
        "* 관찰 빈도와 기대 빈도의 차이가 클수록 귀무가설을 기각할 확률이 높아진다.\n",
        "\n",
        "* 적합도 검정 자유도\n",
        "$$자유도 = 범주의\\ 수 -1$$\n",
        "\n",
        "2. 적합도 검정 함수\n",
        "* chisquare 함수는 적합도 검정에 대한 카이제곱 검정을 수행하는 함수이다.\n",
        "```\n",
        "chisquare(f_obs,f_exp)\n",
        "```\n",
        "* 적합도 검정 결과 변수\n",
        "      statistic : 카이제곱 통계량의 값\n",
        "      pvalue: p-값\n"
      ],
      "metadata": {
        "id": "NkOlhnsD9Pgs"
      }
    },
    {
      "cell_type": "markdown",
      "source": [
        "####문제\n",
        "유의수준이 0.05일 때 초등학교에 남학생이 90명, 여학생이 160명이 있다. 남학생, 여학생 비율이 45%와 55%인지를 카이제곱 검정을 이용하여 분석하려 한다.\n",
        "```\n",
        "귀무가설: 초등학교 남학생, 여학생 비율은 45%와 55%\n",
        "대립가설: 초등학교 남학생, 여학생 비율은 45%와 55%가 아님\n",
        "```"
      ],
      "metadata": {
        "id": "M4oJsSPV_NWv"
      }
    },
    {
      "cell_type": "code",
      "source": [
        "#적합도 검정\n",
        "import numpy as np\n",
        "from scipy.stats import chisquare\n",
        "\n",
        "num=np.array([90,160])\n",
        "expected = np.array([0.45,0.55])*np.sum(num)\n",
        "\n",
        "result=chisquare(num,f_exp=expected)\n",
        "print(result)"
      ],
      "metadata": {
        "colab": {
          "base_uri": "https://localhost:8080/"
        },
        "id": "jU6o0KkE-8zN",
        "outputId": "51019f76-6c81-4235-9934-6afacbf37e88"
      },
      "execution_count": null,
      "outputs": [
        {
          "output_type": "stream",
          "name": "stdout",
          "text": [
            "Power_divergenceResult(statistic=8.181818181818182, pvalue=0.004231232899758152)\n"
          ]
        }
      ]
    },
    {
      "cell_type": "code",
      "source": [
        "print(result.pvalue) #초등학교 남학생, 여학생의 비율은 45%와 55%가 아님 (귀무가설을 기각, 대립가설을 채택 )"
      ],
      "metadata": {
        "colab": {
          "base_uri": "https://localhost:8080/"
        },
        "id": "8IeA21Lj_pZG",
        "outputId": "ec859b69-7606-482e-9707-794e97aadc12"
      },
      "execution_count": null,
      "outputs": [
        {
          "output_type": "stream",
          "name": "stdout",
          "text": [
            "0.004231232899758152\n"
          ]
        }
      ]
    },
    {
      "cell_type": "markdown",
      "source": [
        "###독립성 검정\n",
        "1. 독립성 검정(Test of Independence)개념\n",
        "\n",
        "* 독립성 검정은 변수가 두 개 이상의 범주로 분할되어 있을 때 사용되며, 각 범주가 서로 독립적인지, 서로 연관성이 있는지를 검정하는 기법이다.  \n",
        "```\n",
        "예)학년(1학년,2학년,3학년)이라는 범주형 데이터(요인1)과 선호 과목(국,영,수)\n",
        "이라는 범주형 데이터(요인2)간에 서로 연관성이 있는 것인지 아니면 독립적인지를\n",
        " 판단하는 것과 같은 문제에 독립성 검정을 사용\n",
        "```\n",
        "* 독립성 검정에서의 귀무가설은 '요인1 과 요인2 는 독립적이다'로 설정한다.\n",
        "```\n",
        "예) 귀무가설 : 학년별 선호과목은 독립적\n",
        "      대립가설 : 학년별 선호과목은 독립적이지 않음\n",
        "```\n",
        "* 독립성 검정 자유도\n",
        "$$자유도=((범주\\ 1의 \\ 수) -1)\\times((범주\\ 2의\\ 수)-1)$$\n",
        "\n",
        "2. 독립성 검정 함수\n",
        "* chi2_contingency 함수는 적합도 검정에 대한 카이제곱 검정을 수행하는 함수이다.\n",
        "```\n",
        "chi2.contingency(observed)\n",
        "```\n",
        "파라미터\n",
        "  * observed : 두 개 이상의 변수를 포함하는 2차원 배열\n",
        "\n",
        "3. 독립성 검정 결과 변수\n",
        "* chi2_contingency 함수에 대한 변수는 다음과 같다.\n",
        "* 독립성 검정 결과 변수\n",
        "   * statistic : 카이제곱 통계량의 값\n",
        "   * pvalue : p-값\n",
        "   * dol : 자유도\n",
        "   * expected_freq : 기대빈도"
      ],
      "metadata": {
        "id": "6E7b95Dl9VP0"
      }
    },
    {
      "cell_type": "markdown",
      "source": [
        "####문제\n",
        "유의수준이 0.05일 때 survey 데이터 세트에서 성별에 따른 운동 빈도가 관계가 있는지를 카이제곱 검정을 이용하여 분석하려고 한다.\n",
        "\n",
        "    귀무가설 | 성별에 따른 운동 빈도는 독립\n",
        "    대립가설 | 성별에 따른 운동 빈도는 독립이 아님"
      ],
      "metadata": {
        "id": "yRwyjaGHB3Sk"
      }
    },
    {
      "cell_type": "code",
      "source": [
        "from pickle import TRUE\n",
        "import pandas as pd\n",
        "import numpy as np\n",
        "from scipy.stats import chi2_contingency\n",
        "\n",
        "survey = pd.read_csv('survey.csv', na_values=None,keep_default_na=False)\n",
        "print(survey.info())\n"
      ],
      "metadata": {
        "colab": {
          "base_uri": "https://localhost:8080/"
        },
        "id": "fuqfwXj8CnJ4",
        "outputId": "4654907c-8f2a-4f67-ab2a-148bcbd389f7"
      },
      "execution_count": null,
      "outputs": [
        {
          "output_type": "stream",
          "name": "stdout",
          "text": [
            "<class 'pandas.core.frame.DataFrame'>\n",
            "RangeIndex: 236 entries, 0 to 235\n",
            "Data columns (total 12 columns):\n",
            " #   Column  Non-Null Count  Dtype  \n",
            "---  ------  --------------  -----  \n",
            " 0   Sex     236 non-null    object \n",
            " 1   Wr.Hnd  236 non-null    object \n",
            " 2   NW.Hnd  236 non-null    object \n",
            " 3   W.Hnd   236 non-null    object \n",
            " 4   Fold    236 non-null    object \n",
            " 5   Pulse   236 non-null    object \n",
            " 6   Clap    236 non-null    object \n",
            " 7   Exer    236 non-null    object \n",
            " 8   Smoke   236 non-null    object \n",
            " 9   Height  236 non-null    object \n",
            " 10  M.I     236 non-null    object \n",
            " 11  Age     236 non-null    float64\n",
            "dtypes: float64(1), object(11)\n",
            "memory usage: 22.2+ KB\n",
            "None\n"
          ]
        }
      ]
    },
    {
      "cell_type": "code",
      "source": [
        "tb = pd.crosstab(survey['Sex'], survey['Exer'],dropna=True)\n",
        "print(tb)"
      ],
      "metadata": {
        "colab": {
          "base_uri": "https://localhost:8080/"
        },
        "id": "1yuKif8aIB49",
        "outputId": "10f5cfa4-3839-4ed3-b906-980f079ef235"
      },
      "execution_count": null,
      "outputs": [
        {
          "output_type": "stream",
          "name": "stdout",
          "text": [
            "Exer    Freq  None  Some\n",
            "Sex                     \n",
            "Female    49    11    58\n",
            "Male      65    13    40\n"
          ]
        }
      ]
    },
    {
      "cell_type": "code",
      "source": [
        "result = chi2_contingency(tb)\n",
        "print(result)"
      ],
      "metadata": {
        "colab": {
          "base_uri": "https://localhost:8080/"
        },
        "id": "wy_LWDX-Gvke",
        "outputId": "7d17ffc6-82ad-4656-c544-b9d826eb2007"
      },
      "execution_count": null,
      "outputs": [
        {
          "output_type": "stream",
          "name": "stdout",
          "text": [
            "Chi2ContingencyResult(statistic=5.718403150733978, pvalue=0.0573145033131233, dof=2, expected_freq=array([[57., 12., 49.],\n",
            "       [57., 12., 49.]]))\n"
          ]
        }
      ]
    },
    {
      "cell_type": "code",
      "source": [
        "print(result.pvalue)"
      ],
      "metadata": {
        "colab": {
          "base_uri": "https://localhost:8080/"
        },
        "id": "-c22DUL0HJoX",
        "outputId": "bd304c07-a001-4ea1-c57b-5bcabfc90d7f"
      },
      "execution_count": null,
      "outputs": [
        {
          "output_type": "stream",
          "name": "stdout",
          "text": [
            "0.0573145033131233\n"
          ]
        }
      ]
    },
    {
      "cell_type": "markdown",
      "source": [
        "###동질성 검정\n",
        "* 동질성 검정은 각각의 독립적인 부모집단으로부터 정해진 표본의 크기만큼 자료를 추출하는 경우에 관측값들이 정해진 범주 내에서 서로 동질한지(비슷하게 나타나고 있는지)여부를 검정하는 기법이다.\n",
        "      예) 남학생과 여학생 그룹에 대하여 각 그룹이 선호하는 과목이 같은지\n",
        "      여부를 판단하는 것과 같은 문제에 동질성 검정을 사용\n",
        "* 동질성 검정에서의 귀무가설은 '모집단은 동질하다'로 설정한다.\n",
        "* 동질성 검정과 독립성 검정은 개념상의 차이만 있을 뿐 계산 방식은 동일하다."
      ],
      "metadata": {
        "id": "Ihp_mB1N_64J"
      }
    }
  ]
}