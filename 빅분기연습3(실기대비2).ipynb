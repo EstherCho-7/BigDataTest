{
  "nbformat": 4,
  "nbformat_minor": 0,
  "metadata": {
    "colab": {
      "provenance": [],
      "toc_visible": true,
      "include_colab_link": true
    },
    "kernelspec": {
      "name": "python3",
      "display_name": "Python 3"
    },
    "language_info": {
      "name": "python"
    }
  },
  "cells": [
    {
      "cell_type": "markdown",
      "metadata": {
        "id": "view-in-github",
        "colab_type": "text"
      },
      "source": [
        "<a href=\"https://colab.research.google.com/github/GITSangWoo/BigDataTest/blob/main/%EB%B9%85%EB%B6%84%EA%B8%B0%EC%97%B0%EC%8A%B53(%EC%8B%A4%EA%B8%B0%EB%8C%80%EB%B9%842).ipynb\" target=\"_parent\"><img src=\"https://colab.research.google.com/assets/colab-badge.svg\" alt=\"Open In Colab\"/></a>"
      ]
    },
    {
      "cell_type": "markdown",
      "source": [
        "#분석 모형 선택"
      ],
      "metadata": {
        "id": "k6bjLjzILc8D"
      }
    },
    {
      "cell_type": "markdown",
      "source": [
        "##데이터 탐색\n",
        " 1. 데이터 탐색의 개념\n",
        "  * 데이터 탐색은 수집한 데이터를 분석하기 전에 그래프나 통계적인 방법을 이용하여 다양한 각도에서 데이터의 특징을 파악하고 자료를 직관적으로 바라보는 분석 방법이다.\n",
        "  * 데이터 탐색의 도구로는 도표, 요약 통계를 이용한다.\n",
        "\n",
        " 2. 데이터 탐색 방법\n",
        "  * 개별 데이터에 대한 탐색은 범주형, 수치형일 경우로 나누어 탐색한다."
      ],
      "metadata": {
        "id": "LgkxyHJgLhJ3"
      }
    },
    {
      "cell_type": "markdown",
      "source": [
        "### 개별 데이터 탐색\n",
        "개별 데이터는 범주형데이터, 수치형 데이터를 탐색한다.\n",
        "\n",
        "*   범주형 데이터(질적 데이터)\n",
        "    * 명목 척도와 순위 척도에 대한 데이터 탐색\n",
        "    * 빈도수, 최빈값, 비율, 백분율 등을 이용하여 데이터의 분포 특성을 중심성, 변동성 측면에서 파악\n",
        "    * 시각화는 막대형 그래프(barplot)를 주로 이용\n",
        "*   수치형 데이터(양적 데이터)\n",
        "    * 등간 척도와 비율 척도에 대한 데이터 탐색\n",
        "    * 평균, 분산, 표준편차, 첨도, 왜도 등을 이용하여 데이터의 분포 특성을 중심성, 변동성, 정규성 측면에서 파악\n",
        "    * 시각화는 박스 플롯이나 히스토그램 주로 이용\n"
      ],
      "metadata": {
        "id": "sOQGmeZ5L61d"
      }
    },
    {
      "cell_type": "markdown",
      "source": [
        "#### 범주형 데이터 - 빈도수 탐색\n",
        "value_counts 함수는 범주형 데이터에 대하여 빈도수를 탐색하는 함수이다.\n",
        "```\n",
        "pd.Series(x).value_counts(normalize,dropna)\n",
        "```\n",
        "파라미터  \n",
        " * x : 데이터\n",
        " * normalize : 빈도수 계산 여부(기본값 'False')\n",
        "   * True : 상대적인 비율 계산\n",
        "   * False : 빈도수 계산\n",
        " * dropna : 결측값 미포함하여 빈도수 계산 여부 (기본값 'True')\n",
        "   * True : NaN 값을 포함하지 않고 빈도수 계산\n",
        "   * False : NaN 값을 포함하여 빈도수 계산"
      ],
      "metadata": {
        "id": "vpyggL7WT0-6"
      }
    },
    {
      "cell_type": "code",
      "source": [
        "#빈도수 파악\n",
        "import pandas as pd\n",
        "import statsmodels.api as sm\n",
        "\n",
        "mtcars = sm.datasets.get_rdataset('mtcars').data\n",
        "print(pd.Series(mtcars['cyl']).value_counts())"
      ],
      "metadata": {
        "colab": {
          "base_uri": "https://localhost:8080/"
        },
        "id": "zyAXnmQOTz-T",
        "outputId": "7cab94f7-4c0d-4b88-a45d-22e93244077b"
      },
      "execution_count": null,
      "outputs": [
        {
          "output_type": "stream",
          "name": "stdout",
          "text": [
            "cyl\n",
            "8    14\n",
            "4    11\n",
            "6     7\n",
            "Name: count, dtype: int64\n"
          ]
        }
      ]
    },
    {
      "cell_type": "code",
      "source": [
        "mtcars"
      ],
      "metadata": {
        "colab": {
          "base_uri": "https://localhost:8080/",
          "height": 1000
        },
        "id": "RLvx01N2o9H7",
        "outputId": "59048b7a-b5f4-4f5a-80b9-f6e69ca7f2d4"
      },
      "execution_count": null,
      "outputs": [
        {
          "output_type": "execute_result",
          "data": {
            "text/plain": [
              "                      mpg  cyl   disp   hp  drat     wt   qsec  vs  am  gear  \\\n",
              "rownames                                                                       \n",
              "Mazda RX4            21.0    6  160.0  110  3.90  2.620  16.46   0   1     4   \n",
              "Mazda RX4 Wag        21.0    6  160.0  110  3.90  2.875  17.02   0   1     4   \n",
              "Datsun 710           22.8    4  108.0   93  3.85  2.320  18.61   1   1     4   \n",
              "Hornet 4 Drive       21.4    6  258.0  110  3.08  3.215  19.44   1   0     3   \n",
              "Hornet Sportabout    18.7    8  360.0  175  3.15  3.440  17.02   0   0     3   \n",
              "Valiant              18.1    6  225.0  105  2.76  3.460  20.22   1   0     3   \n",
              "Duster 360           14.3    8  360.0  245  3.21  3.570  15.84   0   0     3   \n",
              "Merc 240D            24.4    4  146.7   62  3.69  3.190  20.00   1   0     4   \n",
              "Merc 230             22.8    4  140.8   95  3.92  3.150  22.90   1   0     4   \n",
              "Merc 280             19.2    6  167.6  123  3.92  3.440  18.30   1   0     4   \n",
              "Merc 280C            17.8    6  167.6  123  3.92  3.440  18.90   1   0     4   \n",
              "Merc 450SE           16.4    8  275.8  180  3.07  4.070  17.40   0   0     3   \n",
              "Merc 450SL           17.3    8  275.8  180  3.07  3.730  17.60   0   0     3   \n",
              "Merc 450SLC          15.2    8  275.8  180  3.07  3.780  18.00   0   0     3   \n",
              "Cadillac Fleetwood   10.4    8  472.0  205  2.93  5.250  17.98   0   0     3   \n",
              "Lincoln Continental  10.4    8  460.0  215  3.00  5.424  17.82   0   0     3   \n",
              "Chrysler Imperial    14.7    8  440.0  230  3.23  5.345  17.42   0   0     3   \n",
              "Fiat 128             32.4    4   78.7   66  4.08  2.200  19.47   1   1     4   \n",
              "Honda Civic          30.4    4   75.7   52  4.93  1.615  18.52   1   1     4   \n",
              "Toyota Corolla       33.9    4   71.1   65  4.22  1.835  19.90   1   1     4   \n",
              "Toyota Corona        21.5    4  120.1   97  3.70  2.465  20.01   1   0     3   \n",
              "Dodge Challenger     15.5    8  318.0  150  2.76  3.520  16.87   0   0     3   \n",
              "AMC Javelin          15.2    8  304.0  150  3.15  3.435  17.30   0   0     3   \n",
              "Camaro Z28           13.3    8  350.0  245  3.73  3.840  15.41   0   0     3   \n",
              "Pontiac Firebird     19.2    8  400.0  175  3.08  3.845  17.05   0   0     3   \n",
              "Fiat X1-9            27.3    4   79.0   66  4.08  1.935  18.90   1   1     4   \n",
              "Porsche 914-2        26.0    4  120.3   91  4.43  2.140  16.70   0   1     5   \n",
              "Lotus Europa         30.4    4   95.1  113  3.77  1.513  16.90   1   1     5   \n",
              "Ford Pantera L       15.8    8  351.0  264  4.22  3.170  14.50   0   1     5   \n",
              "Ferrari Dino         19.7    6  145.0  175  3.62  2.770  15.50   0   1     5   \n",
              "Maserati Bora        15.0    8  301.0  335  3.54  3.570  14.60   0   1     5   \n",
              "Volvo 142E           21.4    4  121.0  109  4.11  2.780  18.60   1   1     4   \n",
              "\n",
              "                     carb  \n",
              "rownames                   \n",
              "Mazda RX4               4  \n",
              "Mazda RX4 Wag           4  \n",
              "Datsun 710              1  \n",
              "Hornet 4 Drive          1  \n",
              "Hornet Sportabout       2  \n",
              "Valiant                 1  \n",
              "Duster 360              4  \n",
              "Merc 240D               2  \n",
              "Merc 230                2  \n",
              "Merc 280                4  \n",
              "Merc 280C               4  \n",
              "Merc 450SE              3  \n",
              "Merc 450SL              3  \n",
              "Merc 450SLC             3  \n",
              "Cadillac Fleetwood      4  \n",
              "Lincoln Continental     4  \n",
              "Chrysler Imperial       4  \n",
              "Fiat 128                1  \n",
              "Honda Civic             2  \n",
              "Toyota Corolla          1  \n",
              "Toyota Corona           1  \n",
              "Dodge Challenger        2  \n",
              "AMC Javelin             2  \n",
              "Camaro Z28              4  \n",
              "Pontiac Firebird        2  \n",
              "Fiat X1-9               1  \n",
              "Porsche 914-2           2  \n",
              "Lotus Europa            2  \n",
              "Ford Pantera L          4  \n",
              "Ferrari Dino            6  \n",
              "Maserati Bora           8  \n",
              "Volvo 142E              2  "
            ],
            "text/html": [
              "\n",
              "  <div id=\"df-c4c61169-768f-4e39-b618-fe76aceaaebf\" class=\"colab-df-container\">\n",
              "    <div>\n",
              "<style scoped>\n",
              "    .dataframe tbody tr th:only-of-type {\n",
              "        vertical-align: middle;\n",
              "    }\n",
              "\n",
              "    .dataframe tbody tr th {\n",
              "        vertical-align: top;\n",
              "    }\n",
              "\n",
              "    .dataframe thead th {\n",
              "        text-align: right;\n",
              "    }\n",
              "</style>\n",
              "<table border=\"1\" class=\"dataframe\">\n",
              "  <thead>\n",
              "    <tr style=\"text-align: right;\">\n",
              "      <th></th>\n",
              "      <th>mpg</th>\n",
              "      <th>cyl</th>\n",
              "      <th>disp</th>\n",
              "      <th>hp</th>\n",
              "      <th>drat</th>\n",
              "      <th>wt</th>\n",
              "      <th>qsec</th>\n",
              "      <th>vs</th>\n",
              "      <th>am</th>\n",
              "      <th>gear</th>\n",
              "      <th>carb</th>\n",
              "    </tr>\n",
              "    <tr>\n",
              "      <th>rownames</th>\n",
              "      <th></th>\n",
              "      <th></th>\n",
              "      <th></th>\n",
              "      <th></th>\n",
              "      <th></th>\n",
              "      <th></th>\n",
              "      <th></th>\n",
              "      <th></th>\n",
              "      <th></th>\n",
              "      <th></th>\n",
              "      <th></th>\n",
              "    </tr>\n",
              "  </thead>\n",
              "  <tbody>\n",
              "    <tr>\n",
              "      <th>Mazda RX4</th>\n",
              "      <td>21.0</td>\n",
              "      <td>6</td>\n",
              "      <td>160.0</td>\n",
              "      <td>110</td>\n",
              "      <td>3.90</td>\n",
              "      <td>2.620</td>\n",
              "      <td>16.46</td>\n",
              "      <td>0</td>\n",
              "      <td>1</td>\n",
              "      <td>4</td>\n",
              "      <td>4</td>\n",
              "    </tr>\n",
              "    <tr>\n",
              "      <th>Mazda RX4 Wag</th>\n",
              "      <td>21.0</td>\n",
              "      <td>6</td>\n",
              "      <td>160.0</td>\n",
              "      <td>110</td>\n",
              "      <td>3.90</td>\n",
              "      <td>2.875</td>\n",
              "      <td>17.02</td>\n",
              "      <td>0</td>\n",
              "      <td>1</td>\n",
              "      <td>4</td>\n",
              "      <td>4</td>\n",
              "    </tr>\n",
              "    <tr>\n",
              "      <th>Datsun 710</th>\n",
              "      <td>22.8</td>\n",
              "      <td>4</td>\n",
              "      <td>108.0</td>\n",
              "      <td>93</td>\n",
              "      <td>3.85</td>\n",
              "      <td>2.320</td>\n",
              "      <td>18.61</td>\n",
              "      <td>1</td>\n",
              "      <td>1</td>\n",
              "      <td>4</td>\n",
              "      <td>1</td>\n",
              "    </tr>\n",
              "    <tr>\n",
              "      <th>Hornet 4 Drive</th>\n",
              "      <td>21.4</td>\n",
              "      <td>6</td>\n",
              "      <td>258.0</td>\n",
              "      <td>110</td>\n",
              "      <td>3.08</td>\n",
              "      <td>3.215</td>\n",
              "      <td>19.44</td>\n",
              "      <td>1</td>\n",
              "      <td>0</td>\n",
              "      <td>3</td>\n",
              "      <td>1</td>\n",
              "    </tr>\n",
              "    <tr>\n",
              "      <th>Hornet Sportabout</th>\n",
              "      <td>18.7</td>\n",
              "      <td>8</td>\n",
              "      <td>360.0</td>\n",
              "      <td>175</td>\n",
              "      <td>3.15</td>\n",
              "      <td>3.440</td>\n",
              "      <td>17.02</td>\n",
              "      <td>0</td>\n",
              "      <td>0</td>\n",
              "      <td>3</td>\n",
              "      <td>2</td>\n",
              "    </tr>\n",
              "    <tr>\n",
              "      <th>Valiant</th>\n",
              "      <td>18.1</td>\n",
              "      <td>6</td>\n",
              "      <td>225.0</td>\n",
              "      <td>105</td>\n",
              "      <td>2.76</td>\n",
              "      <td>3.460</td>\n",
              "      <td>20.22</td>\n",
              "      <td>1</td>\n",
              "      <td>0</td>\n",
              "      <td>3</td>\n",
              "      <td>1</td>\n",
              "    </tr>\n",
              "    <tr>\n",
              "      <th>Duster 360</th>\n",
              "      <td>14.3</td>\n",
              "      <td>8</td>\n",
              "      <td>360.0</td>\n",
              "      <td>245</td>\n",
              "      <td>3.21</td>\n",
              "      <td>3.570</td>\n",
              "      <td>15.84</td>\n",
              "      <td>0</td>\n",
              "      <td>0</td>\n",
              "      <td>3</td>\n",
              "      <td>4</td>\n",
              "    </tr>\n",
              "    <tr>\n",
              "      <th>Merc 240D</th>\n",
              "      <td>24.4</td>\n",
              "      <td>4</td>\n",
              "      <td>146.7</td>\n",
              "      <td>62</td>\n",
              "      <td>3.69</td>\n",
              "      <td>3.190</td>\n",
              "      <td>20.00</td>\n",
              "      <td>1</td>\n",
              "      <td>0</td>\n",
              "      <td>4</td>\n",
              "      <td>2</td>\n",
              "    </tr>\n",
              "    <tr>\n",
              "      <th>Merc 230</th>\n",
              "      <td>22.8</td>\n",
              "      <td>4</td>\n",
              "      <td>140.8</td>\n",
              "      <td>95</td>\n",
              "      <td>3.92</td>\n",
              "      <td>3.150</td>\n",
              "      <td>22.90</td>\n",
              "      <td>1</td>\n",
              "      <td>0</td>\n",
              "      <td>4</td>\n",
              "      <td>2</td>\n",
              "    </tr>\n",
              "    <tr>\n",
              "      <th>Merc 280</th>\n",
              "      <td>19.2</td>\n",
              "      <td>6</td>\n",
              "      <td>167.6</td>\n",
              "      <td>123</td>\n",
              "      <td>3.92</td>\n",
              "      <td>3.440</td>\n",
              "      <td>18.30</td>\n",
              "      <td>1</td>\n",
              "      <td>0</td>\n",
              "      <td>4</td>\n",
              "      <td>4</td>\n",
              "    </tr>\n",
              "    <tr>\n",
              "      <th>Merc 280C</th>\n",
              "      <td>17.8</td>\n",
              "      <td>6</td>\n",
              "      <td>167.6</td>\n",
              "      <td>123</td>\n",
              "      <td>3.92</td>\n",
              "      <td>3.440</td>\n",
              "      <td>18.90</td>\n",
              "      <td>1</td>\n",
              "      <td>0</td>\n",
              "      <td>4</td>\n",
              "      <td>4</td>\n",
              "    </tr>\n",
              "    <tr>\n",
              "      <th>Merc 450SE</th>\n",
              "      <td>16.4</td>\n",
              "      <td>8</td>\n",
              "      <td>275.8</td>\n",
              "      <td>180</td>\n",
              "      <td>3.07</td>\n",
              "      <td>4.070</td>\n",
              "      <td>17.40</td>\n",
              "      <td>0</td>\n",
              "      <td>0</td>\n",
              "      <td>3</td>\n",
              "      <td>3</td>\n",
              "    </tr>\n",
              "    <tr>\n",
              "      <th>Merc 450SL</th>\n",
              "      <td>17.3</td>\n",
              "      <td>8</td>\n",
              "      <td>275.8</td>\n",
              "      <td>180</td>\n",
              "      <td>3.07</td>\n",
              "      <td>3.730</td>\n",
              "      <td>17.60</td>\n",
              "      <td>0</td>\n",
              "      <td>0</td>\n",
              "      <td>3</td>\n",
              "      <td>3</td>\n",
              "    </tr>\n",
              "    <tr>\n",
              "      <th>Merc 450SLC</th>\n",
              "      <td>15.2</td>\n",
              "      <td>8</td>\n",
              "      <td>275.8</td>\n",
              "      <td>180</td>\n",
              "      <td>3.07</td>\n",
              "      <td>3.780</td>\n",
              "      <td>18.00</td>\n",
              "      <td>0</td>\n",
              "      <td>0</td>\n",
              "      <td>3</td>\n",
              "      <td>3</td>\n",
              "    </tr>\n",
              "    <tr>\n",
              "      <th>Cadillac Fleetwood</th>\n",
              "      <td>10.4</td>\n",
              "      <td>8</td>\n",
              "      <td>472.0</td>\n",
              "      <td>205</td>\n",
              "      <td>2.93</td>\n",
              "      <td>5.250</td>\n",
              "      <td>17.98</td>\n",
              "      <td>0</td>\n",
              "      <td>0</td>\n",
              "      <td>3</td>\n",
              "      <td>4</td>\n",
              "    </tr>\n",
              "    <tr>\n",
              "      <th>Lincoln Continental</th>\n",
              "      <td>10.4</td>\n",
              "      <td>8</td>\n",
              "      <td>460.0</td>\n",
              "      <td>215</td>\n",
              "      <td>3.00</td>\n",
              "      <td>5.424</td>\n",
              "      <td>17.82</td>\n",
              "      <td>0</td>\n",
              "      <td>0</td>\n",
              "      <td>3</td>\n",
              "      <td>4</td>\n",
              "    </tr>\n",
              "    <tr>\n",
              "      <th>Chrysler Imperial</th>\n",
              "      <td>14.7</td>\n",
              "      <td>8</td>\n",
              "      <td>440.0</td>\n",
              "      <td>230</td>\n",
              "      <td>3.23</td>\n",
              "      <td>5.345</td>\n",
              "      <td>17.42</td>\n",
              "      <td>0</td>\n",
              "      <td>0</td>\n",
              "      <td>3</td>\n",
              "      <td>4</td>\n",
              "    </tr>\n",
              "    <tr>\n",
              "      <th>Fiat 128</th>\n",
              "      <td>32.4</td>\n",
              "      <td>4</td>\n",
              "      <td>78.7</td>\n",
              "      <td>66</td>\n",
              "      <td>4.08</td>\n",
              "      <td>2.200</td>\n",
              "      <td>19.47</td>\n",
              "      <td>1</td>\n",
              "      <td>1</td>\n",
              "      <td>4</td>\n",
              "      <td>1</td>\n",
              "    </tr>\n",
              "    <tr>\n",
              "      <th>Honda Civic</th>\n",
              "      <td>30.4</td>\n",
              "      <td>4</td>\n",
              "      <td>75.7</td>\n",
              "      <td>52</td>\n",
              "      <td>4.93</td>\n",
              "      <td>1.615</td>\n",
              "      <td>18.52</td>\n",
              "      <td>1</td>\n",
              "      <td>1</td>\n",
              "      <td>4</td>\n",
              "      <td>2</td>\n",
              "    </tr>\n",
              "    <tr>\n",
              "      <th>Toyota Corolla</th>\n",
              "      <td>33.9</td>\n",
              "      <td>4</td>\n",
              "      <td>71.1</td>\n",
              "      <td>65</td>\n",
              "      <td>4.22</td>\n",
              "      <td>1.835</td>\n",
              "      <td>19.90</td>\n",
              "      <td>1</td>\n",
              "      <td>1</td>\n",
              "      <td>4</td>\n",
              "      <td>1</td>\n",
              "    </tr>\n",
              "    <tr>\n",
              "      <th>Toyota Corona</th>\n",
              "      <td>21.5</td>\n",
              "      <td>4</td>\n",
              "      <td>120.1</td>\n",
              "      <td>97</td>\n",
              "      <td>3.70</td>\n",
              "      <td>2.465</td>\n",
              "      <td>20.01</td>\n",
              "      <td>1</td>\n",
              "      <td>0</td>\n",
              "      <td>3</td>\n",
              "      <td>1</td>\n",
              "    </tr>\n",
              "    <tr>\n",
              "      <th>Dodge Challenger</th>\n",
              "      <td>15.5</td>\n",
              "      <td>8</td>\n",
              "      <td>318.0</td>\n",
              "      <td>150</td>\n",
              "      <td>2.76</td>\n",
              "      <td>3.520</td>\n",
              "      <td>16.87</td>\n",
              "      <td>0</td>\n",
              "      <td>0</td>\n",
              "      <td>3</td>\n",
              "      <td>2</td>\n",
              "    </tr>\n",
              "    <tr>\n",
              "      <th>AMC Javelin</th>\n",
              "      <td>15.2</td>\n",
              "      <td>8</td>\n",
              "      <td>304.0</td>\n",
              "      <td>150</td>\n",
              "      <td>3.15</td>\n",
              "      <td>3.435</td>\n",
              "      <td>17.30</td>\n",
              "      <td>0</td>\n",
              "      <td>0</td>\n",
              "      <td>3</td>\n",
              "      <td>2</td>\n",
              "    </tr>\n",
              "    <tr>\n",
              "      <th>Camaro Z28</th>\n",
              "      <td>13.3</td>\n",
              "      <td>8</td>\n",
              "      <td>350.0</td>\n",
              "      <td>245</td>\n",
              "      <td>3.73</td>\n",
              "      <td>3.840</td>\n",
              "      <td>15.41</td>\n",
              "      <td>0</td>\n",
              "      <td>0</td>\n",
              "      <td>3</td>\n",
              "      <td>4</td>\n",
              "    </tr>\n",
              "    <tr>\n",
              "      <th>Pontiac Firebird</th>\n",
              "      <td>19.2</td>\n",
              "      <td>8</td>\n",
              "      <td>400.0</td>\n",
              "      <td>175</td>\n",
              "      <td>3.08</td>\n",
              "      <td>3.845</td>\n",
              "      <td>17.05</td>\n",
              "      <td>0</td>\n",
              "      <td>0</td>\n",
              "      <td>3</td>\n",
              "      <td>2</td>\n",
              "    </tr>\n",
              "    <tr>\n",
              "      <th>Fiat X1-9</th>\n",
              "      <td>27.3</td>\n",
              "      <td>4</td>\n",
              "      <td>79.0</td>\n",
              "      <td>66</td>\n",
              "      <td>4.08</td>\n",
              "      <td>1.935</td>\n",
              "      <td>18.90</td>\n",
              "      <td>1</td>\n",
              "      <td>1</td>\n",
              "      <td>4</td>\n",
              "      <td>1</td>\n",
              "    </tr>\n",
              "    <tr>\n",
              "      <th>Porsche 914-2</th>\n",
              "      <td>26.0</td>\n",
              "      <td>4</td>\n",
              "      <td>120.3</td>\n",
              "      <td>91</td>\n",
              "      <td>4.43</td>\n",
              "      <td>2.140</td>\n",
              "      <td>16.70</td>\n",
              "      <td>0</td>\n",
              "      <td>1</td>\n",
              "      <td>5</td>\n",
              "      <td>2</td>\n",
              "    </tr>\n",
              "    <tr>\n",
              "      <th>Lotus Europa</th>\n",
              "      <td>30.4</td>\n",
              "      <td>4</td>\n",
              "      <td>95.1</td>\n",
              "      <td>113</td>\n",
              "      <td>3.77</td>\n",
              "      <td>1.513</td>\n",
              "      <td>16.90</td>\n",
              "      <td>1</td>\n",
              "      <td>1</td>\n",
              "      <td>5</td>\n",
              "      <td>2</td>\n",
              "    </tr>\n",
              "    <tr>\n",
              "      <th>Ford Pantera L</th>\n",
              "      <td>15.8</td>\n",
              "      <td>8</td>\n",
              "      <td>351.0</td>\n",
              "      <td>264</td>\n",
              "      <td>4.22</td>\n",
              "      <td>3.170</td>\n",
              "      <td>14.50</td>\n",
              "      <td>0</td>\n",
              "      <td>1</td>\n",
              "      <td>5</td>\n",
              "      <td>4</td>\n",
              "    </tr>\n",
              "    <tr>\n",
              "      <th>Ferrari Dino</th>\n",
              "      <td>19.7</td>\n",
              "      <td>6</td>\n",
              "      <td>145.0</td>\n",
              "      <td>175</td>\n",
              "      <td>3.62</td>\n",
              "      <td>2.770</td>\n",
              "      <td>15.50</td>\n",
              "      <td>0</td>\n",
              "      <td>1</td>\n",
              "      <td>5</td>\n",
              "      <td>6</td>\n",
              "    </tr>\n",
              "    <tr>\n",
              "      <th>Maserati Bora</th>\n",
              "      <td>15.0</td>\n",
              "      <td>8</td>\n",
              "      <td>301.0</td>\n",
              "      <td>335</td>\n",
              "      <td>3.54</td>\n",
              "      <td>3.570</td>\n",
              "      <td>14.60</td>\n",
              "      <td>0</td>\n",
              "      <td>1</td>\n",
              "      <td>5</td>\n",
              "      <td>8</td>\n",
              "    </tr>\n",
              "    <tr>\n",
              "      <th>Volvo 142E</th>\n",
              "      <td>21.4</td>\n",
              "      <td>4</td>\n",
              "      <td>121.0</td>\n",
              "      <td>109</td>\n",
              "      <td>4.11</td>\n",
              "      <td>2.780</td>\n",
              "      <td>18.60</td>\n",
              "      <td>1</td>\n",
              "      <td>1</td>\n",
              "      <td>4</td>\n",
              "      <td>2</td>\n",
              "    </tr>\n",
              "  </tbody>\n",
              "</table>\n",
              "</div>\n",
              "    <div class=\"colab-df-buttons\">\n",
              "\n",
              "  <div class=\"colab-df-container\">\n",
              "    <button class=\"colab-df-convert\" onclick=\"convertToInteractive('df-c4c61169-768f-4e39-b618-fe76aceaaebf')\"\n",
              "            title=\"Convert this dataframe to an interactive table.\"\n",
              "            style=\"display:none;\">\n",
              "\n",
              "  <svg xmlns=\"http://www.w3.org/2000/svg\" height=\"24px\" viewBox=\"0 -960 960 960\">\n",
              "    <path d=\"M120-120v-720h720v720H120Zm60-500h600v-160H180v160Zm220 220h160v-160H400v160Zm0 220h160v-160H400v160ZM180-400h160v-160H180v160Zm440 0h160v-160H620v160ZM180-180h160v-160H180v160Zm440 0h160v-160H620v160Z\"/>\n",
              "  </svg>\n",
              "    </button>\n",
              "\n",
              "  <style>\n",
              "    .colab-df-container {\n",
              "      display:flex;\n",
              "      gap: 12px;\n",
              "    }\n",
              "\n",
              "    .colab-df-convert {\n",
              "      background-color: #E8F0FE;\n",
              "      border: none;\n",
              "      border-radius: 50%;\n",
              "      cursor: pointer;\n",
              "      display: none;\n",
              "      fill: #1967D2;\n",
              "      height: 32px;\n",
              "      padding: 0 0 0 0;\n",
              "      width: 32px;\n",
              "    }\n",
              "\n",
              "    .colab-df-convert:hover {\n",
              "      background-color: #E2EBFA;\n",
              "      box-shadow: 0px 1px 2px rgba(60, 64, 67, 0.3), 0px 1px 3px 1px rgba(60, 64, 67, 0.15);\n",
              "      fill: #174EA6;\n",
              "    }\n",
              "\n",
              "    .colab-df-buttons div {\n",
              "      margin-bottom: 4px;\n",
              "    }\n",
              "\n",
              "    [theme=dark] .colab-df-convert {\n",
              "      background-color: #3B4455;\n",
              "      fill: #D2E3FC;\n",
              "    }\n",
              "\n",
              "    [theme=dark] .colab-df-convert:hover {\n",
              "      background-color: #434B5C;\n",
              "      box-shadow: 0px 1px 3px 1px rgba(0, 0, 0, 0.15);\n",
              "      filter: drop-shadow(0px 1px 2px rgba(0, 0, 0, 0.3));\n",
              "      fill: #FFFFFF;\n",
              "    }\n",
              "  </style>\n",
              "\n",
              "    <script>\n",
              "      const buttonEl =\n",
              "        document.querySelector('#df-c4c61169-768f-4e39-b618-fe76aceaaebf button.colab-df-convert');\n",
              "      buttonEl.style.display =\n",
              "        google.colab.kernel.accessAllowed ? 'block' : 'none';\n",
              "\n",
              "      async function convertToInteractive(key) {\n",
              "        const element = document.querySelector('#df-c4c61169-768f-4e39-b618-fe76aceaaebf');\n",
              "        const dataTable =\n",
              "          await google.colab.kernel.invokeFunction('convertToInteractive',\n",
              "                                                    [key], {});\n",
              "        if (!dataTable) return;\n",
              "\n",
              "        const docLinkHtml = 'Like what you see? Visit the ' +\n",
              "          '<a target=\"_blank\" href=https://colab.research.google.com/notebooks/data_table.ipynb>data table notebook</a>'\n",
              "          + ' to learn more about interactive tables.';\n",
              "        element.innerHTML = '';\n",
              "        dataTable['output_type'] = 'display_data';\n",
              "        await google.colab.output.renderOutput(dataTable, element);\n",
              "        const docLink = document.createElement('div');\n",
              "        docLink.innerHTML = docLinkHtml;\n",
              "        element.appendChild(docLink);\n",
              "      }\n",
              "    </script>\n",
              "  </div>\n",
              "\n",
              "\n",
              "<div id=\"df-74d5a134-0d58-4d01-9a53-a15862550281\">\n",
              "  <button class=\"colab-df-quickchart\" onclick=\"quickchart('df-74d5a134-0d58-4d01-9a53-a15862550281')\"\n",
              "            title=\"Suggest charts\"\n",
              "            style=\"display:none;\">\n",
              "\n",
              "<svg xmlns=\"http://www.w3.org/2000/svg\" height=\"24px\"viewBox=\"0 0 24 24\"\n",
              "     width=\"24px\">\n",
              "    <g>\n",
              "        <path d=\"M19 3H5c-1.1 0-2 .9-2 2v14c0 1.1.9 2 2 2h14c1.1 0 2-.9 2-2V5c0-1.1-.9-2-2-2zM9 17H7v-7h2v7zm4 0h-2V7h2v10zm4 0h-2v-4h2v4z\"/>\n",
              "    </g>\n",
              "</svg>\n",
              "  </button>\n",
              "\n",
              "<style>\n",
              "  .colab-df-quickchart {\n",
              "      --bg-color: #E8F0FE;\n",
              "      --fill-color: #1967D2;\n",
              "      --hover-bg-color: #E2EBFA;\n",
              "      --hover-fill-color: #174EA6;\n",
              "      --disabled-fill-color: #AAA;\n",
              "      --disabled-bg-color: #DDD;\n",
              "  }\n",
              "\n",
              "  [theme=dark] .colab-df-quickchart {\n",
              "      --bg-color: #3B4455;\n",
              "      --fill-color: #D2E3FC;\n",
              "      --hover-bg-color: #434B5C;\n",
              "      --hover-fill-color: #FFFFFF;\n",
              "      --disabled-bg-color: #3B4455;\n",
              "      --disabled-fill-color: #666;\n",
              "  }\n",
              "\n",
              "  .colab-df-quickchart {\n",
              "    background-color: var(--bg-color);\n",
              "    border: none;\n",
              "    border-radius: 50%;\n",
              "    cursor: pointer;\n",
              "    display: none;\n",
              "    fill: var(--fill-color);\n",
              "    height: 32px;\n",
              "    padding: 0;\n",
              "    width: 32px;\n",
              "  }\n",
              "\n",
              "  .colab-df-quickchart:hover {\n",
              "    background-color: var(--hover-bg-color);\n",
              "    box-shadow: 0 1px 2px rgba(60, 64, 67, 0.3), 0 1px 3px 1px rgba(60, 64, 67, 0.15);\n",
              "    fill: var(--button-hover-fill-color);\n",
              "  }\n",
              "\n",
              "  .colab-df-quickchart-complete:disabled,\n",
              "  .colab-df-quickchart-complete:disabled:hover {\n",
              "    background-color: var(--disabled-bg-color);\n",
              "    fill: var(--disabled-fill-color);\n",
              "    box-shadow: none;\n",
              "  }\n",
              "\n",
              "  .colab-df-spinner {\n",
              "    border: 2px solid var(--fill-color);\n",
              "    border-color: transparent;\n",
              "    border-bottom-color: var(--fill-color);\n",
              "    animation:\n",
              "      spin 1s steps(1) infinite;\n",
              "  }\n",
              "\n",
              "  @keyframes spin {\n",
              "    0% {\n",
              "      border-color: transparent;\n",
              "      border-bottom-color: var(--fill-color);\n",
              "      border-left-color: var(--fill-color);\n",
              "    }\n",
              "    20% {\n",
              "      border-color: transparent;\n",
              "      border-left-color: var(--fill-color);\n",
              "      border-top-color: var(--fill-color);\n",
              "    }\n",
              "    30% {\n",
              "      border-color: transparent;\n",
              "      border-left-color: var(--fill-color);\n",
              "      border-top-color: var(--fill-color);\n",
              "      border-right-color: var(--fill-color);\n",
              "    }\n",
              "    40% {\n",
              "      border-color: transparent;\n",
              "      border-right-color: var(--fill-color);\n",
              "      border-top-color: var(--fill-color);\n",
              "    }\n",
              "    60% {\n",
              "      border-color: transparent;\n",
              "      border-right-color: var(--fill-color);\n",
              "    }\n",
              "    80% {\n",
              "      border-color: transparent;\n",
              "      border-right-color: var(--fill-color);\n",
              "      border-bottom-color: var(--fill-color);\n",
              "    }\n",
              "    90% {\n",
              "      border-color: transparent;\n",
              "      border-bottom-color: var(--fill-color);\n",
              "    }\n",
              "  }\n",
              "</style>\n",
              "\n",
              "  <script>\n",
              "    async function quickchart(key) {\n",
              "      const quickchartButtonEl =\n",
              "        document.querySelector('#' + key + ' button');\n",
              "      quickchartButtonEl.disabled = true;  // To prevent multiple clicks.\n",
              "      quickchartButtonEl.classList.add('colab-df-spinner');\n",
              "      try {\n",
              "        const charts = await google.colab.kernel.invokeFunction(\n",
              "            'suggestCharts', [key], {});\n",
              "      } catch (error) {\n",
              "        console.error('Error during call to suggestCharts:', error);\n",
              "      }\n",
              "      quickchartButtonEl.classList.remove('colab-df-spinner');\n",
              "      quickchartButtonEl.classList.add('colab-df-quickchart-complete');\n",
              "    }\n",
              "    (() => {\n",
              "      let quickchartButtonEl =\n",
              "        document.querySelector('#df-74d5a134-0d58-4d01-9a53-a15862550281 button');\n",
              "      quickchartButtonEl.style.display =\n",
              "        google.colab.kernel.accessAllowed ? 'block' : 'none';\n",
              "    })();\n",
              "  </script>\n",
              "</div>\n",
              "\n",
              "  <div id=\"id_cb5a468c-c489-447b-95ed-fe25a792cdad\">\n",
              "    <style>\n",
              "      .colab-df-generate {\n",
              "        background-color: #E8F0FE;\n",
              "        border: none;\n",
              "        border-radius: 50%;\n",
              "        cursor: pointer;\n",
              "        display: none;\n",
              "        fill: #1967D2;\n",
              "        height: 32px;\n",
              "        padding: 0 0 0 0;\n",
              "        width: 32px;\n",
              "      }\n",
              "\n",
              "      .colab-df-generate:hover {\n",
              "        background-color: #E2EBFA;\n",
              "        box-shadow: 0px 1px 2px rgba(60, 64, 67, 0.3), 0px 1px 3px 1px rgba(60, 64, 67, 0.15);\n",
              "        fill: #174EA6;\n",
              "      }\n",
              "\n",
              "      [theme=dark] .colab-df-generate {\n",
              "        background-color: #3B4455;\n",
              "        fill: #D2E3FC;\n",
              "      }\n",
              "\n",
              "      [theme=dark] .colab-df-generate:hover {\n",
              "        background-color: #434B5C;\n",
              "        box-shadow: 0px 1px 3px 1px rgba(0, 0, 0, 0.15);\n",
              "        filter: drop-shadow(0px 1px 2px rgba(0, 0, 0, 0.3));\n",
              "        fill: #FFFFFF;\n",
              "      }\n",
              "    </style>\n",
              "    <button class=\"colab-df-generate\" onclick=\"generateWithVariable('mtcars')\"\n",
              "            title=\"Generate code using this dataframe.\"\n",
              "            style=\"display:none;\">\n",
              "\n",
              "  <svg xmlns=\"http://www.w3.org/2000/svg\" height=\"24px\"viewBox=\"0 0 24 24\"\n",
              "       width=\"24px\">\n",
              "    <path d=\"M7,19H8.4L18.45,9,17,7.55,7,17.6ZM5,21V16.75L18.45,3.32a2,2,0,0,1,2.83,0l1.4,1.43a1.91,1.91,0,0,1,.58,1.4,1.91,1.91,0,0,1-.58,1.4L9.25,21ZM18.45,9,17,7.55Zm-12,3A5.31,5.31,0,0,0,4.9,8.1,5.31,5.31,0,0,0,1,6.5,5.31,5.31,0,0,0,4.9,4.9,5.31,5.31,0,0,0,6.5,1,5.31,5.31,0,0,0,8.1,4.9,5.31,5.31,0,0,0,12,6.5,5.46,5.46,0,0,0,6.5,12Z\"/>\n",
              "  </svg>\n",
              "    </button>\n",
              "    <script>\n",
              "      (() => {\n",
              "      const buttonEl =\n",
              "        document.querySelector('#id_cb5a468c-c489-447b-95ed-fe25a792cdad button.colab-df-generate');\n",
              "      buttonEl.style.display =\n",
              "        google.colab.kernel.accessAllowed ? 'block' : 'none';\n",
              "\n",
              "      buttonEl.onclick = () => {\n",
              "        google.colab.notebook.generateWithVariable('mtcars');\n",
              "      }\n",
              "      })();\n",
              "    </script>\n",
              "  </div>\n",
              "\n",
              "    </div>\n",
              "  </div>\n"
            ],
            "application/vnd.google.colaboratory.intrinsic+json": {
              "type": "dataframe",
              "variable_name": "mtcars",
              "summary": "{\n  \"name\": \"mtcars\",\n  \"rows\": 32,\n  \"fields\": [\n    {\n      \"column\": \"rownames\",\n      \"properties\": {\n        \"dtype\": \"string\",\n        \"num_unique_values\": 32,\n        \"samples\": [\n          \"Ferrari Dino\",\n          \"Lincoln Continental\",\n          \"Pontiac Firebird\"\n        ],\n        \"semantic_type\": \"\",\n        \"description\": \"\"\n      }\n    },\n    {\n      \"column\": \"mpg\",\n      \"properties\": {\n        \"dtype\": \"number\",\n        \"std\": 6.026948052089104,\n        \"min\": 10.4,\n        \"max\": 33.9,\n        \"num_unique_values\": 25,\n        \"samples\": [\n          17.8,\n          33.9,\n          21.0\n        ],\n        \"semantic_type\": \"\",\n        \"description\": \"\"\n      }\n    },\n    {\n      \"column\": \"cyl\",\n      \"properties\": {\n        \"dtype\": \"number\",\n        \"std\": 1,\n        \"min\": 4,\n        \"max\": 8,\n        \"num_unique_values\": 3,\n        \"samples\": [\n          6,\n          4,\n          8\n        ],\n        \"semantic_type\": \"\",\n        \"description\": \"\"\n      }\n    },\n    {\n      \"column\": \"disp\",\n      \"properties\": {\n        \"dtype\": \"number\",\n        \"std\": 123.93869383138194,\n        \"min\": 71.1,\n        \"max\": 472.0,\n        \"num_unique_values\": 27,\n        \"samples\": [\n          275.8,\n          75.7,\n          472.0\n        ],\n        \"semantic_type\": \"\",\n        \"description\": \"\"\n      }\n    },\n    {\n      \"column\": \"hp\",\n      \"properties\": {\n        \"dtype\": \"number\",\n        \"std\": 68,\n        \"min\": 52,\n        \"max\": 335,\n        \"num_unique_values\": 22,\n        \"samples\": [\n          110,\n          52,\n          180\n        ],\n        \"semantic_type\": \"\",\n        \"description\": \"\"\n      }\n    },\n    {\n      \"column\": \"drat\",\n      \"properties\": {\n        \"dtype\": \"number\",\n        \"std\": 0.5346787360709715,\n        \"min\": 2.76,\n        \"max\": 4.93,\n        \"num_unique_values\": 22,\n        \"samples\": [\n          3.9,\n          4.93,\n          3.07\n        ],\n        \"semantic_type\": \"\",\n        \"description\": \"\"\n      }\n    },\n    {\n      \"column\": \"wt\",\n      \"properties\": {\n        \"dtype\": \"number\",\n        \"std\": 0.9784574429896966,\n        \"min\": 1.513,\n        \"max\": 5.424,\n        \"num_unique_values\": 29,\n        \"samples\": [\n          2.77,\n          1.615,\n          5.25\n        ],\n        \"semantic_type\": \"\",\n        \"description\": \"\"\n      }\n    },\n    {\n      \"column\": \"qsec\",\n      \"properties\": {\n        \"dtype\": \"number\",\n        \"std\": 1.7869432360968431,\n        \"min\": 14.5,\n        \"max\": 22.9,\n        \"num_unique_values\": 30,\n        \"samples\": [\n          15.5,\n          17.42,\n          17.05\n        ],\n        \"semantic_type\": \"\",\n        \"description\": \"\"\n      }\n    },\n    {\n      \"column\": \"vs\",\n      \"properties\": {\n        \"dtype\": \"number\",\n        \"std\": 0,\n        \"min\": 0,\n        \"max\": 1,\n        \"num_unique_values\": 2,\n        \"samples\": [\n          1,\n          0\n        ],\n        \"semantic_type\": \"\",\n        \"description\": \"\"\n      }\n    },\n    {\n      \"column\": \"am\",\n      \"properties\": {\n        \"dtype\": \"number\",\n        \"std\": 0,\n        \"min\": 0,\n        \"max\": 1,\n        \"num_unique_values\": 2,\n        \"samples\": [\n          0,\n          1\n        ],\n        \"semantic_type\": \"\",\n        \"description\": \"\"\n      }\n    },\n    {\n      \"column\": \"gear\",\n      \"properties\": {\n        \"dtype\": \"number\",\n        \"std\": 0,\n        \"min\": 3,\n        \"max\": 5,\n        \"num_unique_values\": 3,\n        \"samples\": [\n          4,\n          3\n        ],\n        \"semantic_type\": \"\",\n        \"description\": \"\"\n      }\n    },\n    {\n      \"column\": \"carb\",\n      \"properties\": {\n        \"dtype\": \"number\",\n        \"std\": 1,\n        \"min\": 1,\n        \"max\": 8,\n        \"num_unique_values\": 6,\n        \"samples\": [\n          4,\n          1\n        ],\n        \"semantic_type\": \"\",\n        \"description\": \"\"\n      }\n    }\n  ]\n}"
            }
          },
          "metadata": {},
          "execution_count": 4
        }
      ]
    },
    {
      "cell_type": "markdown",
      "source": [
        "#### 수치형 데이터\n",
        " * 요약 통계량을 탐색할 수 있는 함수는 describe 함수를 주로 사용한다.\n",
        " * describe함수는 최솟값, 제1사분위수, 중위수, 평균, 제3사분위수, 최댓값 등의 요약 통계량을 제공하는 함수이다.\n",
        " ```\n",
        " describe(object)\n",
        " ```\n",
        " 파라미터\n",
        "  * object : 요약 통계량을 위한 데이터\n",
        "  "
      ],
      "metadata": {
        "id": "2u4F9gnMpJBx"
      }
    },
    {
      "cell_type": "code",
      "source": [
        "# describe 함수\n",
        "import statsmodels.api as sm\n",
        "\n",
        "mtcars = sm.datasets.get_rdataset('mtcars').data\n",
        "print(mtcars['wt'].describe())"
      ],
      "metadata": {
        "colab": {
          "base_uri": "https://localhost:8080/"
        },
        "id": "3Rp3Q6-yqJ6g",
        "outputId": "096c1ab4-42cf-4521-f216-b4cb9fbf084e"
      },
      "execution_count": null,
      "outputs": [
        {
          "output_type": "stream",
          "name": "stdout",
          "text": [
            "count    32.000000\n",
            "mean      3.217250\n",
            "std       0.978457\n",
            "min       1.513000\n",
            "25%       2.581250\n",
            "50%       3.325000\n",
            "75%       3.610000\n",
            "max       5.424000\n",
            "Name: wt, dtype: float64\n"
          ]
        }
      ]
    },
    {
      "cell_type": "markdown",
      "source": [
        "### 다차원 데이터 탐색\n",
        "주어진 데이터의 조합에 따라 범주형-범주형, 수치형-수치형, 범주형-수치형 데이터를 탐색하는 방법이 있다.\n",
        "\n",
        "데이터 조합\n",
        " * 범주형 - 범주형 : 빈도수와 비율을 활용한 교차 빈도, 비율, 백분율 분석 등을 활용하여 데이터 간의 연관성을 분석\n",
        " * 수치형 - 수치형 : 피어슨(Pearson)상관계수를 통하여 방향과 강도 파악\n",
        " * 범주형 - 수치형 : 범주형 데이터의 항목들을 그룹으로 간주하고 각 그룹에 따라 수치형 변수의 기술 통계량 차이를 상호 비교\n"
      ],
      "metadata": {
        "id": "ZBFXSWv-s0BT"
      }
    },
    {
      "cell_type": "markdown",
      "source": [],
      "metadata": {
        "id": "o69h0Du4t7D3"
      }
    },
    {
      "cell_type": "markdown",
      "source": [
        "#### 범주형 - 범주형 데이터 탐색\n",
        " * 범주형 - 범주형 변수의 데이터 탐색에는 빈도수와 비율을 활용하여 데이터를 탐색한다.\n",
        " * crosstab 함수는 교차표는 두 개 이상의 범주형 변수 간의 관계를 요약하여 표 형태로 나타내는 함수이다.\n",
        "\n",
        " ```\n",
        " pd.crosstab(index, columns, rownames, colnames)\n",
        " ```\n",
        " 파라미터\n",
        "  * index : 교차표의 행 인덱스로 사용할 데이터\n",
        "  * columns : 교차표의 열 인덱스로 사용할 데이터\n",
        "  * rownames: 교차표의 행 이름으로 사용할 이름 배열\n",
        "  * colnames: 교차표의 열 이름으로 사용할 이름 배열"
      ],
      "metadata": {
        "id": "JTv0J1Jgt7E_"
      }
    },
    {
      "cell_type": "code",
      "source": [
        "#crosstab 함수를 이용한 빈도 탐색\n",
        "\n",
        "import pandas as pd\n",
        "import statsmodels.api as sm\n",
        "\n",
        "mtcars = sm.datasets.get_rdataset('mtcars').data\n",
        "print(pd.crosstab(mtcars['am'],mtcars['cyl']))"
      ],
      "metadata": {
        "colab": {
          "base_uri": "https://localhost:8080/"
        },
        "id": "nFtkvbCF-bFT",
        "outputId": "b9ed2a6f-18c9-4e72-9bf0-29d8439539c5"
      },
      "execution_count": null,
      "outputs": [
        {
          "output_type": "stream",
          "name": "stdout",
          "text": [
            "cyl  4  6   8\n",
            "am           \n",
            "0    3  4  12\n",
            "1    8  3   2\n"
          ]
        }
      ]
    },
    {
      "cell_type": "markdown",
      "source": [
        "#### 수치형 - 수치형 데이터 탐색\n",
        " * 수치형 - 수치형 데이터는 상관계수는 변수 간의 상관관계를 파악한다.\n",
        " * 수치형 데이터 간의 상관관계는 피어슨 상관계수를 이용한다.\n",
        " * 상관계수에 따른 상관 정도는 다음과 같다.\n",
        "\n",
        " *상관계수(r)와 상관 정도\n",
        "\n",
        "  * 0.7~1 : 강한 양의 선형관계\n",
        "  * 0.3~0.7 : 뚜렷한 양의 선형관계\n",
        "  * 0.1~0.3 : 약한 양의 선형관계\n",
        "  * -0.1 ~ 0.1 : 거의 무시될 수 있는 선형관계\n",
        "  * -0.3 ~ -0.1 : 약한 음의 선형관계\n",
        "  * -0.7 ~ -0.3 : 뚜렷한 음의 선형관계\n",
        "  * -1 ~ -0.7 : 강한 음의 선형관계\n",
        " * 상관계수는 corr함수를 사용하여 구할 수 있다.\n",
        " ```\n",
        " x.corr(y,method)\n",
        " ```\n",
        " 파라미터\n",
        "  * x : 상관 관계를 계산하기 위한 X 에 해당하는 대상 데이터\n",
        "  * y : 상관 관계를 계산하기 위한 Y 에 해당하는 대상 데이터\n",
        "  * method : 상관계수 종류를 선택 (기본값 'pearson')\n",
        "    * pearson : 피어슨 상관계수(기본값)\n",
        "    * spearman: 스피어만의 순위 상관계수\n",
        "    * kendall : 켄달 순위 상관계수\n",
        "\n"
      ],
      "metadata": {
        "id": "KsWYUmOV_YeE"
      }
    },
    {
      "cell_type": "code",
      "source": [
        "#corr 함수\n",
        "import statsmodels.api as sm\n",
        "\n",
        "mtcars = sm.datasets.get_rdataset('mtcars').data\n",
        "cor_mpg_wt= mtcars['mpg'].corr(mtcars['wt'])\n",
        "print(cor_mpg_wt)"
      ],
      "metadata": {
        "colab": {
          "base_uri": "https://localhost:8080/"
        },
        "id": "yCNWcj0vBKLO",
        "outputId": "b67d9560-eeb8-43fd-dd2f-849224fff16b"
      },
      "execution_count": null,
      "outputs": [
        {
          "output_type": "stream",
          "name": "stdout",
          "text": [
            "-0.8676593765172281\n"
          ]
        }
      ]
    },
    {
      "cell_type": "code",
      "source": [
        "import pandas as pd\n",
        "\n",
        "df = pd.read_csv('PimaIndiansDiabetes2.csv')\n",
        "print(df.info())\n",
        "df = df.iloc[:,[3,4,5,8]]\n",
        "df = df.dropna()\n",
        "print(df.describe())"
      ],
      "metadata": {
        "colab": {
          "base_uri": "https://localhost:8080/"
        },
        "id": "q6xfpN4uPU7P",
        "outputId": "05fc6c41-e232-4298-c70f-56ebbc41e1cc"
      },
      "execution_count": null,
      "outputs": [
        {
          "output_type": "stream",
          "name": "stdout",
          "text": [
            "<class 'pandas.core.frame.DataFrame'>\n",
            "RangeIndex: 768 entries, 0 to 767\n",
            "Data columns (total 10 columns):\n",
            " #   Column      Non-Null Count  Dtype  \n",
            "---  ------      --------------  -----  \n",
            " 0   Unnamed: 0  768 non-null    int64  \n",
            " 1   pregnant    768 non-null    int64  \n",
            " 2   glucose     763 non-null    float64\n",
            " 3   pressure    733 non-null    float64\n",
            " 4   triceps     541 non-null    float64\n",
            " 5   insulin     394 non-null    float64\n",
            " 6   mass        757 non-null    float64\n",
            " 7   pedigree    768 non-null    float64\n",
            " 8   age         768 non-null    int64  \n",
            " 9   diabetes    768 non-null    object \n",
            "dtypes: float64(6), int64(3), object(1)\n",
            "memory usage: 60.1+ KB\n",
            "None\n",
            "         pressure     triceps     insulin         age\n",
            "count  394.000000  394.000000  394.000000  394.000000\n",
            "mean    70.654822   29.106599  155.548223   30.814721\n",
            "std     12.469919   10.504273  118.775855   10.198971\n",
            "min     24.000000    7.000000   14.000000   21.000000\n",
            "25%     62.000000   21.000000   76.250000   23.000000\n",
            "50%     70.000000   29.000000  125.000000   27.000000\n",
            "75%     78.000000   36.750000  190.000000   36.000000\n",
            "max    110.000000   63.000000  846.000000   81.000000\n"
          ]
        }
      ]
    },
    {
      "cell_type": "markdown",
      "source": [
        "##### 피어슨(Pearson) 상관계수\n",
        " * 피어슨 상관계수는 두 변수가 키와 몸무게 , 수입과 지출 등과 같은 연속형 자료일 경우에 두 변수 사이의 연관성을 계량적으로 산출하여 분석하는 방법이다.\n",
        " * 피어슨 상관계수는 두 연속형 자료가 정규성을 만족한다는 가정이 필요하다.\n",
        " * 수치형 데이터의 상관 분석에서 피어슨 상관계수 방법을 일반적으로 많이 사용한다.\n",
        "\n",
        "---\n",
        "##### 피어슨 상관계수\n",
        "\n",
        " $$ r=\\frac{∑_{i=1}^{n}{(x_{i}-\\bar{x})(y_{i}-\\bar{y})}} {\\sqrt{\\sum_{i=1}^{n}{(x-\\bar{x})^{2}}} \\sqrt{\\sum_{i=1}^{n}{(y_{i}-\\bar{y})^{2}}}} $$\n",
        "\n",
        " * $x_{i}$ : $x$의 i 번째 관측치\n",
        " * $y_{i}$ : $y$의 i 번째 관측치\n",
        " * $\\bar{x}$ : $x_{i}$의 평균\n",
        " * $\\bar{y}$ : $y_{i}$의 평균"
      ],
      "metadata": {
        "id": "R38aEQv3CrgR"
      }
    },
    {
      "cell_type": "code",
      "source": [
        "print(df.corr(method='pearson'))"
      ],
      "metadata": {
        "colab": {
          "base_uri": "https://localhost:8080/"
        },
        "id": "xxNXozBRRWtm",
        "outputId": "803e8173-90cb-48d5-966b-35bf7dc8c41b"
      },
      "execution_count": null,
      "outputs": [
        {
          "output_type": "stream",
          "name": "stdout",
          "text": [
            "          pressure   triceps   insulin       age\n",
            "pressure  1.000000  0.232342  0.098272  0.299845\n",
            "triceps   0.232342  1.000000  0.184888  0.170694\n",
            "insulin   0.098272  0.184888  1.000000  0.220261\n",
            "age       0.299845  0.170694  0.220261  1.000000\n"
          ]
        }
      ]
    },
    {
      "cell_type": "markdown",
      "source": [
        "##### 스피어만(Spearman) 순위 상관계수\n",
        " * 스피어만 순위 상관계수는 두 변수가 언어 성적 순위 (1등, 2등, 3등)와 수리 영역 순위 (1등, 2등, 3등) 같은 순서적 데이터일 경우에 두 변수 사이의 연관성을 계량적으로 산출하여 분석하는 방법이다.\n",
        " * 스피어만 상관계수에서 연속형 자료를 순서적 자료로 변환하여 사용한다.\n",
        " * 두 변수가 정규성을 만족하지 않는 경우나 순서적 데이터일 경우에 이용한다.\n",
        "---\n",
        "##### 스피어만 상관계수\n",
        " $$ θ=\\frac{∑_{i=1}^{n}{(r_{i}-\\bar{r})(s_{i}-\\bar{s})}} {\\sqrt{\\sum_{i=1}^{n}{(r-\\bar{r})^{2}}} \\sqrt{\\sum_{i=1}^{n}{(s_{i}-\\bar{s})^{2}}}} \\\\=1-\\frac{6\\sum_{i=1}^{n}d_{i}^{2}}{n(n^{2}-1)}$$\n",
        "\n",
        " * $r_{i} : \\ x_{1},x_{2},\\dots,x_{n}에서 \\ x_{i}의 \\  순위 $\n",
        " * $s_{i}: \\ y_{1},y_{2}, \\dots,y_{n}에서 \\ y_{i} \\  순위$\n",
        " * $d_{i}= \\ r_{i}-s_{i}$\n",
        " * $\\bar{r} : \\  r_{i}의 \\ 평균$\n",
        " * $\\bar{s}:\\ s_{i}의 \\ 평균$"
      ],
      "metadata": {
        "id": "Aejm2KNVKJiM"
      }
    },
    {
      "cell_type": "code",
      "source": [
        "print(df.corr(method='spearman'))"
      ],
      "metadata": {
        "colab": {
          "base_uri": "https://localhost:8080/"
        },
        "id": "JLifGyBcRrO9",
        "outputId": "81de6277-ac20-495a-defa-c779c90eceec"
      },
      "execution_count": null,
      "outputs": [
        {
          "output_type": "stream",
          "name": "stdout",
          "text": [
            "          pressure   triceps   insulin       age\n",
            "pressure  1.000000  0.249867  0.130463  0.328234\n",
            "triceps   0.249867  1.000000  0.245188  0.246585\n",
            "insulin   0.130463  0.245188  1.000000  0.267437\n",
            "age       0.328234  0.246585  0.267437  1.000000\n"
          ]
        }
      ]
    },
    {
      "cell_type": "markdown",
      "source": [
        "##### 켄달(Kendall)순위 상관계수\n",
        " * 켄달 순위 상관계수는 스피어만 상관계수와 유사하게 두 변수가 순서적 데이터일 경우에 두 변수 사이의 연관성을 계량적으로 산출하여 분석하는 방법이다.\n",
        " * 변수$(x_{i},y_{i})$가 주어져 $x_{i}$가 증가할 때 $y_{i}$도 증가할 경우 부합( concordant), $x_{i}$가 증가할 때 $y_{i}$가 감소할 경우 비부합(Discordant)으로 하여 상관계수를 구한다.\n",
        " * 두 변수가 정규성을 만족하지 않는 경우나 순서적 데이터일 경우에 이용한다.\n",
        " ---\n",
        " 켄달 순위 상관계수\n",
        " $$r=\\frac{C-D}{C+D}$$\n",
        "  * $C$ : 부합(Concordant)쌍의 수\n",
        "  * $D$ : 비부합(Discordant)쌍의 수"
      ],
      "metadata": {
        "id": "BZXzNfzgN9Vz"
      }
    },
    {
      "cell_type": "code",
      "source": [
        "print(df.corr(method='kendall'))"
      ],
      "metadata": {
        "colab": {
          "base_uri": "https://localhost:8080/"
        },
        "id": "L3U8qkilRwje",
        "outputId": "a1c6f3ac-5362-4e7a-9f3f-43589b6aa81e"
      },
      "execution_count": null,
      "outputs": [
        {
          "output_type": "stream",
          "name": "stdout",
          "text": [
            "          pressure   triceps   insulin       age\n",
            "pressure  1.000000  0.174742  0.090656  0.229840\n",
            "triceps   0.174742  1.000000  0.169702  0.166394\n",
            "insulin   0.090656  0.169702  1.000000  0.188594\n",
            "age       0.229840  0.166394  0.188594  1.000000\n"
          ]
        }
      ]
    },
    {
      "cell_type": "markdown",
      "source": [
        "####범주형-수치형 데이터 탐색\n",
        "* 범주형 데이터의 항목들을 그룹으로 간주하고 항목들에 관한 기술 통계량으로 데이터를 탐색한다.\n",
        "* groupby는 데이터를 특정 기준으로 그룹화하는 기능을 제공하는 함수이다.\n",
        "```\n",
        "groupby(열)\n",
        "```\n",
        "---\n",
        "#####groupby와 함께 사용되는 집계 함수\n",
        "\n",
        "* mean : 그룹별 평균\n",
        "* var : 그룹별 분산\n",
        "* std : 그룹별 표준편차\n",
        "* sum : 그룹별 합계\n",
        "* median : 그룹별 중앙값\n",
        "* min : 그룹별 최솟값\n",
        "* max : 그룹별 최댓값\n",
        "* size : 그룹별 빈도\n"
      ],
      "metadata": {
        "id": "-4cIOFMuUh_M"
      }
    },
    {
      "cell_type": "code",
      "source": [
        "#groubby 함수\n",
        "import statsmodels.api as sm\n",
        "\n",
        "mtcars = sm.datasets.get_rdataset('mtcars').data\n",
        "print(mtcars.groupby('cyl')['mpg'].mean())"
      ],
      "metadata": {
        "colab": {
          "base_uri": "https://localhost:8080/"
        },
        "id": "NUv4GXdsWG21",
        "outputId": "be3ba436-e99f-45e2-c32f-30153b08ea16"
      },
      "execution_count": null,
      "outputs": [
        {
          "output_type": "stream",
          "name": "stdout",
          "text": [
            "cyl\n",
            "4    26.663636\n",
            "6    19.742857\n",
            "8    15.100000\n",
            "Name: mpg, dtype: float64\n"
          ]
        }
      ]
    },
    {
      "cell_type": "markdown",
      "source": [
        "###전체 데이터 파악"
      ],
      "metadata": {
        "id": "aM85IFbgYNZU"
      }
    },
    {
      "cell_type": "markdown",
      "source": [
        "####info 함수\n",
        "info 함수는 데이터 프레임 또는 시리즈의 요약 정보를 확인할 수 있는 함수이다.\n",
        "```\n",
        "df.info()\n",
        "```"
      ],
      "metadata": {
        "id": "rRqTBKaiYRxn"
      }
    },
    {
      "cell_type": "code",
      "source": [
        "#info 함수\n",
        "import statsmodels.api as sm\n",
        "\n",
        "mtcars = sm.datasets.get_rdataset('mtcars').data\n",
        "print(mtcars['wt'].info())"
      ],
      "metadata": {
        "colab": {
          "base_uri": "https://localhost:8080/"
        },
        "id": "jWgcZ1ipYdSQ",
        "outputId": "cb5c6b7b-a394-4b2d-c6b0-336d31db70e5"
      },
      "execution_count": null,
      "outputs": [
        {
          "output_type": "stream",
          "name": "stdout",
          "text": [
            "<class 'pandas.core.series.Series'>\n",
            "Index: 32 entries, Mazda RX4 to Volvo 142E\n",
            "Series name: wt\n",
            "Non-Null Count  Dtype  \n",
            "--------------  -----  \n",
            "32 non-null     float64\n",
            "dtypes: float64(1)\n",
            "memory usage: 512.0+ bytes\n",
            "None\n"
          ]
        }
      ]
    },
    {
      "cell_type": "markdown",
      "source": [],
      "metadata": {
        "id": "9z3bXeQpYvTd"
      }
    },
    {
      "cell_type": "markdown",
      "source": [
        "#### head 함수\n",
        "head 함수는 데이터 앞부분을 출력하는 함수이다.\n",
        "```\n",
        "head(n)\n",
        "```\n",
        "파라미터\n",
        "* n : 출력할 데이터의 수 (기본값 5)"
      ],
      "metadata": {
        "id": "CoCMbHxhYvUj"
      }
    },
    {
      "cell_type": "code",
      "source": [
        "#head 함수\n",
        "import statsmodels.api as sm\n",
        "\n",
        "mtcars = sm.datasets.get_rdataset('mtcars').data\n",
        "print(mtcars['wt'].head())"
      ],
      "metadata": {
        "colab": {
          "base_uri": "https://localhost:8080/"
        },
        "id": "FJFvU70qY7Mj",
        "outputId": "587e1f2f-b621-4087-f70d-da4f31fcc90e"
      },
      "execution_count": null,
      "outputs": [
        {
          "output_type": "stream",
          "name": "stdout",
          "text": [
            "rownames\n",
            "Mazda RX4            2.620\n",
            "Mazda RX4 Wag        2.875\n",
            "Datsun 710           2.320\n",
            "Hornet 4 Drive       3.215\n",
            "Hornet Sportabout    3.440\n",
            "Name: wt, dtype: float64\n"
          ]
        }
      ]
    },
    {
      "cell_type": "markdown",
      "source": [
        "#### tail 함수\n",
        " tail 함수는 데이터의 뒷부분을 출력하는 함수이다.\n",
        " ```\n",
        " tail(n)\n",
        " ```\n",
        " * n : 출력할 데이터의 수 (기본값 5)"
      ],
      "metadata": {
        "id": "A81UDQyWZLe1"
      }
    },
    {
      "cell_type": "code",
      "source": [
        "#tail 함수\n",
        "import statsmodels.api as sm\n",
        "\n",
        "mtcars = sm.datasets.get_rdataset('mtcars').data\n",
        "print(mtcars['wt'].tail())"
      ],
      "metadata": {
        "colab": {
          "base_uri": "https://localhost:8080/"
        },
        "id": "cdX5f33KZfvL",
        "outputId": "086b638c-4a7d-450d-a261-dec84660a21b"
      },
      "execution_count": null,
      "outputs": [
        {
          "output_type": "stream",
          "name": "stdout",
          "text": [
            "rownames\n",
            "Lotus Europa      1.513\n",
            "Ford Pantera L    3.170\n",
            "Ferrari Dino      2.770\n",
            "Maserati Bora     3.570\n",
            "Volvo 142E        2.780\n",
            "Name: wt, dtype: float64\n"
          ]
        }
      ]
    },
    {
      "cell_type": "markdown",
      "source": [
        "#분석 모형 평가"
      ],
      "metadata": {
        "id": "M8WnCzWtaIe3"
      }
    },
    {
      "cell_type": "markdown",
      "source": [
        "## 회귀모형 평가\n",
        "구축한 회귀모형에 대한 평가지표로 결정 계수와 수정된 결정 계수 이외에도 RMSE(Root Mean Squared Error; 평균 제곱근 오차), MSE(Mean Squared Error)등을 이용할 수 있다."
      ],
      "metadata": {
        "id": "0aJyixSmaMJJ"
      }
    },
    {
      "cell_type": "markdown",
      "source": [
        "####MSE(Mean Squared Error; 평균 제곱 오차)\n",
        "\n",
        "* sklearn.metrics 패키지에서 제공하는 mean_squared_error함수를 이용하여 구할 수 있다.\n",
        "* MSE, RMSE의 값이 낮을수록 모형의 정확도가 높다고 할 수 있다.\n",
        "* RMSE는 MSE의 양의 제곱근이다.\n",
        "---\n",
        "\n",
        "$$MSE=\\frac{1}{n}\\sum_{i=1}^{n}(y_{i}-\\hat{y}_{i})^2$$\n",
        "* $y_{i} :\\  i 번째\\  실제\\  y값$\n",
        "* $\\hat{y}_{i}: \\ y에\\  대한\\  예측값$\n",
        "---\n",
        "$$RMSE=\\sqrt{\\frac{1}{n}\\sum_{i=1}^{n}{(y_{i}-\\hat{y}_{i})^{2}}} $$\n",
        "* $y_{i} :\\  i 번째\\  실제\\  y값$\n",
        "* $\\hat{y}_{i}: \\ y에\\  대한\\  예측값$\n",
        "---\n",
        "```\n",
        "mean_squared_error(y_true, y_pred, squared)\n",
        "```\n",
        "파라미터\n",
        "* y_true : 실제값을 나타내는 배열\n",
        "* y_pred : 모델의 예측값을 나타내는 배열\n",
        "* squared: 기본값 True\n",
        "  * True : MSE\n",
        "  * FALSE : RMSE"
      ],
      "metadata": {
        "id": "4BMzuV6e5PHC"
      }
    },
    {
      "cell_type": "code",
      "source": [
        "from sklearn.metrics import mean_squared_error\n",
        "import numpy as np\n",
        "y_true = [3,5,7,9]\n",
        "y_pred = [2,5,8,10]\n",
        "\n",
        "print(mean_squared_error(y_true, y_pred))\n",
        "print(np.sqrt(mean_squared_error(y_true,y_pred)))\n",
        "print(mean_squared_error(y_true,y_pred,squared=False))"
      ],
      "metadata": {
        "colab": {
          "base_uri": "https://localhost:8080/"
        },
        "id": "zsKmosbB7mDX",
        "outputId": "9194609a-101d-4337-80d0-430611f75389"
      },
      "execution_count": null,
      "outputs": [
        {
          "output_type": "stream",
          "name": "stdout",
          "text": [
            "0.75\n",
            "0.8660254037844386\n",
            "0.8660254037844386\n"
          ]
        }
      ]
    },
    {
      "cell_type": "markdown",
      "source": [
        "###결정계수(Coefficient of Determination; $R^{2}$)\n",
        "\n",
        "* 선형 회귀분석의 성능 검증지표로 많이 이용(선형이 아닌 회귀모형에서도 사용가능)한다.\n",
        "* 회귀모형이 실제값을 얼마나 잘 나타내는지에 대한 비율이다.\n",
        "* 결정 계수가 1에 가까울수록 실제값을 잘 설명한다.($값의 범위\\ 0\\leq R^{2} \\leq 1$)\n",
        "* sklearn.metrics 패키지에서 제공하는 r2_score 함수를 이용하여 구할 수 있다.\n",
        "```\n",
        "r2_score(y_true, y_pred)\n",
        "```\n",
        "파라미터\n",
        " * y_true : 실제값을 나타내는 배열\n",
        " * y_pred : 모델의 예측값을 나타내는 배열"
      ],
      "metadata": {
        "id": "ZjS1HRiX8NMm"
      }
    },
    {
      "cell_type": "code",
      "source": [
        "#결정 계수\n",
        "from sklearn.metrics import r2_score\n",
        "\n",
        "y_true = [3,5,7,9]\n",
        "y_pred = [2,5,8,10]\n",
        "\n",
        "print(r2_score(y_true,y_pred))"
      ],
      "metadata": {
        "colab": {
          "base_uri": "https://localhost:8080/"
        },
        "id": "fmtCQ5L-9d2F",
        "outputId": "6814c268-e29b-4eb4-c88f-2fb85b48d110"
      },
      "execution_count": null,
      "outputs": [
        {
          "output_type": "stream",
          "name": "stdout",
          "text": [
            "0.85\n"
          ]
        }
      ]
    },
    {
      "cell_type": "markdown",
      "source": [
        "##분류 모형 평가\n",
        "구축한 회귀모형에 대한 평가를 혼동 행렬(Confusion Matrix)과 AUC(Area Under ROC;AUROC) 등을 이용할 수있다."
      ],
      "metadata": {
        "id": "wB2HOx4j_Nsx"
      }
    },
    {
      "cell_type": "markdown",
      "source": [
        "###예측 함수\n",
        "\n",
        "\n",
        "1.   predict 함수  \n",
        "predict 함수는 새로운 입력 데이터에 대한 예측 값을 반환하는 함수이다.\n",
        "```\n",
        "model.predict(x)\n",
        "```\n",
        "파라미터\n",
        " *  model : 학습된 모델 객체\n",
        " *  x:예측하려는 입력 데이터\n",
        "2.   predict_proba 함수   \n",
        " predict_proba 함수는 각 클래스에 속할 확률을 반환하는 함수이다.  \n",
        "```\n",
        "model.predict_proba(x)\n",
        "```\n",
        "파라미터\n",
        " * model : 학습된 모델 객체\n",
        " * x : 예측하려는 입력 데이터\n",
        "\n"
      ],
      "metadata": {
        "id": "XxOfSKkgBu0S"
      }
    },
    {
      "cell_type": "markdown",
      "source": [
        "### 혼동 행렬\n",
        "\n",
        "\n",
        "1.   혼동 행렬(Confusion matrix)개념  \n",
        "혼동 행렬은 분석 모델에서 구한 분류의 예측 범주와 데이터의 실제 분류 범주를 교차표(Cross Table) 형태로 정리한 행렬이다.\n",
        "---\n",
        "2.   혼동 행렬 함수  \n",
        "혼동 행렬은 sklearn.metrics패키지의 confusion_matrix함수를 이용하여 구할 수 있다.\n",
        "```\n",
        "confusion_matrix(y_true,y_pred)\n",
        "```\n",
        "파라미터\n",
        " * y_true : 실제값을 나타내는 배열\n",
        " * y_pred : 모델의 예측값을 나타내는 배열\n",
        "---\n",
        "3. 혼동 행렬 결과 해석\n",
        "<center>\n",
        "<img src='https://search.pstatic.net/sunny/?src=https%3A%2F%2Fi.namu.wiki%2Fi%2FeSMR6d76wWErA7K-y3YfnjJVQwxL6KRi09OLDdDs41s8V7EduWXD79wTg4EFkaK1n8J4UfpUcwxW6CyzMtbpTg.webp&type=sc960_832' width='780' /> <br>\n",
        "</center>\n",
        "\n",
        " * 분류 값  \n",
        "    * TP(True Positive): 실제 Positive인 샘플을 Positive로 정확히 예측한 경우의 수\n",
        "    * FN(False Negative): 실제 Positive인 샘플을 Negative로 잘못 예측한 경우의 수\n",
        "    * FP(False Positive): 실제 Negative인 샘플을 Positve로 잘못 에측한 경우의 수   \n",
        "    * TN(True Negative): 실제 Negative인 샘플을 Negative로 정확히 예측한 경우의\n",
        "    수\n",
        "---\n",
        "4. 혼동 행렬을 통한 분류 모형의 평가지표  \n",
        "혼동 행렬로부터 계싼될 수 있는 평가지표는 정확도, 오차 비율, 민감도 등이 있고,\n",
        "그중에서 정확도, 민감도, 정밀도는 많이 사용되는 지표이다.\n",
        "\n",
        " 1. 정확도  \n",
        "   * 정확도(Accuracy) 개념\n",
        "    * 정확도는 실제 분류 범주를 정확하게 예측한 비율이다.\n",
        "    * 전체 예측에서 참 긍정(TP)과 참 부정(TN)이 차지하는 비율이다.  \n",
        "$$\\frac{TP+TN}{TP+TN+FP+FN}$$\n",
        "  *  정확도 함수   \n",
        "   정확도는 sklearn.metrics패키지의 accuracy_score함수를 이용하여 구할 수있다.\n",
        "   ```\n",
        "   accuracy_score(y_true,y_pred)\n",
        "   ```\n",
        "   파라미터\n",
        "    * y_true : 실제값을 나타내는 배열\n",
        "    * y_pred : 모델의 예측값을 나타내는 배열\n",
        "\n",
        " 2. 재현율\n",
        "  * 재현율(Recall) 개념  \n",
        "    재현율은 실제로 '긍정'인 범주(TP+FN) 중에서 '긍정'으로 올바르게 예측(TP)한 비율이다.\n",
        "$$\\frac{TP}{TP+FN}$$\n",
        "\n",
        "  * 재현율 함수\n",
        "    재현율은 sklearn.matrics 패키지의 recall_score함수를 이용하여 구할 수 있다.\n",
        "    ```\n",
        "    recall_score(y_true,y_pred)\n",
        "    ```\n",
        "   파라미터\n",
        "    * y_true : 실제값을 나타내는 배열\n",
        "    * y_pred : 모델의 예측값을 나타내는 배열\n",
        "  \n",
        "  3. 정밀도\n",
        "   * 정밀도(Precision)개념  \n",
        "   정밀도는 '긍정'으로 예측한 비율 중에서 실제로 '긍정'(TP)인  비율이다.\n",
        "   $$\\frac{TP}{TP+FP}$$\n",
        "   * 정밀도 함수\n",
        "   정밀도는 sklearn.metrics 패키지의 precison_score 함수를 이용하여 구할 수 있다.\n",
        "   ```\n",
        "   precision_score(y_true,y_pred)\n",
        "   ```  \n",
        "   파라미터\n",
        "    * y_true : 실제값을 나타내는 배열\n",
        "    * y_pred : 모델의 예측값을 나타내는 배열\n",
        "\n",
        "  4. F1 지표\n",
        "   * F1 지표(F1-Score)개념\n",
        "    * F1 지표는 정밀도와 민감도(재현율)을 하나로 합한 성능 평가지표이다.\n",
        "    * 정밀도와 민감도 양쪽이 모두 클 때 F1 지표도 큰 값을 가진다. (0~1사이의 범위를 가짐)\n",
        "   $$2\\times\\frac{Precision\\times Recall}{Precision+Recall}$$\n",
        "   * F1 지표 함수\n",
        "     F1 지표는 sklearn.metrics 패키지의 f1_score함수를 이용하여 구할 수 있다.\n",
        "    ```\n",
        "    f1_score(y_true,y_pred)\n",
        "    ```\n",
        "  파라미터\n",
        "    * y_true : 실제값을 나타내는 배열\n",
        "    * y_pred : 모델의 예측값을 나타내는 배열"
      ],
      "metadata": {
        "id": "jp7IXMuNDRtl"
      }
    },
    {
      "cell_type": "code",
      "source": [
        "#혼동 행렬\n",
        "from sklearn.metrics import confusion_matrix\n",
        "from sklearn.metrics import accuracy_score\n",
        "from sklearn.metrics import recall_score\n",
        "from sklearn.metrics import precision_score\n",
        "from sklearn.metrics import f1_score\n",
        "\n",
        "y_true=[1,0,1,0,1]\n",
        "y_pred=[1,1,1,0,0]\n",
        "\n",
        "cm = confusion_matrix(y_true,y_pred)\n",
        "print(cm)\n",
        "print(accuracy_score(y_true,y_pred))\n",
        "print(recall_score(y_true,y_pred))\n",
        "print(precision_score(y_true,y_pred))\n",
        "print(f1_score(y_true,y_pred))"
      ],
      "metadata": {
        "colab": {
          "base_uri": "https://localhost:8080/"
        },
        "id": "H6eN5PwSYTe3",
        "outputId": "42d90cf0-256b-4949-c983-de1ffc7979eb"
      },
      "execution_count": null,
      "outputs": [
        {
          "output_type": "stream",
          "name": "stdout",
          "text": [
            "[[1 1]\n",
            " [1 2]]\n",
            "0.6\n",
            "0.6666666666666666\n",
            "0.6666666666666666\n",
            "0.6666666666666666\n"
          ]
        }
      ]
    },
    {
      "cell_type": "markdown",
      "source": [
        "###AUC\n",
        "\n",
        "1. AUC(Area Under ROC; AUROC)개념\n",
        "\n",
        " * AUC는 ROC 곡선(Receiver Operating Characteristic curve)아랫부분의 면적이다.\n",
        " * AUC의 값은 항상 0.5~1의 값을 가지며 1에 가까울수록 좋은 모형이다.\n",
        "\n",
        "2. AUC 함수  \n",
        " * AUC는 sklearn.metrics 패키지의 roc_auc_score함수를 이용하여 구할 수 있다.\n",
        " ```\n",
        " roc_auc_score(y_true,y_score)\n",
        " ```\n",
        " 파라미터\n",
        "    * y_true : 실제값을 나타내는 배열\n",
        "    * y_pred : 모델의 예측값을 나타내는 배열"
      ],
      "metadata": {
        "id": "c3SgVkQ8b3q3"
      }
    },
    {
      "cell_type": "code",
      "source": [
        "#roc_auc_score 함수\n",
        "from sklearn.metrics import roc_auc_score\n",
        "\n",
        "y_true = [1,0,1,0,1]\n",
        "y_pred = [1,1,1,0,0]\n",
        "\n",
        "print(roc_auc_score(y_true, y_pred))"
      ],
      "metadata": {
        "colab": {
          "base_uri": "https://localhost:8080/"
        },
        "id": "qlhCtZa3c10L",
        "outputId": "525cd672-5360-48ce-8177-cbc7530d9f4e"
      },
      "execution_count": null,
      "outputs": [
        {
          "output_type": "stream",
          "name": "stdout",
          "text": [
            "0.5833333333333333\n"
          ]
        }
      ]
    },
    {
      "cell_type": "markdown",
      "source": [
        "#분석 모형 구축"
      ],
      "metadata": {
        "id": "8T4HKhxDdUza"
      }
    },
    {
      "cell_type": "markdown",
      "source": [
        "## 선형 회귀분석\n",
        "\n",
        "1. 선형 회귀분석 개념\n",
        " * 선형 회귀분석은 독립변수와 종속변수와의 관계가 선형이고, 하나 이상의 독립변수들이 종속변수에 미치는 영향을 추정할 수 있는 통계기법이다.\n",
        " * 독립변수와 종속변수와의 관계가 선형이고 독립변수의 개수가 하나이면 단순 선형 회귀분석, 독립변수의 개수가 두 개 이상이면 다중 선형 회귀분석으로 분석한다.\n",
        " * 회귀분석은 하나 이상의 독립변수들이 종속변수에 미치는 영향을 추정할 수 있는 통계기법이다.\n",
        " *선형 회귀분석\n",
        " $$Y=β_{0}+\\beta_{1}X_{1}+\\beta_{2}X_{2}+\\dots+\\beta_{k}X_{k}+ϵ$$\n",
        " * $Y$:종속변수\n",
        " * $X_{1},X_{2},X_{3},\\dots,X_{n}: \\ 독립변수$\n",
        " * $\\beta_{0}: 회귀식 \\ 절편으로 \\ 상수항 $\n",
        " * $\\beta_{1},\\beta_{2},\\beta_{3},\\dots,\\beta_{n}: \\ 회귀식 기울기$\n",
        " * $ϵ : \\ 오차항$\n",
        "\n",
        "2. 선형 회귀분석 모형 클래스\n",
        " * 선형 회귀분석은 LinearRegression 클래스를 사용하여 분석한다.\n",
        " * 선형 회귀분석에서는 하나의 독립변수에 따른 종속변수의 관계를 분석할 때 사용되므로 lm 함수의 formula 값에는 하나의 독립변수와 종속변수를 지정한다.\n",
        " ```\n",
        " lm(formula,data)\n",
        " ```\n",
        " 파라미터  \n",
        " *  formula\n",
        "    * 종속변수-독립변수 형식으로 지정\n",
        "    * 다중회귀는 독립변수 여러 개 지정   \n",
        "    ex) Salary ~ Hit(종속변수~독립변수)\n",
        " * data\n",
        "    * 데이터 프레임명"
      ],
      "metadata": {
        "id": "OYwVOyI7dXRN"
      }
    },
    {
      "cell_type": "code",
      "source": [
        "#선형 회귀분석\n",
        "import pandas as pd\n",
        "from sklearn.linear_model import LinearRegression\n",
        "from sklearn.model_selection import train_test_split\n",
        "from sklearn.metrics import mean_squared_error\n",
        "\n",
        "df = pd.read_csv(\"Hitters.csv\")\n",
        "print(df.describe())\n",
        "\n"
      ],
      "metadata": {
        "colab": {
          "base_uri": "https://localhost:8080/"
        },
        "id": "pykQk_wAD6x-",
        "outputId": "9c7483da-62b3-4f16-aa6a-f8b407a2e727"
      },
      "execution_count": null,
      "outputs": [
        {
          "output_type": "stream",
          "name": "stdout",
          "text": [
            "            AtBat        Hits       HmRun        Runs         RBI       Walks  \\\n",
            "count  322.000000  322.000000  322.000000  322.000000  322.000000  322.000000   \n",
            "mean   380.928571  101.024845   10.770186   50.909938   48.027950   38.742236   \n",
            "std    153.404981   46.454741    8.709037   26.024095   26.166895   21.639327   \n",
            "min     16.000000    1.000000    0.000000    0.000000    0.000000    0.000000   \n",
            "25%    255.250000   64.000000    4.000000   30.250000   28.000000   22.000000   \n",
            "50%    379.500000   96.000000    8.000000   48.000000   44.000000   35.000000   \n",
            "75%    512.000000  137.000000   16.000000   69.000000   64.750000   53.000000   \n",
            "max    687.000000  238.000000   40.000000  130.000000  121.000000  105.000000   \n",
            "\n",
            "            Years       CAtBat        CHits      CHmRun        CRuns  \\\n",
            "count  322.000000    322.00000   322.000000  322.000000   322.000000   \n",
            "mean     7.444099   2648.68323   717.571429   69.490683   358.795031   \n",
            "std      4.926087   2324.20587   654.472627   86.266061   334.105886   \n",
            "min      1.000000     19.00000     4.000000    0.000000     1.000000   \n",
            "25%      4.000000    816.75000   209.000000   14.000000   100.250000   \n",
            "50%      6.000000   1928.00000   508.000000   37.500000   247.000000   \n",
            "75%     11.000000   3924.25000  1059.250000   90.000000   526.250000   \n",
            "max     24.000000  14053.00000  4256.000000  548.000000  2165.000000   \n",
            "\n",
            "              CRBI       CWalks      PutOuts     Assists      Errors  \\\n",
            "count   322.000000   322.000000   322.000000  322.000000  322.000000   \n",
            "mean    330.118012   260.239130   288.937888  106.913043    8.040373   \n",
            "std     333.219617   267.058085   280.704614  136.854876    6.368359   \n",
            "min       0.000000     0.000000     0.000000    0.000000    0.000000   \n",
            "25%      88.750000    67.250000   109.250000    7.000000    3.000000   \n",
            "50%     220.500000   170.500000   212.000000   39.500000    6.000000   \n",
            "75%     426.250000   339.250000   325.000000  166.000000   11.000000   \n",
            "max    1659.000000  1566.000000  1378.000000  492.000000   32.000000   \n",
            "\n",
            "            Salary  \n",
            "count   263.000000  \n",
            "mean    535.925882  \n",
            "std     451.118681  \n",
            "min      67.500000  \n",
            "25%     190.000000  \n",
            "50%     425.000000  \n",
            "75%     750.000000  \n",
            "max    2460.000000  \n"
          ]
        }
      ]
    },
    {
      "cell_type": "code",
      "source": [
        "print(df.head(3))"
      ],
      "metadata": {
        "colab": {
          "base_uri": "https://localhost:8080/"
        },
        "id": "Bv6y4f8aFzpb",
        "outputId": "656babaf-43eb-499a-8f0c-cc9bdf3e5b6e"
      },
      "execution_count": null,
      "outputs": [
        {
          "output_type": "stream",
          "name": "stdout",
          "text": [
            "   AtBat  Hits  HmRun  Runs  RBI  Walks  Years  CAtBat  CHits  CHmRun  CRuns  \\\n",
            "0    293    66      1    30   29     14      1     293     66       1     30   \n",
            "1    315    81      7    24   38     39     14    3449    835      69    321   \n",
            "2    479   130     18    66   72     76      3    1624    457      63    224   \n",
            "\n",
            "   CRBI  CWalks League Division  PutOuts  Assists  Errors  Salary NewLeague  \n",
            "0    29      14      A        E      446       33      20     NaN         A  \n",
            "1   414     375      N        W      632       43      10   475.0         N  \n",
            "2   266     263      A        W      880       82      14   480.0         A  \n"
          ]
        }
      ]
    },
    {
      "cell_type": "code",
      "source": [
        "print(df.info())"
      ],
      "metadata": {
        "colab": {
          "base_uri": "https://localhost:8080/"
        },
        "id": "vpHseiN4F5f8",
        "outputId": "9c44a95d-4644-4950-88bc-2451d44c6c44"
      },
      "execution_count": null,
      "outputs": [
        {
          "output_type": "stream",
          "name": "stdout",
          "text": [
            "<class 'pandas.core.frame.DataFrame'>\n",
            "RangeIndex: 322 entries, 0 to 321\n",
            "Data columns (total 20 columns):\n",
            " #   Column     Non-Null Count  Dtype  \n",
            "---  ------     --------------  -----  \n",
            " 0   AtBat      322 non-null    int64  \n",
            " 1   Hits       322 non-null    int64  \n",
            " 2   HmRun      322 non-null    int64  \n",
            " 3   Runs       322 non-null    int64  \n",
            " 4   RBI        322 non-null    int64  \n",
            " 5   Walks      322 non-null    int64  \n",
            " 6   Years      322 non-null    int64  \n",
            " 7   CAtBat     322 non-null    int64  \n",
            " 8   CHits      322 non-null    int64  \n",
            " 9   CHmRun     322 non-null    int64  \n",
            " 10  CRuns      322 non-null    int64  \n",
            " 11  CRBI       322 non-null    int64  \n",
            " 12  CWalks     322 non-null    int64  \n",
            " 13  League     322 non-null    object \n",
            " 14  Division   322 non-null    object \n",
            " 15  PutOuts    322 non-null    int64  \n",
            " 16  Assists    322 non-null    int64  \n",
            " 17  Errors     322 non-null    int64  \n",
            " 18  Salary     263 non-null    float64\n",
            " 19  NewLeague  322 non-null    object \n",
            "dtypes: float64(1), int64(16), object(3)\n",
            "memory usage: 50.4+ KB\n",
            "None\n"
          ]
        }
      ]
    },
    {
      "cell_type": "code",
      "source": [
        "df=df.dropna()\n",
        "print(df.info())"
      ],
      "metadata": {
        "colab": {
          "base_uri": "https://localhost:8080/"
        },
        "id": "wDjvgdImF-Yc",
        "outputId": "9be794d1-6b43-4f17-84d9-e786b8bcc958"
      },
      "execution_count": null,
      "outputs": [
        {
          "output_type": "stream",
          "name": "stdout",
          "text": [
            "<class 'pandas.core.frame.DataFrame'>\n",
            "Index: 263 entries, 1 to 321\n",
            "Data columns (total 20 columns):\n",
            " #   Column     Non-Null Count  Dtype  \n",
            "---  ------     --------------  -----  \n",
            " 0   AtBat      263 non-null    int64  \n",
            " 1   Hits       263 non-null    int64  \n",
            " 2   HmRun      263 non-null    int64  \n",
            " 3   Runs       263 non-null    int64  \n",
            " 4   RBI        263 non-null    int64  \n",
            " 5   Walks      263 non-null    int64  \n",
            " 6   Years      263 non-null    int64  \n",
            " 7   CAtBat     263 non-null    int64  \n",
            " 8   CHits      263 non-null    int64  \n",
            " 9   CHmRun     263 non-null    int64  \n",
            " 10  CRuns      263 non-null    int64  \n",
            " 11  CRBI       263 non-null    int64  \n",
            " 12  CWalks     263 non-null    int64  \n",
            " 13  League     263 non-null    object \n",
            " 14  Division   263 non-null    object \n",
            " 15  PutOuts    263 non-null    int64  \n",
            " 16  Assists    263 non-null    int64  \n",
            " 17  Errors     263 non-null    int64  \n",
            " 18  Salary     263 non-null    float64\n",
            " 19  NewLeague  263 non-null    object \n",
            "dtypes: float64(1), int64(16), object(3)\n",
            "memory usage: 43.1+ KB\n",
            "None\n"
          ]
        }
      ]
    },
    {
      "cell_type": "code",
      "source": [
        "df =pd.get_dummies(df,drop_first=True)\n",
        "x= df.drop('Salary',axis=1)\n",
        "y= df['Salary']\n",
        "train_x,test_x,train_y,test_y = train_test_split(x,y,test_size=0.2)\n",
        "md = LinearRegression()\n",
        "md.fit(train_x,train_y)\n",
        "print(md.feature_names_in_)"
      ],
      "metadata": {
        "colab": {
          "base_uri": "https://localhost:8080/"
        },
        "id": "YBv2kSXIGG0c",
        "outputId": "89ee032d-1b48-424e-fbdf-8337ddf3453d"
      },
      "execution_count": null,
      "outputs": [
        {
          "output_type": "stream",
          "name": "stdout",
          "text": [
            "['AtBat' 'Hits' 'HmRun' 'Runs' 'RBI' 'Walks' 'Years' 'CAtBat' 'CHits'\n",
            " 'CHmRun' 'CRuns' 'CRBI' 'CWalks' 'PutOuts' 'Assists' 'Errors' 'League_N'\n",
            " 'Division_W' 'NewLeague_N']\n"
          ]
        }
      ]
    },
    {
      "cell_type": "code",
      "source": [
        "print(md.coef_)"
      ],
      "metadata": {
        "colab": {
          "base_uri": "https://localhost:8080/"
        },
        "id": "t88UFfKhGuB9",
        "outputId": "dcc01b4d-6484-4806-d573-6cab7e0a9c86"
      },
      "execution_count": null,
      "outputs": [
        {
          "output_type": "stream",
          "name": "stdout",
          "text": [
            "[-2.15167983e+00  9.53057934e+00  5.94861126e+00 -3.24837721e+00\n",
            " -2.66967484e+00  7.41832841e+00 -9.74119701e+00 -7.75150014e-02\n",
            " -1.55579024e-02 -6.50089586e-01  1.13659372e+00  9.55866833e-01\n",
            " -8.08974585e-01  2.53101899e-01  2.62026894e-01 -2.09599309e+00\n",
            "  9.23079547e+01 -1.05391157e+02 -6.12752663e+01]\n"
          ]
        }
      ]
    },
    {
      "cell_type": "code",
      "source": [
        "print(md.intercept_)"
      ],
      "metadata": {
        "colab": {
          "base_uri": "https://localhost:8080/"
        },
        "id": "sFsSgJApG0dz",
        "outputId": "f2e91bab-618a-4899-e7c2-7dff6e31d933"
      },
      "execution_count": null,
      "outputs": [
        {
          "output_type": "stream",
          "name": "stdout",
          "text": [
            "82.79458782358557\n"
          ]
        }
      ]
    },
    {
      "cell_type": "code",
      "source": [
        "pred = md.predict(test_x)"
      ],
      "metadata": {
        "id": "RRBrg3atJONl"
      },
      "execution_count": null,
      "outputs": []
    },
    {
      "cell_type": "code",
      "source": [
        "print(mean_squared_error(test_y, pred, squared=False))"
      ],
      "metadata": {
        "colab": {
          "base_uri": "https://localhost:8080/"
        },
        "id": "3oAwEQA0JR_e",
        "outputId": "bd24a1ae-d6f3-4a03-d419-e4016cb01084"
      },
      "execution_count": null,
      "outputs": [
        {
          "output_type": "stream",
          "name": "stdout",
          "text": [
            "369.8294223364165\n"
          ]
        }
      ]
    },
    {
      "cell_type": "markdown",
      "source": [
        "##로지스틱 회귀 분석\n",
        "\n",
        "* 로지스틱 회귀분석은 종속변수가 범주형인 경우 적용되는 회귀분석 모형이다.\n",
        "* 새로운 독립변수의 값이 주어질 때 종속변수의 각 범주에 속할 확률이 얼마인지를\n",
        "추정하여 추정 확률을 기준치에 따라 분류하는 목적으로 사용된다."
      ],
      "metadata": {
        "id": "J6DPS4dAJpru"
      }
    },
    {
      "cell_type": "markdown",
      "source": [
        "##로지스틱 회귀분석 클래스\n",
        "\n",
        "로지스틱 회귀분석을 수행할 수 있는 클래스는 sklearn.linear_model 패키지의 LogisticRegression 클래스이다.\n",
        "```\n",
        "LogisticRegression(Penalty, C, solver, max_iter)\n",
        "```\n",
        "파라미터\n",
        " * Penalty : 규제 방법을 설정하는 파라미터(기본값 '12')\n",
        " * C : 규제 강도를 설정하는 파라미터 (기본값 1.0)\n",
        " * solver : 최적화 알고리즘을 선택하는 파라미터 (기본값 'lbfgs')\n",
        " * max_iter: 최대 반복 횟수를 지정하는 파라미터(기본값 200)\n"
      ],
      "metadata": {
        "id": "4Eamv3nLKEF_"
      }
    },
    {
      "cell_type": "code",
      "source": [
        "import pandas as pd\n",
        "from sklearn.linear_model import LogisticRegression\n",
        "from sklearn.model_selection import train_test_split\n",
        "from sklearn.metrics import confusion_matrix\n",
        "from sklearn.metrics import accuracy_score\n",
        "from sklearn.metrics import recall_score\n",
        "from sklearn.metrics import precision_score\n",
        "from sklearn.metrics import f1_score\n",
        "from sklearn.metrics import roc_auc_score\n",
        "from sklearn.preprocessing import LabelEncoder\n",
        "\n",
        "df = pd.read_csv('PimaIndiansDiabetes2.csv')\n",
        "print(df.describe())"
      ],
      "metadata": {
        "colab": {
          "base_uri": "https://localhost:8080/"
        },
        "id": "CXKPC6kmLEiw",
        "outputId": "616e06a6-6ffc-40de-a3b1-3c5087374dfe"
      },
      "execution_count": null,
      "outputs": [
        {
          "output_type": "stream",
          "name": "stdout",
          "text": [
            "         pregnant     glucose    pressure     triceps     insulin        mass  \\\n",
            "count  768.000000  763.000000  733.000000  541.000000  394.000000  757.000000   \n",
            "mean     3.845052  121.686763   72.405184   29.153420  155.548223   32.457464   \n",
            "std      3.369578   30.535641   12.382158   10.476982  118.775855    6.924988   \n",
            "min      0.000000   44.000000   24.000000    7.000000   14.000000   18.200000   \n",
            "25%      1.000000   99.000000   64.000000   22.000000   76.250000   27.500000   \n",
            "50%      3.000000  117.000000   72.000000   29.000000  125.000000   32.300000   \n",
            "75%      6.000000  141.000000   80.000000   36.000000  190.000000   36.600000   \n",
            "max     17.000000  199.000000  122.000000   99.000000  846.000000   67.100000   \n",
            "\n",
            "         pedigree         age  \n",
            "count  768.000000  768.000000  \n",
            "mean     0.471876   33.240885  \n",
            "std      0.331329   11.760232  \n",
            "min      0.078000   21.000000  \n",
            "25%      0.243750   24.000000  \n",
            "50%      0.372500   29.000000  \n",
            "75%      0.626250   41.000000  \n",
            "max      2.420000   81.000000  \n"
          ]
        }
      ]
    },
    {
      "cell_type": "code",
      "source": [
        "print(df.head(3))"
      ],
      "metadata": {
        "colab": {
          "base_uri": "https://localhost:8080/"
        },
        "id": "DEpOGXCVftf4",
        "outputId": "bf3f4dff-7c25-4617-e000-52d92cf00191"
      },
      "execution_count": null,
      "outputs": [
        {
          "output_type": "stream",
          "name": "stdout",
          "text": [
            "   pregnant  glucose  pressure  triceps  insulin  mass  pedigree  age diabetes\n",
            "0         6    148.0      72.0     35.0      NaN  33.6     0.627   50      pos\n",
            "1         1     85.0      66.0     29.0      NaN  26.6     0.351   31      neg\n",
            "2         8    183.0      64.0      NaN      NaN  23.3     0.672   32      pos\n"
          ]
        }
      ]
    },
    {
      "cell_type": "code",
      "source": [
        "print(df.info())"
      ],
      "metadata": {
        "colab": {
          "base_uri": "https://localhost:8080/"
        },
        "id": "VmE2-epngVbE",
        "outputId": "55f3de16-4500-4303-f58a-cbe5ebf6ab54"
      },
      "execution_count": null,
      "outputs": [
        {
          "output_type": "stream",
          "name": "stdout",
          "text": [
            "<class 'pandas.core.frame.DataFrame'>\n",
            "RangeIndex: 768 entries, 0 to 767\n",
            "Data columns (total 9 columns):\n",
            " #   Column    Non-Null Count  Dtype  \n",
            "---  ------    --------------  -----  \n",
            " 0   pregnant  768 non-null    int64  \n",
            " 1   glucose   763 non-null    float64\n",
            " 2   pressure  733 non-null    float64\n",
            " 3   triceps   541 non-null    float64\n",
            " 4   insulin   394 non-null    float64\n",
            " 5   mass      757 non-null    float64\n",
            " 6   pedigree  768 non-null    float64\n",
            " 7   age       768 non-null    int64  \n",
            " 8   diabetes  768 non-null    object \n",
            "dtypes: float64(6), int64(2), object(1)\n",
            "memory usage: 54.1+ KB\n",
            "None\n"
          ]
        }
      ]
    },
    {
      "cell_type": "code",
      "source": [
        "df=df.dropna()\n",
        "print(df.info())"
      ],
      "metadata": {
        "colab": {
          "base_uri": "https://localhost:8080/"
        },
        "id": "2koWph01gW-s",
        "outputId": "869a0aee-ba43-42c7-d555-f51b414c149f"
      },
      "execution_count": null,
      "outputs": [
        {
          "output_type": "stream",
          "name": "stdout",
          "text": [
            "<class 'pandas.core.frame.DataFrame'>\n",
            "Index: 392 entries, 3 to 765\n",
            "Data columns (total 9 columns):\n",
            " #   Column    Non-Null Count  Dtype  \n",
            "---  ------    --------------  -----  \n",
            " 0   pregnant  392 non-null    int64  \n",
            " 1   glucose   392 non-null    float64\n",
            " 2   pressure  392 non-null    float64\n",
            " 3   triceps   392 non-null    float64\n",
            " 4   insulin   392 non-null    float64\n",
            " 5   mass      392 non-null    float64\n",
            " 6   pedigree  392 non-null    float64\n",
            " 7   age       392 non-null    int64  \n",
            " 8   diabetes  392 non-null    object \n",
            "dtypes: float64(6), int64(2), object(1)\n",
            "memory usage: 30.6+ KB\n",
            "None\n"
          ]
        }
      ]
    },
    {
      "cell_type": "code",
      "source": [
        "x=df.drop('diabetes',axis=1)\n",
        "y=df['diabetes']\n",
        "y=LabelEncoder().fit_transform(y)\n",
        "\n",
        "x_train,x_test,y_train,y_test = train_test_split(x,y,test_size=0.2)\n",
        "\n",
        "md=LogisticRegression(max_iter=1000)\n",
        "md.fit(x_train,y_train)\n",
        "predict = md.predict(x_test)\n",
        "\n",
        "cm=confusion_matrix(y_test,predict,labels=[1,0])\n",
        "print(cm)\n",
        "\n",
        "print(accuracy_score(y_test,predict))\n",
        "print(recall_score(y_test,predict))\n",
        "print(precision_score(y_test, predict))\n",
        "print(f1_score(y_test,predict))\n",
        "print(roc_auc_score(y_test,predict))"
      ],
      "metadata": {
        "colab": {
          "base_uri": "https://localhost:8080/"
        },
        "id": "CBL59-LFgp9u",
        "outputId": "ecd382e8-262e-4649-a158-ad157400df38"
      },
      "execution_count": null,
      "outputs": [
        {
          "output_type": "stream",
          "name": "stdout",
          "text": [
            "[[12 15]\n",
            " [ 8 44]]\n",
            "0.7088607594936709\n",
            "0.4444444444444444\n",
            "0.6\n",
            "0.5106382978723405\n",
            "0.6452991452991452\n"
          ]
        }
      ]
    },
    {
      "cell_type": "markdown",
      "source": [],
      "metadata": {
        "id": "5rTw_gqljGMM"
      }
    },
    {
      "cell_type": "markdown",
      "source": [
        "##의사결정 나무\n",
        " 1. 의사결정 나무(Decision Tree) 개념\n",
        "   * 의사결정 나무는 데이터들이 가진 속성들로부터 분할 기준 속성을 판별하고, 분할 기준속성에 따라 트리 형태로 모델링하는 분류 예측 모델이다.\n",
        "   * 의사결정 나무 기법은 분석의 대상에 대해 분류함수를 활용하여 의사결정 규칙으로 이루어진 나무 모양으로 그리는 기법이다.\n",
        "---\n",
        "  2. 의사결정 나무 클래스  \n",
        "\n",
        "   * 의사결정나무를 수행할 수 있는 클래스는 sklearn.tree패키지의 DecisionTree-Classifier클래스이다.\n",
        "  ```\n",
        "  DecisionTreeCalssifier(criterion, max_depth, min_samples_split, min_samples_leaf, max_features)\n",
        "  ```\n",
        "\n",
        " * 파라미터   \n",
        "      * criterion : 트리의 분할 기준을 선택하는 파라미터(기본값은 'gini')\n",
        "             'gini' : 지니 지수를 기준으로 분할\n",
        "             'entropy' : 엔트로피 지수를 기준으로 분할\n",
        "      * max_depth: 트리의 최대 깊이를 지정하는 파라미터\n",
        "      * min_samples_split : 노드를 분할하기 위해 필요한 최소한의 샘플 수를 지정하는 파라미터\n",
        "      * min_samples_leaf : 리프 노드가 되기 위해 필요한 최소한의 샘플 수를 지정하는 파라미터\n",
        "      * max_features : 각분할에서 고려할 특성의 최대 개수를 지정하는 파라미터   "
      ],
      "metadata": {
        "id": "9raiEIQYjGNz"
      }
    },
    {
      "cell_type": "code",
      "source": [
        "#의사결정나무\n",
        "import pandas as pd\n",
        "from sklearn.tree import DecisionTreeClassifier\n",
        "from sklearn.model_selection import train_test_split\n",
        "from sklearn.metrics import confusion_matrix\n",
        "from sklearn.metrics import accuracy_score\n",
        "from sklearn.metrics import recall_score\n",
        "from sklearn.metrics import precision_score\n",
        "from sklearn.metrics import f1_score\n",
        "from sklearn.metrics import roc_auc_score\n",
        "from sklearn.preprocessing import LabelEncoder\n",
        "\n",
        "df=pd.read_csv('PimaIndiansDiabetes2.csv')\n",
        "\n",
        "print(df.describe())"
      ],
      "metadata": {
        "colab": {
          "base_uri": "https://localhost:8080/"
        },
        "id": "E_H-qQ1sjLRc",
        "outputId": "3793b555-9714-4c58-d9a5-0eb59ac0b699"
      },
      "execution_count": null,
      "outputs": [
        {
          "output_type": "stream",
          "name": "stdout",
          "text": [
            "         pregnant     glucose    pressure     triceps     insulin        mass  \\\n",
            "count  768.000000  763.000000  733.000000  541.000000  394.000000  757.000000   \n",
            "mean     3.845052  121.686763   72.405184   29.153420  155.548223   32.457464   \n",
            "std      3.369578   30.535641   12.382158   10.476982  118.775855    6.924988   \n",
            "min      0.000000   44.000000   24.000000    7.000000   14.000000   18.200000   \n",
            "25%      1.000000   99.000000   64.000000   22.000000   76.250000   27.500000   \n",
            "50%      3.000000  117.000000   72.000000   29.000000  125.000000   32.300000   \n",
            "75%      6.000000  141.000000   80.000000   36.000000  190.000000   36.600000   \n",
            "max     17.000000  199.000000  122.000000   99.000000  846.000000   67.100000   \n",
            "\n",
            "         pedigree         age  \n",
            "count  768.000000  768.000000  \n",
            "mean     0.471876   33.240885  \n",
            "std      0.331329   11.760232  \n",
            "min      0.078000   21.000000  \n",
            "25%      0.243750   24.000000  \n",
            "50%      0.372500   29.000000  \n",
            "75%      0.626250   41.000000  \n",
            "max      2.420000   81.000000  \n"
          ]
        }
      ]
    },
    {
      "cell_type": "code",
      "source": [
        "print(df.head(3))"
      ],
      "metadata": {
        "colab": {
          "base_uri": "https://localhost:8080/"
        },
        "id": "SOprbTn4mvY5",
        "outputId": "7ea0c243-5697-47b5-de58-62a9a2c9d1de"
      },
      "execution_count": null,
      "outputs": [
        {
          "output_type": "stream",
          "name": "stdout",
          "text": [
            "   pregnant  glucose  pressure  triceps  insulin  mass  pedigree  age diabetes\n",
            "0         6    148.0      72.0     35.0      NaN  33.6     0.627   50      pos\n",
            "1         1     85.0      66.0     29.0      NaN  26.6     0.351   31      neg\n",
            "2         8    183.0      64.0      NaN      NaN  23.3     0.672   32      pos\n"
          ]
        }
      ]
    },
    {
      "cell_type": "code",
      "source": [
        "print(df.info())"
      ],
      "metadata": {
        "colab": {
          "base_uri": "https://localhost:8080/"
        },
        "id": "8Oy9kCZvmy7O",
        "outputId": "ac42ca52-9cdb-4a91-c61c-446a900889cd"
      },
      "execution_count": null,
      "outputs": [
        {
          "output_type": "stream",
          "name": "stdout",
          "text": [
            "<class 'pandas.core.frame.DataFrame'>\n",
            "RangeIndex: 768 entries, 0 to 767\n",
            "Data columns (total 9 columns):\n",
            " #   Column    Non-Null Count  Dtype  \n",
            "---  ------    --------------  -----  \n",
            " 0   pregnant  768 non-null    int64  \n",
            " 1   glucose   763 non-null    float64\n",
            " 2   pressure  733 non-null    float64\n",
            " 3   triceps   541 non-null    float64\n",
            " 4   insulin   394 non-null    float64\n",
            " 5   mass      757 non-null    float64\n",
            " 6   pedigree  768 non-null    float64\n",
            " 7   age       768 non-null    int64  \n",
            " 8   diabetes  768 non-null    object \n",
            "dtypes: float64(6), int64(2), object(1)\n",
            "memory usage: 54.1+ KB\n",
            "None\n"
          ]
        }
      ]
    },
    {
      "cell_type": "code",
      "source": [
        "df=df.dropna()\n",
        "print(df.info())"
      ],
      "metadata": {
        "colab": {
          "base_uri": "https://localhost:8080/"
        },
        "id": "ohARwshjm03u",
        "outputId": "8b8642d6-d40a-4a3e-d945-ac85d3a8c3aa"
      },
      "execution_count": null,
      "outputs": [
        {
          "output_type": "stream",
          "name": "stdout",
          "text": [
            "<class 'pandas.core.frame.DataFrame'>\n",
            "Index: 392 entries, 3 to 765\n",
            "Data columns (total 9 columns):\n",
            " #   Column    Non-Null Count  Dtype  \n",
            "---  ------    --------------  -----  \n",
            " 0   pregnant  392 non-null    int64  \n",
            " 1   glucose   392 non-null    float64\n",
            " 2   pressure  392 non-null    float64\n",
            " 3   triceps   392 non-null    float64\n",
            " 4   insulin   392 non-null    float64\n",
            " 5   mass      392 non-null    float64\n",
            " 6   pedigree  392 non-null    float64\n",
            " 7   age       392 non-null    int64  \n",
            " 8   diabetes  392 non-null    object \n",
            "dtypes: float64(6), int64(2), object(1)\n",
            "memory usage: 30.6+ KB\n",
            "None\n"
          ]
        }
      ]
    },
    {
      "cell_type": "code",
      "source": [
        "x=df.drop('diabetes',axis=1)\n",
        "y=df['diabetes']\n",
        "y=LabelEncoder().fit_transform(y)\n",
        "\n",
        "x_train,x_test,y_train,y_test = train_test_split(x,y,test_size=0.2)\n",
        "\n",
        "md = DecisionTreeClassifier(max_depth=2)\n",
        "md.fit(x_train,y_train)\n",
        "\n",
        "predict = md.predict(x_test)\n",
        "\n",
        "cm = confusion_matrix(y_test,predict,labels=[1,0])\n",
        "print(cm)\n",
        "\n",
        "print(accuracy_score(y_test,predict))\n",
        "print(recall_score(y_test,predict))\n",
        "print(precision_score(y_test,predict))\n",
        "print(f1_score(y_test,predict))\n",
        "print(roc_auc_score(y_test,predict))"
      ],
      "metadata": {
        "colab": {
          "base_uri": "https://localhost:8080/"
        },
        "id": "kPu3M5yim5Aw",
        "outputId": "5b2b9dad-8d0c-466a-ef90-017d7d58724f"
      },
      "execution_count": null,
      "outputs": [
        {
          "output_type": "stream",
          "name": "stdout",
          "text": [
            "[[15  9]\n",
            " [ 9 46]]\n",
            "0.7721518987341772\n",
            "0.625\n",
            "0.625\n",
            "0.625\n",
            "0.7306818181818182\n"
          ]
        }
      ]
    },
    {
      "cell_type": "markdown",
      "source": [
        "## 서포트 벡터 머신\n",
        "1. 서포트 벡터 머신(SVM;Support Vector Machine)의 개념\n",
        " * 서포트 벡터 머신은 데이터를 분리하는 초평면(Hyperplane)중에서 데이터들과 거리가 가장 먼 초평면을 선택하여 분리하는 지도학습 기반의 이진 선형 분류 모델이다.\n",
        " * 기계학습의 한 분야로 사물 인식, 패턴 인시그 손 글씨 숫자 인식 등 다양한 분야에서 활용되고 있는 지도학습 모델이다.\n",
        " * 최대 마진(Margin; 여유 공간)을 가지는 비확률적 선형 판별에 기초한 이진 분류기이다.\n",
        "\n",
        "2. 서포트 벡터 머신 클래스\n",
        " * 서포트 벡터 머신을 수행할 수 있는 클래스는 sklearn.svm 패키지의 svc클래스이다.\n",
        " ```\n",
        " SVC(kernal, C)\n",
        " ```\n",
        " 파라미터  \n",
        "    * kernal :  커널함수를 지정하는 파라미터(기본값 'rbf')  \n",
        "           'rbf':Radial Basis Function(RBF)  \n",
        "           'linear':선형 커널  \n",
        "           'poly' : 다항식 커널  \n",
        "           'sigmoid' : 시그모이드 커널     \n",
        "    * C : 오차 허용 범위를 조절하는 파라미터"
      ],
      "metadata": {
        "id": "QGyvele4S_Gp"
      }
    },
    {
      "cell_type": "code",
      "source": [
        "import pandas as pd\n",
        "from sklearn.svm import SVC\n",
        "from sklearn.model_selection import train_test_split\n",
        "from sklearn.metrics import confusion_matrix\n",
        "from sklearn.metrics import accuracy_score\n",
        "from sklearn.metrics import recall_score\n",
        "from sklearn.metrics import precision_score\n",
        "from sklearn.metrics import f1_score\n",
        "from sklearn.metrics import roc_auc_score\n",
        "from sklearn.preprocessing import LabelEncoder\n",
        "\n",
        "df = pd.read_csv('PimaIndiansDiabetes2.csv')\n",
        "\n",
        "print(df.describe())\n"
      ],
      "metadata": {
        "colab": {
          "base_uri": "https://localhost:8080/"
        },
        "id": "Fk3-6LneYAJr",
        "outputId": "10075d54-5152-4848-8a85-20437bab08ee"
      },
      "execution_count": null,
      "outputs": [
        {
          "output_type": "stream",
          "name": "stdout",
          "text": [
            "         pregnant     glucose    pressure     triceps     insulin        mass  \\\n",
            "count  768.000000  763.000000  733.000000  541.000000  394.000000  757.000000   \n",
            "mean     3.845052  121.686763   72.405184   29.153420  155.548223   32.457464   \n",
            "std      3.369578   30.535641   12.382158   10.476982  118.775855    6.924988   \n",
            "min      0.000000   44.000000   24.000000    7.000000   14.000000   18.200000   \n",
            "25%      1.000000   99.000000   64.000000   22.000000   76.250000   27.500000   \n",
            "50%      3.000000  117.000000   72.000000   29.000000  125.000000   32.300000   \n",
            "75%      6.000000  141.000000   80.000000   36.000000  190.000000   36.600000   \n",
            "max     17.000000  199.000000  122.000000   99.000000  846.000000   67.100000   \n",
            "\n",
            "         pedigree         age  \n",
            "count  768.000000  768.000000  \n",
            "mean     0.471876   33.240885  \n",
            "std      0.331329   11.760232  \n",
            "min      0.078000   21.000000  \n",
            "25%      0.243750   24.000000  \n",
            "50%      0.372500   29.000000  \n",
            "75%      0.626250   41.000000  \n",
            "max      2.420000   81.000000  \n"
          ]
        }
      ]
    },
    {
      "cell_type": "code",
      "source": [
        "print(df.head(3))"
      ],
      "metadata": {
        "colab": {
          "base_uri": "https://localhost:8080/"
        },
        "id": "IMbZ11-IZbTU",
        "outputId": "64c48be3-86df-4dd7-a18b-6c91684fb328"
      },
      "execution_count": null,
      "outputs": [
        {
          "output_type": "stream",
          "name": "stdout",
          "text": [
            "   pregnant  glucose  pressure  triceps  insulin  mass  pedigree  age diabetes\n",
            "0         6    148.0      72.0     35.0      NaN  33.6     0.627   50      pos\n",
            "1         1     85.0      66.0     29.0      NaN  26.6     0.351   31      neg\n",
            "2         8    183.0      64.0      NaN      NaN  23.3     0.672   32      pos\n"
          ]
        }
      ]
    },
    {
      "cell_type": "code",
      "source": [
        "print(df.info())"
      ],
      "metadata": {
        "colab": {
          "base_uri": "https://localhost:8080/"
        },
        "id": "nU3zXzusZc8S",
        "outputId": "a1794ad9-a2f9-49b5-fb5d-cff13fac481a"
      },
      "execution_count": null,
      "outputs": [
        {
          "output_type": "stream",
          "name": "stdout",
          "text": [
            "<class 'pandas.core.frame.DataFrame'>\n",
            "RangeIndex: 768 entries, 0 to 767\n",
            "Data columns (total 9 columns):\n",
            " #   Column    Non-Null Count  Dtype  \n",
            "---  ------    --------------  -----  \n",
            " 0   pregnant  768 non-null    int64  \n",
            " 1   glucose   763 non-null    float64\n",
            " 2   pressure  733 non-null    float64\n",
            " 3   triceps   541 non-null    float64\n",
            " 4   insulin   394 non-null    float64\n",
            " 5   mass      757 non-null    float64\n",
            " 6   pedigree  768 non-null    float64\n",
            " 7   age       768 non-null    int64  \n",
            " 8   diabetes  768 non-null    object \n",
            "dtypes: float64(6), int64(2), object(1)\n",
            "memory usage: 54.1+ KB\n",
            "None\n"
          ]
        }
      ]
    },
    {
      "cell_type": "code",
      "source": [
        "df=df.dropna()\n",
        "print(df.info())"
      ],
      "metadata": {
        "colab": {
          "base_uri": "https://localhost:8080/"
        },
        "id": "fijUD4_JZeFn",
        "outputId": "1bdfdf5d-cb55-406b-8878-fca3815a1a09"
      },
      "execution_count": null,
      "outputs": [
        {
          "output_type": "stream",
          "name": "stdout",
          "text": [
            "<class 'pandas.core.frame.DataFrame'>\n",
            "Index: 392 entries, 3 to 765\n",
            "Data columns (total 9 columns):\n",
            " #   Column    Non-Null Count  Dtype  \n",
            "---  ------    --------------  -----  \n",
            " 0   pregnant  392 non-null    int64  \n",
            " 1   glucose   392 non-null    float64\n",
            " 2   pressure  392 non-null    float64\n",
            " 3   triceps   392 non-null    float64\n",
            " 4   insulin   392 non-null    float64\n",
            " 5   mass      392 non-null    float64\n",
            " 6   pedigree  392 non-null    float64\n",
            " 7   age       392 non-null    int64  \n",
            " 8   diabetes  392 non-null    object \n",
            "dtypes: float64(6), int64(2), object(1)\n",
            "memory usage: 30.6+ KB\n",
            "None\n"
          ]
        }
      ]
    },
    {
      "cell_type": "code",
      "source": [
        "x=df.drop('diabetes', axis=1)\n",
        "y=df['diabetes']\n",
        "y=LabelEncoder().fit_transform(y)\n",
        "x_train,x_test,y_train,y_test=train_test_split(x,y,test_size=0.2)\n",
        "\n",
        "md= SVC(kernel='linear')\n",
        "md.fit(x_train,y_train)\n",
        "\n",
        "predict = md.predict(x_test)\n",
        "\n",
        "cm = confusion_matrix(y_test, predict,labels=[1,0])\n",
        "print(cm)\n"
      ],
      "metadata": {
        "colab": {
          "base_uri": "https://localhost:8080/"
        },
        "id": "vho6tHqtZiYj",
        "outputId": "3694dbd3-7f42-46b3-9561-6ddd8058e8fd"
      },
      "execution_count": null,
      "outputs": [
        {
          "output_type": "stream",
          "name": "stdout",
          "text": [
            "[[21  7]\n",
            " [ 8 43]]\n"
          ]
        }
      ]
    },
    {
      "cell_type": "code",
      "source": [
        "print(accuracy_score(y_test,predict))"
      ],
      "metadata": {
        "colab": {
          "base_uri": "https://localhost:8080/"
        },
        "id": "VEmkJDLDbD0j",
        "outputId": "07b74915-6527-489f-fffa-e8256c0cac55"
      },
      "execution_count": null,
      "outputs": [
        {
          "output_type": "stream",
          "name": "stdout",
          "text": [
            "0.810126582278481\n"
          ]
        }
      ]
    },
    {
      "cell_type": "code",
      "source": [
        "print(recall_score(y_test,predict))"
      ],
      "metadata": {
        "colab": {
          "base_uri": "https://localhost:8080/"
        },
        "id": "YDbyFLwMbV6V",
        "outputId": "ff1121e3-40cf-4c47-f271-aeb7f2c97110"
      },
      "execution_count": null,
      "outputs": [
        {
          "output_type": "stream",
          "name": "stdout",
          "text": [
            "0.75\n"
          ]
        }
      ]
    },
    {
      "cell_type": "code",
      "source": [
        "print(precision_score(y_test,predict))"
      ],
      "metadata": {
        "colab": {
          "base_uri": "https://localhost:8080/"
        },
        "id": "eNyKfVxpkIvv",
        "outputId": "90a08418-72a7-487f-b108-b895ffd8baf7"
      },
      "execution_count": null,
      "outputs": [
        {
          "output_type": "stream",
          "name": "stdout",
          "text": [
            "0.7241379310344828\n"
          ]
        }
      ]
    },
    {
      "cell_type": "code",
      "source": [
        "print(f1_score(y_test,predict))"
      ],
      "metadata": {
        "colab": {
          "base_uri": "https://localhost:8080/"
        },
        "id": "TxnqdOzzkRVx",
        "outputId": "73d2385e-72e6-4505-fdcb-320c8b9508a8"
      },
      "execution_count": null,
      "outputs": [
        {
          "output_type": "stream",
          "name": "stdout",
          "text": [
            "0.736842105263158\n"
          ]
        }
      ]
    },
    {
      "cell_type": "code",
      "source": [
        "print(roc_auc_score(y_test,predict))"
      ],
      "metadata": {
        "colab": {
          "base_uri": "https://localhost:8080/"
        },
        "id": "vSWrUO1QkVnr",
        "outputId": "b3de8296-2ecb-4ed8-99cb-b299af95c1f2"
      },
      "execution_count": null,
      "outputs": [
        {
          "output_type": "stream",
          "name": "stdout",
          "text": [
            "0.7965686274509804\n"
          ]
        }
      ]
    },
    {
      "cell_type": "markdown",
      "source": [],
      "metadata": {
        "id": "ehoLs4crkmau"
      }
    },
    {
      "cell_type": "markdown",
      "source": [
        "##KNN\n",
        "\n",
        "1. K-NN(K-Nearest Neighbor; K-최근접 이웃) 개념\n",
        " * K-NN 알고리즘은 새로운 데이터 클래스를 해당 데이터와 가장 가까운 k개 데이터들의 클래스로 분류하는 알고리즘이다.\n",
        " * K-NN 알고리즘에서는 유클리디안 거리, 맨하탄 거리, 민코우스키 거리 등을 사용할 수 있으며, 일반적으로 유클리디안 거리를 사용한다.\n",
        " * 근접 이웃의 수인 K는 학습의 난이도와 훈련 데이터의 개수에 따라 결정하며, 일반적으로 훈련 데이터 개수의 제곱근으로 설정한다.\n",
        "\n",
        "2. K-NN클래스\n",
        " * K-NN을 수행할 수 있는 클래스는 sklearn.neighbors 패키지의 KNeighbors-Classifier 클래스이다.\n",
        " ```\n",
        " KNeighborsClassifier(n_neighbors,weights)\n",
        " ```\n",
        " * 파라미터   \n",
        "          n_neighbors : 이웃의 수를 지정하는 파라미터(기본값 5)\n",
        "          weigths : 이웃들의 가중치를 결정하는 방법을 지정하는 파라미터(기본값 'uniform')"
      ],
      "metadata": {
        "id": "R9B6qcR1kmcw"
      }
    },
    {
      "cell_type": "code",
      "source": [
        "import pandas as pd\n",
        "from sklearn.neighbors import KNeighborsClassifier\n",
        "from sklearn.model_selection import train_test_split\n",
        "from sklearn.metrics import *\n",
        "from sklearn.preprocessing import LabelEncoder\n",
        "\n",
        "df = pd.read_csv('PimaIndiansDiabetes2.csv')\n",
        "\n",
        "print(df.describe())"
      ],
      "metadata": {
        "colab": {
          "base_uri": "https://localhost:8080/"
        },
        "id": "AqZbg8w_6aM4",
        "outputId": "fec19468-65a0-44ce-cdec-5445ce1e0628"
      },
      "execution_count": null,
      "outputs": [
        {
          "output_type": "stream",
          "name": "stdout",
          "text": [
            "         pregnant     glucose    pressure     triceps     insulin        mass  \\\n",
            "count  768.000000  763.000000  733.000000  541.000000  394.000000  757.000000   \n",
            "mean     3.845052  121.686763   72.405184   29.153420  155.548223   32.457464   \n",
            "std      3.369578   30.535641   12.382158   10.476982  118.775855    6.924988   \n",
            "min      0.000000   44.000000   24.000000    7.000000   14.000000   18.200000   \n",
            "25%      1.000000   99.000000   64.000000   22.000000   76.250000   27.500000   \n",
            "50%      3.000000  117.000000   72.000000   29.000000  125.000000   32.300000   \n",
            "75%      6.000000  141.000000   80.000000   36.000000  190.000000   36.600000   \n",
            "max     17.000000  199.000000  122.000000   99.000000  846.000000   67.100000   \n",
            "\n",
            "         pedigree         age  \n",
            "count  768.000000  768.000000  \n",
            "mean     0.471876   33.240885  \n",
            "std      0.331329   11.760232  \n",
            "min      0.078000   21.000000  \n",
            "25%      0.243750   24.000000  \n",
            "50%      0.372500   29.000000  \n",
            "75%      0.626250   41.000000  \n",
            "max      2.420000   81.000000  \n"
          ]
        }
      ]
    },
    {
      "cell_type": "code",
      "source": [
        "print(df.head(3))"
      ],
      "metadata": {
        "colab": {
          "base_uri": "https://localhost:8080/"
        },
        "id": "Xgn8hRfh6aPP",
        "outputId": "a1adc664-ef7d-43da-f045-5677b35996fd"
      },
      "execution_count": null,
      "outputs": [
        {
          "output_type": "stream",
          "name": "stdout",
          "text": [
            "   pregnant  glucose  pressure  triceps  insulin  mass  pedigree  age diabetes\n",
            "0         6    148.0      72.0     35.0      NaN  33.6     0.627   50      pos\n",
            "1         1     85.0      66.0     29.0      NaN  26.6     0.351   31      neg\n",
            "2         8    183.0      64.0      NaN      NaN  23.3     0.672   32      pos\n"
          ]
        }
      ]
    },
    {
      "cell_type": "code",
      "source": [
        "print(df.info())"
      ],
      "metadata": {
        "colab": {
          "base_uri": "https://localhost:8080/"
        },
        "id": "uZq-SJ627BlF",
        "outputId": "a89ecf04-0a52-44c2-9038-fad69d105fac"
      },
      "execution_count": null,
      "outputs": [
        {
          "output_type": "stream",
          "name": "stdout",
          "text": [
            "<class 'pandas.core.frame.DataFrame'>\n",
            "RangeIndex: 768 entries, 0 to 767\n",
            "Data columns (total 9 columns):\n",
            " #   Column    Non-Null Count  Dtype  \n",
            "---  ------    --------------  -----  \n",
            " 0   pregnant  768 non-null    int64  \n",
            " 1   glucose   763 non-null    float64\n",
            " 2   pressure  733 non-null    float64\n",
            " 3   triceps   541 non-null    float64\n",
            " 4   insulin   394 non-null    float64\n",
            " 5   mass      757 non-null    float64\n",
            " 6   pedigree  768 non-null    float64\n",
            " 7   age       768 non-null    int64  \n",
            " 8   diabetes  768 non-null    object \n",
            "dtypes: float64(6), int64(2), object(1)\n",
            "memory usage: 54.1+ KB\n",
            "None\n"
          ]
        }
      ]
    },
    {
      "cell_type": "code",
      "source": [
        "df=df.dropna()\n",
        "print(df.info())"
      ],
      "metadata": {
        "colab": {
          "base_uri": "https://localhost:8080/"
        },
        "id": "zbttsYj47Dy7",
        "outputId": "25427d12-6585-41b7-f0fc-01f99f908509"
      },
      "execution_count": null,
      "outputs": [
        {
          "output_type": "stream",
          "name": "stdout",
          "text": [
            "<class 'pandas.core.frame.DataFrame'>\n",
            "Index: 392 entries, 3 to 765\n",
            "Data columns (total 9 columns):\n",
            " #   Column    Non-Null Count  Dtype  \n",
            "---  ------    --------------  -----  \n",
            " 0   pregnant  392 non-null    int64  \n",
            " 1   glucose   392 non-null    float64\n",
            " 2   pressure  392 non-null    float64\n",
            " 3   triceps   392 non-null    float64\n",
            " 4   insulin   392 non-null    float64\n",
            " 5   mass      392 non-null    float64\n",
            " 6   pedigree  392 non-null    float64\n",
            " 7   age       392 non-null    int64  \n",
            " 8   diabetes  392 non-null    object \n",
            "dtypes: float64(6), int64(2), object(1)\n",
            "memory usage: 30.6+ KB\n",
            "None\n"
          ]
        }
      ]
    },
    {
      "cell_type": "code",
      "source": [
        "x=df.drop('diabetes',axis=1)\n",
        "y=df['diabetes']\n",
        "y= LabelEncoder().fit_transform(y)\n",
        "x_train,x_test,y_train,y_test = train_test_split(x,y,test_size=0.2)\n",
        "\n",
        "md = KNeighborsClassifier(n_neighbors=5)\n",
        "md.fit(x_train,y_train)\n",
        "\n",
        "predict =md.predict(x_test)\n",
        "\n",
        "cm=confusion_matrix(y_test,predict,labels=[1,0])\n",
        "print(cm)"
      ],
      "metadata": {
        "colab": {
          "base_uri": "https://localhost:8080/"
        },
        "id": "UjOYA4UZ7KXU",
        "outputId": "fbfd6bda-ae60-488f-be07-4565a5968a58"
      },
      "execution_count": null,
      "outputs": [
        {
          "output_type": "stream",
          "name": "stdout",
          "text": [
            "[[12 13]\n",
            " [12 42]]\n"
          ]
        }
      ]
    },
    {
      "cell_type": "code",
      "source": [
        "print(accuracy_score(y_test,predict))"
      ],
      "metadata": {
        "colab": {
          "base_uri": "https://localhost:8080/"
        },
        "id": "FaOcpy5f8H6E",
        "outputId": "37f28627-3c6c-4e0d-82f2-45d3fa317067"
      },
      "execution_count": null,
      "outputs": [
        {
          "output_type": "stream",
          "name": "stdout",
          "text": [
            "0.6835443037974683\n"
          ]
        }
      ]
    },
    {
      "cell_type": "code",
      "source": [
        "print(recall_score(y_test,predict))"
      ],
      "metadata": {
        "colab": {
          "base_uri": "https://localhost:8080/"
        },
        "id": "x3rDKH8L8OAZ",
        "outputId": "c140da55-bcb9-4059-efe1-931ee41aae1e"
      },
      "execution_count": null,
      "outputs": [
        {
          "output_type": "stream",
          "name": "stdout",
          "text": [
            "0.48\n"
          ]
        }
      ]
    },
    {
      "cell_type": "code",
      "source": [
        "print(precision_score(y_test,predict))"
      ],
      "metadata": {
        "colab": {
          "base_uri": "https://localhost:8080/"
        },
        "id": "UMyqwksU8MrA",
        "outputId": "873c9dd3-0e61-4e2e-ea00-dd704af250de"
      },
      "execution_count": null,
      "outputs": [
        {
          "output_type": "stream",
          "name": "stdout",
          "text": [
            "0.5\n"
          ]
        }
      ]
    },
    {
      "cell_type": "code",
      "source": [
        "print(f1_score(y_test,predict))"
      ],
      "metadata": {
        "colab": {
          "base_uri": "https://localhost:8080/"
        },
        "id": "TpIMm9SM8WXp",
        "outputId": "1808a504-9479-48a9-a851-54cafff56097"
      },
      "execution_count": null,
      "outputs": [
        {
          "output_type": "stream",
          "name": "stdout",
          "text": [
            "0.4897959183673469\n"
          ]
        }
      ]
    },
    {
      "cell_type": "code",
      "source": [
        "print(roc_auc_score(y_test,predict))"
      ],
      "metadata": {
        "colab": {
          "base_uri": "https://localhost:8080/"
        },
        "id": "2pvFNPwe8ZvS",
        "outputId": "28a73b2e-f4f6-4eb0-b990-9aa7079f7873"
      },
      "execution_count": null,
      "outputs": [
        {
          "output_type": "stream",
          "name": "stdout",
          "text": [
            "0.6288888888888889\n"
          ]
        }
      ]
    },
    {
      "cell_type": "markdown",
      "source": [
        "##인공신경망\n",
        "1. 인공신경망(ANN; Artificial Neural Network)개념\n",
        "  * 인공신경망은 인간의 뉴런 구조를 모방하여 만든 기계학습 모델이다.\n",
        "  * 인공신경망은 입력값을 받아서 출력값을 만들기 위해 활성화 함수를 사용한다.\n",
        "\n",
        "2. 인공신경망 클래스\n",
        "  * 인공신경망을 수행할 수 있는 클래스는 sklearn.neural_network 패키지의 MLPClassifier 클래스이다.\n",
        "  ```\n",
        "  MLPClassifier(hidden_layer_sizes, activation,  solver, max_iter,random_state)\n",
        "  ```\n",
        "  * 파라미터  \n",
        "         hidden_layer_sizes : 은닉층의 구조를 지정하는 파라미터\n",
        "         예: (64,32)\n",
        "         → 첫 번째 은닉층에 64개의 뉴런, 두 번째 은닉층에 32개의 뉴런을 가지는 다층 퍼셉트론\n",
        "\n",
        "         activation : 활성화 함수를 지정하는 파라미터 (기본값 'relu')\n",
        "          - 'logistic' : 로지스틱 시그모이드 함수\n",
        "          - 'tanh' : 하이퍼볼릭 탄젠트 함수\n",
        "\n",
        "         solver : 가중치 최적화에 사용할 알고리즘을 지정하는 파라미터\n",
        "\n",
        "         max_iter : 최대 반복 횟수를 지정하는 파라미터(기본값200)\n",
        "\n",
        "         random_state : 랜덤 시드 값으로, 결과의 재현성을 위해 사용하는 파라미터\n"
      ],
      "metadata": {
        "id": "N6HH_oiV9PLS"
      }
    },
    {
      "cell_type": "code",
      "source": [
        "# 인공신경망\n",
        "import pandas as pd\n",
        "from sklearn.neural_network import MLPClassifier\n",
        "from sklearn.model_selection import train_test_split\n",
        "from sklearn.metrics import *\n",
        "from sklearn.preprocessing import LabelEncoder\n",
        "\n",
        "df= pd.read_csv('PimaIndiansDiabetes2.csv')\n",
        "\n",
        "print(df.describe())"
      ],
      "metadata": {
        "colab": {
          "base_uri": "https://localhost:8080/"
        },
        "id": "QcVG--3I_ZkY",
        "outputId": "23429a7f-b60a-46df-a43e-1c8f83e817b9"
      },
      "execution_count": null,
      "outputs": [
        {
          "output_type": "stream",
          "name": "stdout",
          "text": [
            "         pregnant     glucose    pressure     triceps     insulin        mass  \\\n",
            "count  768.000000  763.000000  733.000000  541.000000  394.000000  757.000000   \n",
            "mean     3.845052  121.686763   72.405184   29.153420  155.548223   32.457464   \n",
            "std      3.369578   30.535641   12.382158   10.476982  118.775855    6.924988   \n",
            "min      0.000000   44.000000   24.000000    7.000000   14.000000   18.200000   \n",
            "25%      1.000000   99.000000   64.000000   22.000000   76.250000   27.500000   \n",
            "50%      3.000000  117.000000   72.000000   29.000000  125.000000   32.300000   \n",
            "75%      6.000000  141.000000   80.000000   36.000000  190.000000   36.600000   \n",
            "max     17.000000  199.000000  122.000000   99.000000  846.000000   67.100000   \n",
            "\n",
            "         pedigree         age  \n",
            "count  768.000000  768.000000  \n",
            "mean     0.471876   33.240885  \n",
            "std      0.331329   11.760232  \n",
            "min      0.078000   21.000000  \n",
            "25%      0.243750   24.000000  \n",
            "50%      0.372500   29.000000  \n",
            "75%      0.626250   41.000000  \n",
            "max      2.420000   81.000000  \n"
          ]
        }
      ]
    },
    {
      "cell_type": "code",
      "source": [
        "print(df.head(3))"
      ],
      "metadata": {
        "colab": {
          "base_uri": "https://localhost:8080/"
        },
        "id": "XehdpTLs_51S",
        "outputId": "65ae2fd6-5628-4ba2-c330-56e97cd3fca4"
      },
      "execution_count": null,
      "outputs": [
        {
          "output_type": "stream",
          "name": "stdout",
          "text": [
            "   pregnant  glucose  pressure  triceps  insulin  mass  pedigree  age diabetes\n",
            "0         6    148.0      72.0     35.0      NaN  33.6     0.627   50      pos\n",
            "1         1     85.0      66.0     29.0      NaN  26.6     0.351   31      neg\n",
            "2         8    183.0      64.0      NaN      NaN  23.3     0.672   32      pos\n"
          ]
        }
      ]
    },
    {
      "cell_type": "code",
      "source": [
        "print(df.info())"
      ],
      "metadata": {
        "colab": {
          "base_uri": "https://localhost:8080/"
        },
        "id": "KnJEyOlD_7k8",
        "outputId": "97063e15-8cdb-4d1d-8d6c-41dc0b870317"
      },
      "execution_count": null,
      "outputs": [
        {
          "output_type": "stream",
          "name": "stdout",
          "text": [
            "<class 'pandas.core.frame.DataFrame'>\n",
            "RangeIndex: 768 entries, 0 to 767\n",
            "Data columns (total 9 columns):\n",
            " #   Column    Non-Null Count  Dtype  \n",
            "---  ------    --------------  -----  \n",
            " 0   pregnant  768 non-null    int64  \n",
            " 1   glucose   763 non-null    float64\n",
            " 2   pressure  733 non-null    float64\n",
            " 3   triceps   541 non-null    float64\n",
            " 4   insulin   394 non-null    float64\n",
            " 5   mass      757 non-null    float64\n",
            " 6   pedigree  768 non-null    float64\n",
            " 7   age       768 non-null    int64  \n",
            " 8   diabetes  768 non-null    object \n",
            "dtypes: float64(6), int64(2), object(1)\n",
            "memory usage: 54.1+ KB\n",
            "None\n"
          ]
        }
      ]
    },
    {
      "cell_type": "code",
      "source": [
        "df=df.dropna()\n",
        "print(df.info())"
      ],
      "metadata": {
        "colab": {
          "base_uri": "https://localhost:8080/"
        },
        "id": "fq-E-sQl_84i",
        "outputId": "8ab9e51b-7501-48e5-b882-2b3ba956a9cd"
      },
      "execution_count": null,
      "outputs": [
        {
          "output_type": "stream",
          "name": "stdout",
          "text": [
            "<class 'pandas.core.frame.DataFrame'>\n",
            "Index: 392 entries, 3 to 765\n",
            "Data columns (total 9 columns):\n",
            " #   Column    Non-Null Count  Dtype  \n",
            "---  ------    --------------  -----  \n",
            " 0   pregnant  392 non-null    int64  \n",
            " 1   glucose   392 non-null    float64\n",
            " 2   pressure  392 non-null    float64\n",
            " 3   triceps   392 non-null    float64\n",
            " 4   insulin   392 non-null    float64\n",
            " 5   mass      392 non-null    float64\n",
            " 6   pedigree  392 non-null    float64\n",
            " 7   age       392 non-null    int64  \n",
            " 8   diabetes  392 non-null    object \n",
            "dtypes: float64(6), int64(2), object(1)\n",
            "memory usage: 30.6+ KB\n",
            "None\n"
          ]
        }
      ]
    },
    {
      "cell_type": "code",
      "source": [
        "x=df.drop('diabetes',axis=1)\n",
        "y=df['diabetes']\n",
        "y=LabelEncoder().fit_transform(y)\n",
        "\n",
        "x_train,x_test,y_train,y_test = train_test_split(x,y,test_size=0.2)\n",
        "\n",
        "md=MLPClassifier(hidden_layer_sizes=(64,32),activation='relu',max_iter=1000)\n",
        "md.fit(x_train,y_train)\n",
        "\n",
        "predict=md.predict(x_test)\n",
        "\n",
        "cm=confusion_matrix(y_test,predict)\n",
        "print(cm)\n"
      ],
      "metadata": {
        "colab": {
          "base_uri": "https://localhost:8080/"
        },
        "id": "aqoXlJiZABOY",
        "outputId": "da4b28f1-6be2-4edd-c02b-bd3d9b6fba03"
      },
      "execution_count": null,
      "outputs": [
        {
          "output_type": "stream",
          "name": "stdout",
          "text": [
            "[[44  4]\n",
            " [17 14]]\n"
          ]
        }
      ]
    },
    {
      "cell_type": "code",
      "source": [
        "print(accuracy_score(y_test,predict))"
      ],
      "metadata": {
        "colab": {
          "base_uri": "https://localhost:8080/"
        },
        "id": "GLOXYh8VBIlZ",
        "outputId": "c7aa220d-9457-44e4-c5b0-76d2afe36cbb"
      },
      "execution_count": null,
      "outputs": [
        {
          "output_type": "stream",
          "name": "stdout",
          "text": [
            "0.7341772151898734\n"
          ]
        }
      ]
    },
    {
      "cell_type": "code",
      "source": [
        "print(recall_score(y_test,predict))"
      ],
      "metadata": {
        "colab": {
          "base_uri": "https://localhost:8080/"
        },
        "id": "Xd6pymbOBRUq",
        "outputId": "887628e8-f0bf-4c8a-db4c-72168e62e212"
      },
      "execution_count": null,
      "outputs": [
        {
          "output_type": "stream",
          "name": "stdout",
          "text": [
            "0.45161290322580644\n"
          ]
        }
      ]
    },
    {
      "cell_type": "code",
      "source": [
        "print(precision_score(y_test,predict))"
      ],
      "metadata": {
        "colab": {
          "base_uri": "https://localhost:8080/"
        },
        "id": "V6eYoI36BeIv",
        "outputId": "89d63456-b57a-40bb-c7db-4aa146ba4645"
      },
      "execution_count": null,
      "outputs": [
        {
          "output_type": "stream",
          "name": "stdout",
          "text": [
            "0.7777777777777778\n"
          ]
        }
      ]
    },
    {
      "cell_type": "code",
      "source": [
        "print(f1_score(y_test,predict))"
      ],
      "metadata": {
        "colab": {
          "base_uri": "https://localhost:8080/"
        },
        "id": "PvDAXJm2BiWP",
        "outputId": "240c9d5f-38f1-47f1-a3a6-60c2bc7499ec"
      },
      "execution_count": null,
      "outputs": [
        {
          "output_type": "stream",
          "name": "stdout",
          "text": [
            "0.5714285714285714\n"
          ]
        }
      ]
    },
    {
      "cell_type": "code",
      "source": [
        "print(roc_auc_score(y_test,predict))"
      ],
      "metadata": {
        "colab": {
          "base_uri": "https://localhost:8080/"
        },
        "id": "drOvF3fxBntP",
        "outputId": "75c13492-e9f6-425e-87dc-3d64f4b89cb1"
      },
      "execution_count": null,
      "outputs": [
        {
          "output_type": "stream",
          "name": "stdout",
          "text": [
            "0.6841397849462365\n"
          ]
        }
      ]
    },
    {
      "cell_type": "markdown",
      "source": [
        "##앙상블"
      ],
      "metadata": {
        "id": "QQyPrE0fDkpU"
      }
    },
    {
      "cell_type": "markdown",
      "source": [
        "###배깅\n",
        " 1. 배깅(Bagging; BootStrap Aggregating)의 개념\n",
        "  * 배깅은 훈련 데이터에서 다수의 부트스트랩(BootStrap)자료를 생성하고, 각 자료를 모델링한 후 결합하여 최종 예측 모형을 만드는 알고리즘이다.\n",
        "  * 부트스트랩은 주어진 자료에서 같은 크기의 표본을 랜덤 복원 추출로 뽑은 자료를 의미한다.\n",
        "\n",
        " 2. 배깅 클래스  \n",
        "   * 배깅을 수행할 수 있는 클래스는 sklearn.ensemble 패키지의 BaggingClassifier 클래스이다.\n",
        "   ```\n",
        "   BaggingClassifier(base_estimator,max_samples, n_estimators)\n",
        "   ```\n",
        "    * 파라미터\n",
        "   ```\n",
        "   base_estimator : 사용할 기본 분류기를 지정하는 파라미터\n",
        "   max_samples : 개별 분류기에 사용할 샘플의 수 또는 비율을 지정하는 파라미터(기본값 1.0)\n",
        "   n_estimators : 앙상블에 사용할 개별 분류기의 수를 지정하는 파라미터\n",
        "\n",
        "   ```"
      ],
      "metadata": {
        "id": "53oX2whaDr0y"
      }
    },
    {
      "cell_type": "code",
      "source": [
        "#배깅\n",
        "import pandas as pd\n",
        "from sklearn.ensemble import BaggingClassifier\n",
        "from sklearn.tree import DecisionTreeClassifier\n",
        "from sklearn.model_selection import train_test_split\n",
        "from sklearn.preprocessing import LabelEncoder\n",
        "from sklearn.metrics import *\n",
        "\n",
        "df=pd.read_csv('PimaIndiansDiabetes2.csv')\n",
        "print(df.describe())\n"
      ],
      "metadata": {
        "colab": {
          "base_uri": "https://localhost:8080/"
        },
        "id": "A9ZHIuGrHOWU",
        "outputId": "303a7a61-d260-4af8-84b0-f575a340eec4"
      },
      "execution_count": null,
      "outputs": [
        {
          "output_type": "stream",
          "name": "stdout",
          "text": [
            "         pregnant     glucose    pressure     triceps     insulin        mass  \\\n",
            "count  768.000000  763.000000  733.000000  541.000000  394.000000  757.000000   \n",
            "mean     3.845052  121.686763   72.405184   29.153420  155.548223   32.457464   \n",
            "std      3.369578   30.535641   12.382158   10.476982  118.775855    6.924988   \n",
            "min      0.000000   44.000000   24.000000    7.000000   14.000000   18.200000   \n",
            "25%      1.000000   99.000000   64.000000   22.000000   76.250000   27.500000   \n",
            "50%      3.000000  117.000000   72.000000   29.000000  125.000000   32.300000   \n",
            "75%      6.000000  141.000000   80.000000   36.000000  190.000000   36.600000   \n",
            "max     17.000000  199.000000  122.000000   99.000000  846.000000   67.100000   \n",
            "\n",
            "         pedigree         age  \n",
            "count  768.000000  768.000000  \n",
            "mean     0.471876   33.240885  \n",
            "std      0.331329   11.760232  \n",
            "min      0.078000   21.000000  \n",
            "25%      0.243750   24.000000  \n",
            "50%      0.372500   29.000000  \n",
            "75%      0.626250   41.000000  \n",
            "max      2.420000   81.000000  \n"
          ]
        }
      ]
    },
    {
      "cell_type": "code",
      "source": [
        "print(df.info())"
      ],
      "metadata": {
        "colab": {
          "base_uri": "https://localhost:8080/"
        },
        "id": "ddMkiDcIH1MD",
        "outputId": "6d72600e-544f-4469-ec50-2491f312f2c7"
      },
      "execution_count": null,
      "outputs": [
        {
          "output_type": "stream",
          "name": "stdout",
          "text": [
            "<class 'pandas.core.frame.DataFrame'>\n",
            "RangeIndex: 768 entries, 0 to 767\n",
            "Data columns (total 9 columns):\n",
            " #   Column    Non-Null Count  Dtype  \n",
            "---  ------    --------------  -----  \n",
            " 0   pregnant  768 non-null    int64  \n",
            " 1   glucose   763 non-null    float64\n",
            " 2   pressure  733 non-null    float64\n",
            " 3   triceps   541 non-null    float64\n",
            " 4   insulin   394 non-null    float64\n",
            " 5   mass      757 non-null    float64\n",
            " 6   pedigree  768 non-null    float64\n",
            " 7   age       768 non-null    int64  \n",
            " 8   diabetes  768 non-null    object \n",
            "dtypes: float64(6), int64(2), object(1)\n",
            "memory usage: 54.1+ KB\n",
            "None\n"
          ]
        }
      ]
    },
    {
      "cell_type": "code",
      "source": [
        "df=df.dropna()\n",
        "print(df.info())"
      ],
      "metadata": {
        "colab": {
          "base_uri": "https://localhost:8080/"
        },
        "id": "SG2fMFlOH3Ep",
        "outputId": "32771ce1-45b3-4e61-aaba-4b4df98c1be4"
      },
      "execution_count": null,
      "outputs": [
        {
          "output_type": "stream",
          "name": "stdout",
          "text": [
            "<class 'pandas.core.frame.DataFrame'>\n",
            "Index: 392 entries, 3 to 765\n",
            "Data columns (total 9 columns):\n",
            " #   Column    Non-Null Count  Dtype  \n",
            "---  ------    --------------  -----  \n",
            " 0   pregnant  392 non-null    int64  \n",
            " 1   glucose   392 non-null    float64\n",
            " 2   pressure  392 non-null    float64\n",
            " 3   triceps   392 non-null    float64\n",
            " 4   insulin   392 non-null    float64\n",
            " 5   mass      392 non-null    float64\n",
            " 6   pedigree  392 non-null    float64\n",
            " 7   age       392 non-null    int64  \n",
            " 8   diabetes  392 non-null    object \n",
            "dtypes: float64(6), int64(2), object(1)\n",
            "memory usage: 30.6+ KB\n",
            "None\n"
          ]
        }
      ]
    },
    {
      "cell_type": "code",
      "source": [
        "x=df.drop('diabetes',axis=1)\n",
        "y=df['diabetes']\n",
        "y=LabelEncoder().fit_transform(y)\n",
        "\n",
        "x_train,x_test,y_train,y_test=train_test_split(x,y,test_size=0.2)\n",
        "\n",
        "base_model = DecisionTreeClassifier(max_depth=2)\n",
        "md=BaggingClassifier(base_model,n_estimators=100)\n",
        "md.fit(x_train,y_train)\n",
        "\n",
        "predict=md.predict(x_test)\n",
        "\n",
        "cm=confusion_matrix(y_test,predict)\n",
        "print(cm)"
      ],
      "metadata": {
        "colab": {
          "base_uri": "https://localhost:8080/"
        },
        "id": "vEN4BiRZHOYo",
        "outputId": "12daf265-d438-48eb-d68e-a04b807933f7"
      },
      "execution_count": null,
      "outputs": [
        {
          "output_type": "stream",
          "name": "stdout",
          "text": [
            "[[43  5]\n",
            " [19 12]]\n"
          ]
        }
      ]
    },
    {
      "cell_type": "code",
      "source": [
        "print(accuracy_score(y_test,predict))"
      ],
      "metadata": {
        "colab": {
          "base_uri": "https://localhost:8080/"
        },
        "id": "Arc5HHwhJ0Fx",
        "outputId": "67101759-2c86-4ae3-f8ff-008ee8524a46"
      },
      "execution_count": null,
      "outputs": [
        {
          "output_type": "stream",
          "name": "stdout",
          "text": [
            "0.6962025316455697\n"
          ]
        }
      ]
    },
    {
      "cell_type": "code",
      "source": [
        "print(recall_score(y_test,predict))"
      ],
      "metadata": {
        "colab": {
          "base_uri": "https://localhost:8080/"
        },
        "id": "46lfrgDUKBhb",
        "outputId": "14fb42bf-a7a4-437d-c04b-28f48d492a7e"
      },
      "execution_count": null,
      "outputs": [
        {
          "output_type": "stream",
          "name": "stdout",
          "text": [
            "0.3870967741935484\n"
          ]
        }
      ]
    },
    {
      "cell_type": "code",
      "source": [
        "print(precision_score(y_test,predict))"
      ],
      "metadata": {
        "colab": {
          "base_uri": "https://localhost:8080/"
        },
        "id": "goBfxDvVKKg5",
        "outputId": "9008b27a-db6c-40ce-c00f-a3aa67572136"
      },
      "execution_count": null,
      "outputs": [
        {
          "output_type": "stream",
          "name": "stdout",
          "text": [
            "0.7058823529411765\n"
          ]
        }
      ]
    },
    {
      "cell_type": "code",
      "source": [
        "print(f1_score(y_test,predict))"
      ],
      "metadata": {
        "colab": {
          "base_uri": "https://localhost:8080/"
        },
        "id": "wEPSjUU8KOYF",
        "outputId": "75e2e894-d0a3-4b9c-c94e-74413c282b89"
      },
      "execution_count": null,
      "outputs": [
        {
          "output_type": "stream",
          "name": "stdout",
          "text": [
            "0.5\n"
          ]
        }
      ]
    },
    {
      "cell_type": "code",
      "source": [
        "print(roc_auc_score(y_test,predict))"
      ],
      "metadata": {
        "colab": {
          "base_uri": "https://localhost:8080/"
        },
        "id": "6a3kG8eYKSYx",
        "outputId": "0674872c-b44c-4340-c36f-a80e032e4fb5"
      },
      "execution_count": null,
      "outputs": [
        {
          "output_type": "stream",
          "name": "stdout",
          "text": [
            "0.6414650537634409\n"
          ]
        }
      ]
    },
    {
      "cell_type": "markdown",
      "source": [
        "###랜덤 포레스트\n",
        "랜덤 포레스트(Random Forest)의 개념\n",
        "  * 랜덤 포레스트는 의사결정 나무의 특징인 분산인 크다는 점을 고려하여 배깅과 부스팅보다 더 많은 무작위성을 주어 약한 학습기들을 생성한 후 이를 선형 결합하여 최종 학습기를 만드는 방법이다.\n",
        "  * 랜덤 포레스트 패키지는 랜덤 입력(Random Input)에 따른 여러 트리(Tree)의 집합인 포레스트(Forest)를 이용한 분류 방법이다.\n",
        "\n"
      ],
      "metadata": {
        "id": "uoaBAlKwKzsc"
      }
    },
    {
      "cell_type": "markdown",
      "source": [
        "#### 랜덤포레스트 클래스(종속변수가 범주형)\n",
        "  * 랜덤 포레스트를 수행할 수 있는 클래스는 sklearn.ensemble 패키지의 RandomForestClassifier 클래스이다.\n",
        "  ```\n",
        "  RandomForestClassifier(n_estimators,criterion,max_depth)\n",
        "  ```\n",
        "  * 파라미터  \n",
        "         n_estimators : 생성할 트리의 개수를 지정하는 파라미터  \n",
        "\n",
        "         criterion : 트리의 분할 기준을 선택하는 파라미터 (기본값은 'gini')\n",
        "                     'gini' : 지니 지수를 기준으로 분할\n",
        "                     'entropy' : 엔트로피 지수를 기준으로 분할\n",
        "         \n",
        "         max_depth : 트리의 최대 깊이를 제한하는 파라미터 (기본값:None)\n",
        "                   : 트리의 깊이가 깊어질수록 모델의 복잡도가 증가하고 과적합될 확률이 높아짐"
      ],
      "metadata": {
        "id": "ub7DqKSDPZWO"
      }
    },
    {
      "cell_type": "code",
      "source": [
        "import pandas as pd\n",
        "from sklearn.ensemble import RandomForestClassifier\n",
        "from sklearn.model_selection import train_test_split\n",
        "from sklearn.metrics import *\n",
        "from sklearn.preprocessing import LabelEncoder\n",
        "\n",
        "df=pd.read_csv('PimaIndiansDiabetes2.csv')\n",
        "\n",
        "print(df.describe())"
      ],
      "metadata": {
        "colab": {
          "base_uri": "https://localhost:8080/"
        },
        "id": "y4MmLTZkPFLz",
        "outputId": "0abc0e4d-bcd6-4b03-9143-ef18b82c8041"
      },
      "execution_count": null,
      "outputs": [
        {
          "output_type": "stream",
          "name": "stdout",
          "text": [
            "         pregnant     glucose    pressure     triceps     insulin        mass  \\\n",
            "count  768.000000  763.000000  733.000000  541.000000  394.000000  757.000000   \n",
            "mean     3.845052  121.686763   72.405184   29.153420  155.548223   32.457464   \n",
            "std      3.369578   30.535641   12.382158   10.476982  118.775855    6.924988   \n",
            "min      0.000000   44.000000   24.000000    7.000000   14.000000   18.200000   \n",
            "25%      1.000000   99.000000   64.000000   22.000000   76.250000   27.500000   \n",
            "50%      3.000000  117.000000   72.000000   29.000000  125.000000   32.300000   \n",
            "75%      6.000000  141.000000   80.000000   36.000000  190.000000   36.600000   \n",
            "max     17.000000  199.000000  122.000000   99.000000  846.000000   67.100000   \n",
            "\n",
            "         pedigree         age  \n",
            "count  768.000000  768.000000  \n",
            "mean     0.471876   33.240885  \n",
            "std      0.331329   11.760232  \n",
            "min      0.078000   21.000000  \n",
            "25%      0.243750   24.000000  \n",
            "50%      0.372500   29.000000  \n",
            "75%      0.626250   41.000000  \n",
            "max      2.420000   81.000000  \n"
          ]
        }
      ]
    },
    {
      "cell_type": "code",
      "source": [
        "print(df.head(3))"
      ],
      "metadata": {
        "colab": {
          "base_uri": "https://localhost:8080/"
        },
        "id": "SfRFfcbFQCev",
        "outputId": "bc59c423-f7d6-43f5-b2c9-111a11533492"
      },
      "execution_count": null,
      "outputs": [
        {
          "output_type": "stream",
          "name": "stdout",
          "text": [
            "   pregnant  glucose  pressure  triceps  insulin  mass  pedigree  age diabetes\n",
            "0         6    148.0      72.0     35.0      NaN  33.6     0.627   50      pos\n",
            "1         1     85.0      66.0     29.0      NaN  26.6     0.351   31      neg\n",
            "2         8    183.0      64.0      NaN      NaN  23.3     0.672   32      pos\n"
          ]
        }
      ]
    },
    {
      "cell_type": "code",
      "source": [
        "print(df.info())"
      ],
      "metadata": {
        "colab": {
          "base_uri": "https://localhost:8080/"
        },
        "id": "pSNFQ-yRQKK-",
        "outputId": "cc0f35dc-f43d-41b2-d54b-03a42f0f7138"
      },
      "execution_count": null,
      "outputs": [
        {
          "output_type": "stream",
          "name": "stdout",
          "text": [
            "<class 'pandas.core.frame.DataFrame'>\n",
            "RangeIndex: 768 entries, 0 to 767\n",
            "Data columns (total 9 columns):\n",
            " #   Column    Non-Null Count  Dtype  \n",
            "---  ------    --------------  -----  \n",
            " 0   pregnant  768 non-null    int64  \n",
            " 1   glucose   763 non-null    float64\n",
            " 2   pressure  733 non-null    float64\n",
            " 3   triceps   541 non-null    float64\n",
            " 4   insulin   394 non-null    float64\n",
            " 5   mass      757 non-null    float64\n",
            " 6   pedigree  768 non-null    float64\n",
            " 7   age       768 non-null    int64  \n",
            " 8   diabetes  768 non-null    object \n",
            "dtypes: float64(6), int64(2), object(1)\n",
            "memory usage: 54.1+ KB\n",
            "None\n"
          ]
        }
      ]
    },
    {
      "cell_type": "code",
      "source": [
        "df=df.dropna()\n",
        "print(df.info())"
      ],
      "metadata": {
        "colab": {
          "base_uri": "https://localhost:8080/"
        },
        "id": "ApWoJ0dVQL2a",
        "outputId": "17a35a4c-7e82-4deb-e11e-cf6b12bbed86"
      },
      "execution_count": null,
      "outputs": [
        {
          "output_type": "stream",
          "name": "stdout",
          "text": [
            "<class 'pandas.core.frame.DataFrame'>\n",
            "Index: 392 entries, 3 to 765\n",
            "Data columns (total 9 columns):\n",
            " #   Column    Non-Null Count  Dtype  \n",
            "---  ------    --------------  -----  \n",
            " 0   pregnant  392 non-null    int64  \n",
            " 1   glucose   392 non-null    float64\n",
            " 2   pressure  392 non-null    float64\n",
            " 3   triceps   392 non-null    float64\n",
            " 4   insulin   392 non-null    float64\n",
            " 5   mass      392 non-null    float64\n",
            " 6   pedigree  392 non-null    float64\n",
            " 7   age       392 non-null    int64  \n",
            " 8   diabetes  392 non-null    object \n",
            "dtypes: float64(6), int64(2), object(1)\n",
            "memory usage: 30.6+ KB\n",
            "None\n"
          ]
        }
      ]
    },
    {
      "cell_type": "code",
      "source": [
        "x=df.drop('diabetes',axis=1)\n",
        "y=df['diabetes']\n",
        "y=LabelEncoder().fit_transform(y)\n",
        "\n",
        "x_train,x_test,y_train,y_test=train_test_split(x,y,test_size=0.2)\n",
        "\n",
        "md = RandomForestClassifier(n_estimators=100, max_depth=2)\n",
        "md.fit(x_train,y_train)\n",
        "\n",
        "pred=md.predict(x_test)\n",
        "print(pred)\n",
        "\n",
        "cm1=confusion_matrix(pred,y_test,labels=[1,0])\n",
        "cm2=confusion_matrix(y_test,pred,labels=[1,0])\n",
        "print(cm1)\n",
        "print(cm2)\n"
      ],
      "metadata": {
        "colab": {
          "base_uri": "https://localhost:8080/"
        },
        "id": "YQp5dgj_QPUz",
        "outputId": "24aa2080-280c-44b8-c0a9-0231853c177a"
      },
      "execution_count": null,
      "outputs": [
        {
          "output_type": "stream",
          "name": "stdout",
          "text": [
            "[0 1 0 0 0 0 0 1 0 0 0 0 1 1 1 1 0 0 1 1 1 0 0 0 1 1 0 0 0 0 0 0 0 1 0 0 0\n",
            " 0 0 0 1 1 0 0 1 0 0 0 0 0 1 0 0 1 0 0 0 0 0 0 0 1 0 0 0 1 0 0 0 0 0 0 0 0\n",
            " 0 0 1 0 1]\n",
            "[[17  4]\n",
            " [12 46]]\n",
            "[[17 12]\n",
            " [ 4 46]]\n"
          ]
        }
      ]
    },
    {
      "cell_type": "code",
      "source": [
        "print(accuracy_score(y_test,pred))\n",
        "print(recall_score(y_test,pred))\n",
        "print(precision_score(y_test,pred))\n",
        "print(f1_score(y_test,pred))\n",
        "print(roc_auc_score(y_test,pred))"
      ],
      "metadata": {
        "colab": {
          "base_uri": "https://localhost:8080/"
        },
        "id": "zdKEZ09SR6h-",
        "outputId": "53a9f307-bc17-456b-f570-71b9f0aba7a8"
      },
      "execution_count": null,
      "outputs": [
        {
          "output_type": "stream",
          "name": "stdout",
          "text": [
            "0.7974683544303798\n",
            "0.5862068965517241\n",
            "0.8095238095238095\n",
            "0.68\n",
            "0.7531034482758622\n"
          ]
        }
      ]
    },
    {
      "cell_type": "markdown",
      "source": [
        "####랜덤 포레스트 클래스(종속변수가 수치형)\n",
        "  * 랜덤 포레스트를 수행할 수 있는 클래스는 sklearn.ensemble 패키지의 RandomForestClassifier 클래스이다.\n",
        "  ```\n",
        "  RandomForestClassifier(n_estimators,criterion,max_depth)\n",
        "  ```\n",
        "  * 파라미터  \n",
        "         n_estimators : 생성할 트리의 개수를 지정하는 파라미터  \n",
        "\n",
        "         criterion : 트리의 분할 기준을 선택하는 파라미터 (기본값은 'mse')\n",
        "                     'mse': 평균 제곱 오차\n",
        "         \n",
        "         max_depth : 트리의 최대 깊이를 제한하는 파라미터 (기본값:None)\n",
        "                   : 트리의 깊이가 깊어질수록 모델의 복잡도가 증가하고 과적합될 확률이 높아짐"
      ],
      "metadata": {
        "id": "4bRLjHxRSUAI"
      }
    },
    {
      "cell_type": "code",
      "source": [
        "#랜덤 포레스트(종속변수가 수치형)\n",
        "import pandas as pd\n",
        "from sklearn.ensemble import RandomForestRegressor\n",
        "from sklearn.model_selection import train_test_split\n",
        "from sklearn.metrics import *\n",
        "from sklearn.preprocessing import LabelEncoder\n",
        "\n",
        "df=pd.read_csv('PimaIndiansDiabetes2.csv')\n",
        "print(df.describe())"
      ],
      "metadata": {
        "colab": {
          "base_uri": "https://localhost:8080/"
        },
        "id": "FrgmMD1pTBP5",
        "outputId": "a5221b1f-22cb-427e-9175-96193d467154"
      },
      "execution_count": null,
      "outputs": [
        {
          "output_type": "stream",
          "name": "stdout",
          "text": [
            "         pregnant     glucose    pressure     triceps     insulin        mass  \\\n",
            "count  768.000000  763.000000  733.000000  541.000000  394.000000  757.000000   \n",
            "mean     3.845052  121.686763   72.405184   29.153420  155.548223   32.457464   \n",
            "std      3.369578   30.535641   12.382158   10.476982  118.775855    6.924988   \n",
            "min      0.000000   44.000000   24.000000    7.000000   14.000000   18.200000   \n",
            "25%      1.000000   99.000000   64.000000   22.000000   76.250000   27.500000   \n",
            "50%      3.000000  117.000000   72.000000   29.000000  125.000000   32.300000   \n",
            "75%      6.000000  141.000000   80.000000   36.000000  190.000000   36.600000   \n",
            "max     17.000000  199.000000  122.000000   99.000000  846.000000   67.100000   \n",
            "\n",
            "         pedigree         age  \n",
            "count  768.000000  768.000000  \n",
            "mean     0.471876   33.240885  \n",
            "std      0.331329   11.760232  \n",
            "min      0.078000   21.000000  \n",
            "25%      0.243750   24.000000  \n",
            "50%      0.372500   29.000000  \n",
            "75%      0.626250   41.000000  \n",
            "max      2.420000   81.000000  \n"
          ]
        }
      ]
    },
    {
      "cell_type": "code",
      "source": [
        "print(df.head(3))"
      ],
      "metadata": {
        "colab": {
          "base_uri": "https://localhost:8080/"
        },
        "id": "NNaeLKvzTBSW",
        "outputId": "7233b911-a167-4e93-8c8f-3e517b8db2b0"
      },
      "execution_count": null,
      "outputs": [
        {
          "output_type": "stream",
          "name": "stdout",
          "text": [
            "   pregnant  glucose  pressure  triceps  insulin  mass  pedigree  age diabetes\n",
            "0         6    148.0      72.0     35.0      NaN  33.6     0.627   50      pos\n",
            "1         1     85.0      66.0     29.0      NaN  26.6     0.351   31      neg\n",
            "2         8    183.0      64.0      NaN      NaN  23.3     0.672   32      pos\n"
          ]
        }
      ]
    },
    {
      "cell_type": "code",
      "source": [
        "print(df.info())"
      ],
      "metadata": {
        "colab": {
          "base_uri": "https://localhost:8080/"
        },
        "id": "gDFF_8ZPTmLD",
        "outputId": "9fa21175-bd74-4ac3-b06a-3fc802897835"
      },
      "execution_count": null,
      "outputs": [
        {
          "output_type": "stream",
          "name": "stdout",
          "text": [
            "<class 'pandas.core.frame.DataFrame'>\n",
            "RangeIndex: 768 entries, 0 to 767\n",
            "Data columns (total 9 columns):\n",
            " #   Column    Non-Null Count  Dtype  \n",
            "---  ------    --------------  -----  \n",
            " 0   pregnant  768 non-null    int64  \n",
            " 1   glucose   763 non-null    float64\n",
            " 2   pressure  733 non-null    float64\n",
            " 3   triceps   541 non-null    float64\n",
            " 4   insulin   394 non-null    float64\n",
            " 5   mass      757 non-null    float64\n",
            " 6   pedigree  768 non-null    float64\n",
            " 7   age       768 non-null    int64  \n",
            " 8   diabetes  768 non-null    object \n",
            "dtypes: float64(6), int64(2), object(1)\n",
            "memory usage: 54.1+ KB\n",
            "None\n"
          ]
        }
      ]
    },
    {
      "cell_type": "code",
      "source": [
        "df=df.dropna()\n",
        "print(df.info())"
      ],
      "metadata": {
        "colab": {
          "base_uri": "https://localhost:8080/"
        },
        "id": "H4okOYqSTnSD",
        "outputId": "8043b753-0ad4-42b1-985f-73f0fd0f37f3"
      },
      "execution_count": null,
      "outputs": [
        {
          "output_type": "stream",
          "name": "stdout",
          "text": [
            "<class 'pandas.core.frame.DataFrame'>\n",
            "Index: 392 entries, 3 to 765\n",
            "Data columns (total 9 columns):\n",
            " #   Column    Non-Null Count  Dtype  \n",
            "---  ------    --------------  -----  \n",
            " 0   pregnant  392 non-null    int64  \n",
            " 1   glucose   392 non-null    float64\n",
            " 2   pressure  392 non-null    float64\n",
            " 3   triceps   392 non-null    float64\n",
            " 4   insulin   392 non-null    float64\n",
            " 5   mass      392 non-null    float64\n",
            " 6   pedigree  392 non-null    float64\n",
            " 7   age       392 non-null    int64  \n",
            " 8   diabetes  392 non-null    object \n",
            "dtypes: float64(6), int64(2), object(1)\n",
            "memory usage: 30.6+ KB\n",
            "None\n"
          ]
        }
      ]
    },
    {
      "cell_type": "code",
      "source": [
        "df['diabetes']=LabelEncoder().fit_transform(df['diabetes'])\n",
        "\n",
        "x = df.drop('pressure',axis=1)\n",
        "y= df['pressure']\n",
        "\n",
        "x_train,x_test,y_train,y_test = train_test_split(x,y,test_size=0.2)\n",
        "\n",
        "md =RandomForestClassifier(n_estimators=100,max_depth=2)\n",
        "md.fit(x_train,y_train)\n",
        "\n",
        "pred = md.predict(x_test)\n",
        "print(pred)\n",
        "\n",
        "print(mean_squared_error(y_test,pred,squared=False))"
      ],
      "metadata": {
        "colab": {
          "base_uri": "https://localhost:8080/"
        },
        "id": "gz9TcR7nTruM",
        "outputId": "cffa8334-ef12-47bb-898c-3256db315d80"
      },
      "execution_count": null,
      "outputs": [
        {
          "output_type": "stream",
          "name": "stdout",
          "text": [
            "[70. 70. 70. 70. 64. 70. 70. 74. 78. 70. 74. 74. 74. 70. 70. 70. 70. 70.\n",
            " 78. 74. 64. 70. 70. 70. 74. 70. 74. 70. 70. 74. 70. 74. 78. 78. 64. 70.\n",
            " 70. 74. 70. 70. 70. 74. 70. 64. 70. 70. 78. 70. 70. 70. 74. 70. 70. 58.\n",
            " 62. 70. 74. 62. 60. 70. 74. 70. 74. 74. 74. 70. 74. 70. 70. 78. 70. 70.\n",
            " 74. 62. 74. 78. 70. 70. 70.]\n",
            "11.398423164320203\n"
          ]
        }
      ]
    }
  ]
}