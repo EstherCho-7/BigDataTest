{
  "nbformat": 4,
  "nbformat_minor": 0,
  "metadata": {
    "colab": {
      "provenance": [],
      "toc_visible": true,
      "include_colab_link": true
    },
    "kernelspec": {
      "name": "python3",
      "display_name": "Python 3"
    },
    "language_info": {
      "name": "python"
    }
  },
  "cells": [
    {
      "cell_type": "markdown",
      "metadata": {
        "id": "view-in-github",
        "colab_type": "text"
      },
      "source": [
        "<a href=\"https://colab.research.google.com/github/GITSangWoo/BigDataTest/blob/main/%EB%B9%85%EB%B6%84%EA%B8%B0%EC%97%B0%EC%8A%B52(%EC%8B%A4%EA%B8%B0%EB%8C%80%EB%B9%84_1).ipynb\" target=\"_parent\"><img src=\"https://colab.research.google.com/assets/colab-badge.svg\" alt=\"Open In Colab\"/></a>"
      ]
    },
    {
      "cell_type": "markdown",
      "source": [
        "#데이터 수집 작업"
      ],
      "metadata": {
        "id": "ud2GALUue24v"
      }
    },
    {
      "cell_type": "markdown",
      "source": [
        "##파일 수집\n",
        "---\n",
        "\n",
        "\n",
        "*   파일의 종류에는 텍스트(txt)파일, CSV 파일, 엑셀(Excel)파일 등이 있다.\n",
        "*   파일에 따라 수집 방법이 달라진다.\n",
        "*   파일 종류\n",
        "\n",
        " 1.  txt 파일  \n",
        "    *   사람이 인지할 수 있는 일반 문자열이 저장되는 텍스트 파일\n",
        "    *   윈도우 텍스트 파일에서 줄 바꿈은 캐리지 리턴(CR) + 라인 피드 (LF)로 구성됨\n",
        "    *   유닉스/리눅스 텍스트 파일에서 줄 바꿈은 라인 피드(LF)로 구성됨\n",
        "\n",
        " 2.  CSV 파일\n",
        "\n",
        " *   Comma-seperated values의 약자\n",
        " *   필드를 콤마(',')로 구분한 텍스트 데이터 또는 텍스트 파일\n",
        "\n",
        "   3.  Excel 파일\n",
        "\n",
        " *   스프레드시트를 이용하여 문서작성, 데이터 분석, 수치 계산, 차트 작성등을 처리하는 소프트웨어인 엑셀의 데이터 파일\n",
        "\n",
        "\n",
        "\n",
        "\n"
      ],
      "metadata": {
        "id": "vbRujVGofIAd"
      }
    },
    {
      "cell_type": "markdown",
      "source": [
        "###txt 파일 데이터 수집 - readline 함수"
      ],
      "metadata": {
        "id": "yQwuBR7VfWnO"
      }
    },
    {
      "cell_type": "code",
      "source": [
        "f = open(\"data.txt\", 'r')"
      ],
      "metadata": {
        "id": "Ud4LgNxshAvr"
      },
      "execution_count": null,
      "outputs": []
    },
    {
      "cell_type": "code",
      "source": [
        "while True:\n",
        "  line =f.readline()\n",
        "  if not line : break\n",
        "  print(line)"
      ],
      "metadata": {
        "colab": {
          "base_uri": "https://localhost:8080/"
        },
        "id": "uW6Y5YGYipxS",
        "outputId": "cb2302b3-105e-401a-e7f0-4cb9aedd4897"
      },
      "execution_count": null,
      "outputs": [
        {
          "output_type": "stream",
          "name": "stdout",
          "text": [
            "hello world\n",
            "\n",
            "big data\n"
          ]
        }
      ]
    },
    {
      "cell_type": "code",
      "source": [
        "f.close()"
      ],
      "metadata": {
        "id": "kj2XVBD2i0np"
      },
      "execution_count": null,
      "outputs": []
    },
    {
      "cell_type": "code",
      "source": [
        "f = open(\"data.txt\", 'r')\n",
        "while True:\n",
        "  line =f.readline()\n",
        "  if not line: break\n",
        "  print(line)\n",
        "f.close()"
      ],
      "metadata": {
        "colab": {
          "base_uri": "https://localhost:8080/"
        },
        "id": "hjWf7efRi9cu",
        "outputId": "df74fe9b-e36d-4693-b169-76ec818495cd"
      },
      "execution_count": null,
      "outputs": [
        {
          "output_type": "stream",
          "name": "stdout",
          "text": [
            "hello world\n",
            "\n",
            "big data\n"
          ]
        }
      ]
    },
    {
      "cell_type": "markdown",
      "source": [
        "###CSV 파일 데이터 수집-read_csv 함수"
      ],
      "metadata": {
        "id": "7XbyLcT8yMs1"
      }
    },
    {
      "cell_type": "code",
      "source": [
        "import pandas as pd\n",
        "df = pd.read_csv('data.csv')\n",
        "print(df)"
      ],
      "metadata": {
        "colab": {
          "base_uri": "https://localhost:8080/"
        },
        "id": "463j4AGOyVGb",
        "outputId": "7db73486-533a-4fd1-90aa-0da79c0035bb"
      },
      "execution_count": null,
      "outputs": [
        {
          "output_type": "stream",
          "name": "stdout",
          "text": [
            "  hello world\n",
            "0    big data\n"
          ]
        }
      ]
    },
    {
      "cell_type": "markdown",
      "source": [
        "###CSV파일 데이터로 저장 - to_csv 함수"
      ],
      "metadata": {
        "id": "3zRU45NJzDx0"
      }
    },
    {
      "cell_type": "code",
      "source": [
        "import pandas as pd\n",
        "from sklearn.datasets import load_iris\n",
        "\n",
        "iris = load_iris()\n",
        "df = pd.DataFrame(data=iris.data, columns=iris.feature_names)\n",
        "df.to_csv('data.csv',index=False)"
      ],
      "metadata": {
        "id": "gWHkFG28zI5x"
      },
      "execution_count": null,
      "outputs": []
    },
    {
      "cell_type": "code",
      "source": [
        "import pandas as pd\n",
        "from sklearn.datasets import load_iris\n",
        "\n",
        "iris=load_iris()\n",
        "df = pd.DataFrame(data=iris.data, columns=iris.feature_names)\n",
        "df.to_csv('data.txt',index=False)"
      ],
      "metadata": {
        "id": "Ztvz4kuS03iz"
      },
      "execution_count": null,
      "outputs": []
    },
    {
      "cell_type": "code",
      "source": [
        "print(iris.feature_names)"
      ],
      "metadata": {
        "colab": {
          "base_uri": "https://localhost:8080/"
        },
        "id": "Hk17jRZu0Nus",
        "outputId": "3f9cc90c-0f02-4908-bf8e-2c21c0fa8681"
      },
      "execution_count": null,
      "outputs": [
        {
          "output_type": "stream",
          "name": "stdout",
          "text": [
            "['sepal length (cm)', 'sepal width (cm)', 'petal length (cm)', 'petal width (cm)']\n"
          ]
        }
      ]
    },
    {
      "cell_type": "code",
      "source": [
        "print(iris.data)"
      ],
      "metadata": {
        "colab": {
          "base_uri": "https://localhost:8080/"
        },
        "collapsed": true,
        "id": "nfzazV7i0v9Z",
        "outputId": "fbc9c504-e7ab-4abd-c3a8-a1ec5db7d6e5"
      },
      "execution_count": null,
      "outputs": [
        {
          "output_type": "stream",
          "name": "stdout",
          "text": [
            "[[5.1 3.5 1.4 0.2]\n",
            " [4.9 3.  1.4 0.2]\n",
            " [4.7 3.2 1.3 0.2]\n",
            " [4.6 3.1 1.5 0.2]\n",
            " [5.  3.6 1.4 0.2]\n",
            " [5.4 3.9 1.7 0.4]\n",
            " [4.6 3.4 1.4 0.3]\n",
            " [5.  3.4 1.5 0.2]\n",
            " [4.4 2.9 1.4 0.2]\n",
            " [4.9 3.1 1.5 0.1]\n",
            " [5.4 3.7 1.5 0.2]\n",
            " [4.8 3.4 1.6 0.2]\n",
            " [4.8 3.  1.4 0.1]\n",
            " [4.3 3.  1.1 0.1]\n",
            " [5.8 4.  1.2 0.2]\n",
            " [5.7 4.4 1.5 0.4]\n",
            " [5.4 3.9 1.3 0.4]\n",
            " [5.1 3.5 1.4 0.3]\n",
            " [5.7 3.8 1.7 0.3]\n",
            " [5.1 3.8 1.5 0.3]\n",
            " [5.4 3.4 1.7 0.2]\n",
            " [5.1 3.7 1.5 0.4]\n",
            " [4.6 3.6 1.  0.2]\n",
            " [5.1 3.3 1.7 0.5]\n",
            " [4.8 3.4 1.9 0.2]\n",
            " [5.  3.  1.6 0.2]\n",
            " [5.  3.4 1.6 0.4]\n",
            " [5.2 3.5 1.5 0.2]\n",
            " [5.2 3.4 1.4 0.2]\n",
            " [4.7 3.2 1.6 0.2]\n",
            " [4.8 3.1 1.6 0.2]\n",
            " [5.4 3.4 1.5 0.4]\n",
            " [5.2 4.1 1.5 0.1]\n",
            " [5.5 4.2 1.4 0.2]\n",
            " [4.9 3.1 1.5 0.2]\n",
            " [5.  3.2 1.2 0.2]\n",
            " [5.5 3.5 1.3 0.2]\n",
            " [4.9 3.6 1.4 0.1]\n",
            " [4.4 3.  1.3 0.2]\n",
            " [5.1 3.4 1.5 0.2]\n",
            " [5.  3.5 1.3 0.3]\n",
            " [4.5 2.3 1.3 0.3]\n",
            " [4.4 3.2 1.3 0.2]\n",
            " [5.  3.5 1.6 0.6]\n",
            " [5.1 3.8 1.9 0.4]\n",
            " [4.8 3.  1.4 0.3]\n",
            " [5.1 3.8 1.6 0.2]\n",
            " [4.6 3.2 1.4 0.2]\n",
            " [5.3 3.7 1.5 0.2]\n",
            " [5.  3.3 1.4 0.2]\n",
            " [7.  3.2 4.7 1.4]\n",
            " [6.4 3.2 4.5 1.5]\n",
            " [6.9 3.1 4.9 1.5]\n",
            " [5.5 2.3 4.  1.3]\n",
            " [6.5 2.8 4.6 1.5]\n",
            " [5.7 2.8 4.5 1.3]\n",
            " [6.3 3.3 4.7 1.6]\n",
            " [4.9 2.4 3.3 1. ]\n",
            " [6.6 2.9 4.6 1.3]\n",
            " [5.2 2.7 3.9 1.4]\n",
            " [5.  2.  3.5 1. ]\n",
            " [5.9 3.  4.2 1.5]\n",
            " [6.  2.2 4.  1. ]\n",
            " [6.1 2.9 4.7 1.4]\n",
            " [5.6 2.9 3.6 1.3]\n",
            " [6.7 3.1 4.4 1.4]\n",
            " [5.6 3.  4.5 1.5]\n",
            " [5.8 2.7 4.1 1. ]\n",
            " [6.2 2.2 4.5 1.5]\n",
            " [5.6 2.5 3.9 1.1]\n",
            " [5.9 3.2 4.8 1.8]\n",
            " [6.1 2.8 4.  1.3]\n",
            " [6.3 2.5 4.9 1.5]\n",
            " [6.1 2.8 4.7 1.2]\n",
            " [6.4 2.9 4.3 1.3]\n",
            " [6.6 3.  4.4 1.4]\n",
            " [6.8 2.8 4.8 1.4]\n",
            " [6.7 3.  5.  1.7]\n",
            " [6.  2.9 4.5 1.5]\n",
            " [5.7 2.6 3.5 1. ]\n",
            " [5.5 2.4 3.8 1.1]\n",
            " [5.5 2.4 3.7 1. ]\n",
            " [5.8 2.7 3.9 1.2]\n",
            " [6.  2.7 5.1 1.6]\n",
            " [5.4 3.  4.5 1.5]\n",
            " [6.  3.4 4.5 1.6]\n",
            " [6.7 3.1 4.7 1.5]\n",
            " [6.3 2.3 4.4 1.3]\n",
            " [5.6 3.  4.1 1.3]\n",
            " [5.5 2.5 4.  1.3]\n",
            " [5.5 2.6 4.4 1.2]\n",
            " [6.1 3.  4.6 1.4]\n",
            " [5.8 2.6 4.  1.2]\n",
            " [5.  2.3 3.3 1. ]\n",
            " [5.6 2.7 4.2 1.3]\n",
            " [5.7 3.  4.2 1.2]\n",
            " [5.7 2.9 4.2 1.3]\n",
            " [6.2 2.9 4.3 1.3]\n",
            " [5.1 2.5 3.  1.1]\n",
            " [5.7 2.8 4.1 1.3]\n",
            " [6.3 3.3 6.  2.5]\n",
            " [5.8 2.7 5.1 1.9]\n",
            " [7.1 3.  5.9 2.1]\n",
            " [6.3 2.9 5.6 1.8]\n",
            " [6.5 3.  5.8 2.2]\n",
            " [7.6 3.  6.6 2.1]\n",
            " [4.9 2.5 4.5 1.7]\n",
            " [7.3 2.9 6.3 1.8]\n",
            " [6.7 2.5 5.8 1.8]\n",
            " [7.2 3.6 6.1 2.5]\n",
            " [6.5 3.2 5.1 2. ]\n",
            " [6.4 2.7 5.3 1.9]\n",
            " [6.8 3.  5.5 2.1]\n",
            " [5.7 2.5 5.  2. ]\n",
            " [5.8 2.8 5.1 2.4]\n",
            " [6.4 3.2 5.3 2.3]\n",
            " [6.5 3.  5.5 1.8]\n",
            " [7.7 3.8 6.7 2.2]\n",
            " [7.7 2.6 6.9 2.3]\n",
            " [6.  2.2 5.  1.5]\n",
            " [6.9 3.2 5.7 2.3]\n",
            " [5.6 2.8 4.9 2. ]\n",
            " [7.7 2.8 6.7 2. ]\n",
            " [6.3 2.7 4.9 1.8]\n",
            " [6.7 3.3 5.7 2.1]\n",
            " [7.2 3.2 6.  1.8]\n",
            " [6.2 2.8 4.8 1.8]\n",
            " [6.1 3.  4.9 1.8]\n",
            " [6.4 2.8 5.6 2.1]\n",
            " [7.2 3.  5.8 1.6]\n",
            " [7.4 2.8 6.1 1.9]\n",
            " [7.9 3.8 6.4 2. ]\n",
            " [6.4 2.8 5.6 2.2]\n",
            " [6.3 2.8 5.1 1.5]\n",
            " [6.1 2.6 5.6 1.4]\n",
            " [7.7 3.  6.1 2.3]\n",
            " [6.3 3.4 5.6 2.4]\n",
            " [6.4 3.1 5.5 1.8]\n",
            " [6.  3.  4.8 1.8]\n",
            " [6.9 3.1 5.4 2.1]\n",
            " [6.7 3.1 5.6 2.4]\n",
            " [6.9 3.1 5.1 2.3]\n",
            " [5.8 2.7 5.1 1.9]\n",
            " [6.8 3.2 5.9 2.3]\n",
            " [6.7 3.3 5.7 2.5]\n",
            " [6.7 3.  5.2 2.3]\n",
            " [6.3 2.5 5.  1.9]\n",
            " [6.5 3.  5.2 2. ]\n",
            " [6.2 3.4 5.4 2.3]\n",
            " [5.9 3.  5.1 1.8]]\n"
          ]
        }
      ]
    },
    {
      "cell_type": "markdown",
      "source": [
        "###EXCEL 파일 데이터 수집 - read_excel 함수"
      ],
      "metadata": {
        "id": "FVNVnG401a5r"
      }
    },
    {
      "cell_type": "code",
      "source": [
        "import pandas as pd\n",
        "\n",
        "df = pd.read_excel('data.xlsx')\n",
        "print(df)"
      ],
      "metadata": {
        "colab": {
          "base_uri": "https://localhost:8080/"
        },
        "id": "yC2AItE21v9I",
        "outputId": "19e68e1a-9f70-4047-ba80-b0477abd3134"
      },
      "execution_count": null,
      "outputs": [
        {
          "output_type": "stream",
          "name": "stdout",
          "text": [
            "     sepal length (cm)  sepal width (cm)  petal length (cm)  petal width (cm)\n",
            "0                  5.1               3.5                1.4               0.2\n",
            "1                  4.9               3.0                1.4               0.2\n",
            "2                  4.7               3.2                1.3               0.2\n",
            "3                  4.6               3.1                1.5               0.2\n",
            "4                  5.0               3.6                1.4               0.2\n",
            "..                 ...               ...                ...               ...\n",
            "145                6.7               3.0                5.2               2.3\n",
            "146                6.3               2.5                5.0               1.9\n",
            "147                6.5               3.0                5.2               2.0\n",
            "148                6.2               3.4                5.4               2.3\n",
            "149                5.9               3.0                5.1               1.8\n",
            "\n",
            "[150 rows x 4 columns]\n"
          ]
        }
      ]
    },
    {
      "cell_type": "markdown",
      "source": [
        "###EXCEL 파일 데이터로 저장 - to_excel 함수"
      ],
      "metadata": {
        "id": "ppBEonuZ1jcf"
      }
    },
    {
      "cell_type": "code",
      "source": [
        "import pandas as pd\n",
        "from sklearn.datasets import load_iris\n",
        "\n",
        "iris = load_iris()\n",
        "df = pd.DataFrame(data=iris.data,columns=iris.feature_names)\n",
        "\n",
        "df.to_excel(excel_writer='data.xlsx',sheet_name='data_sheet',index=False)"
      ],
      "metadata": {
        "id": "WSNwwTUb1wbn"
      },
      "execution_count": null,
      "outputs": []
    },
    {
      "cell_type": "markdown",
      "source": [
        "# 데이터 전처리 작업"
      ],
      "metadata": {
        "id": "LYzTmPdHZ8q-"
      }
    },
    {
      "cell_type": "markdown",
      "source": [
        "##데이터 전처리 패키지"
      ],
      "metadata": {
        "id": "EfsouM0waK7y"
      }
    },
    {
      "cell_type": "markdown",
      "source": [
        "###pandas 패키지\n",
        "---\n",
        "  \n",
        "  * pandas는 자료구조 및 데이터를 분석하기 위한 패키지이다.\n",
        "  * pandas는 크게 Series 와 DataFrame의 형태로 나눌 수 있다."
      ],
      "metadata": {
        "id": "IJRoVOfFaOp7"
      }
    },
    {
      "cell_type": "markdown",
      "source": [
        "####특정 열 추출\n",
        "\n",
        "---\n",
        "\n",
        "1개열 추출\n",
        "\n",
        " * 데이터프레임[선택할 열]\n",
        " * 데이터프레임.iloc[: , 열번호]\n",
        "\n",
        "여러열 추출\n",
        "\n",
        " * 데이터 프레임[ [선택한 열1, 선택할 열2, ...] ]\n",
        " * 데이터 프레임.iloc[: , [열번호1, 열번호2]]"
      ],
      "metadata": {
        "id": "q3IlgKVca9MF"
      }
    },
    {
      "cell_type": "code",
      "source": [
        "from sklearn.datasets import load_iris\n",
        "import pandas as pd\n",
        "\n",
        "iris = load_iris()\n",
        "df = pd.DataFrame(data=iris.data, columns = iris.feature_names)\n",
        "print(df['sepal length (cm)'])"
      ],
      "metadata": {
        "colab": {
          "base_uri": "https://localhost:8080/"
        },
        "id": "OZj4hNldbCWx",
        "outputId": "94d548f7-7d24-4ccb-e1a1-a6157081f925"
      },
      "execution_count": null,
      "outputs": [
        {
          "output_type": "stream",
          "name": "stdout",
          "text": [
            "0      5.1\n",
            "1      4.9\n",
            "2      4.7\n",
            "3      4.6\n",
            "4      5.0\n",
            "      ... \n",
            "145    6.7\n",
            "146    6.3\n",
            "147    6.5\n",
            "148    6.2\n",
            "149    5.9\n",
            "Name: sepal length (cm), Length: 150, dtype: float64\n"
          ]
        }
      ]
    },
    {
      "cell_type": "code",
      "source": [
        "print(df.iloc[:,3])"
      ],
      "metadata": {
        "colab": {
          "base_uri": "https://localhost:8080/"
        },
        "id": "MASwX2YvjEVt",
        "outputId": "aa3067a7-8102-4004-a1ec-3ecb0ee8a17c"
      },
      "execution_count": null,
      "outputs": [
        {
          "output_type": "stream",
          "name": "stdout",
          "text": [
            "0      0.2\n",
            "1      0.2\n",
            "2      0.2\n",
            "3      0.2\n",
            "4      0.2\n",
            "      ... \n",
            "145    2.3\n",
            "146    1.9\n",
            "147    2.0\n",
            "148    2.3\n",
            "149    1.8\n",
            "Name: petal width (cm), Length: 150, dtype: float64\n"
          ]
        }
      ]
    },
    {
      "cell_type": "markdown",
      "source": [
        "####특정 행 추출\n",
        "\n",
        "---\n",
        "\n",
        "행 조건으로 추출\n",
        "\n",
        " * 데이터프레임[데이터 프레임 조건]\n",
        " * 데이터프레임.loc[데이터 프레임 조건]\n",
        "\n",
        "행 번호로 추출\n",
        "\n",
        " * 데이터 프레임.iloc[행번호, ]\n",
        " * 데이터 프레임.iloc[ [행번호1, 행번호2], ]"
      ],
      "metadata": {
        "id": "-tP8kPDHjQhb"
      }
    },
    {
      "cell_type": "code",
      "source": [
        "from sklearn.datasets import load_iris\n",
        "import pandas as pd\n",
        "\n",
        "iris = load_iris()\n",
        "df = pd.DataFrame(data=iris.data, columns=iris.feature_names)\n",
        "df['target']=iris.target\n",
        "a = df[df['target']==0]\n",
        "print(a[['sepal length (cm)','sepal width (cm)']])\n"
      ],
      "metadata": {
        "colab": {
          "base_uri": "https://localhost:8080/"
        },
        "id": "irkxVr_EkzG3",
        "outputId": "5b87b914-be51-464e-9ada-96ba199f6858"
      },
      "execution_count": null,
      "outputs": [
        {
          "output_type": "stream",
          "name": "stdout",
          "text": [
            "    sepal length (cm)  sepal width (cm)\n",
            "0                 5.1               3.5\n",
            "1                 4.9               3.0\n",
            "2                 4.7               3.2\n",
            "3                 4.6               3.1\n",
            "4                 5.0               3.6\n",
            "5                 5.4               3.9\n",
            "6                 4.6               3.4\n",
            "7                 5.0               3.4\n",
            "8                 4.4               2.9\n",
            "9                 4.9               3.1\n",
            "10                5.4               3.7\n",
            "11                4.8               3.4\n",
            "12                4.8               3.0\n",
            "13                4.3               3.0\n",
            "14                5.8               4.0\n",
            "15                5.7               4.4\n",
            "16                5.4               3.9\n",
            "17                5.1               3.5\n",
            "18                5.7               3.8\n",
            "19                5.1               3.8\n",
            "20                5.4               3.4\n",
            "21                5.1               3.7\n",
            "22                4.6               3.6\n",
            "23                5.1               3.3\n",
            "24                4.8               3.4\n",
            "25                5.0               3.0\n",
            "26                5.0               3.4\n",
            "27                5.2               3.5\n",
            "28                5.2               3.4\n",
            "29                4.7               3.2\n",
            "30                4.8               3.1\n",
            "31                5.4               3.4\n",
            "32                5.2               4.1\n",
            "33                5.5               4.2\n",
            "34                4.9               3.1\n",
            "35                5.0               3.2\n",
            "36                5.5               3.5\n",
            "37                4.9               3.6\n",
            "38                4.4               3.0\n",
            "39                5.1               3.4\n",
            "40                5.0               3.5\n",
            "41                4.5               2.3\n",
            "42                4.4               3.2\n",
            "43                5.0               3.5\n",
            "44                5.1               3.8\n",
            "45                4.8               3.0\n",
            "46                5.1               3.8\n",
            "47                4.6               3.2\n",
            "48                5.3               3.7\n",
            "49                5.0               3.3\n"
          ]
        }
      ]
    },
    {
      "cell_type": "code",
      "source": [
        "print(df.iloc[3,])"
      ],
      "metadata": {
        "colab": {
          "base_uri": "https://localhost:8080/"
        },
        "id": "BiE3SEXyndzE",
        "outputId": "0ce6f7f6-1318-43b9-f519-5d077ee36a13"
      },
      "execution_count": null,
      "outputs": [
        {
          "output_type": "stream",
          "name": "stdout",
          "text": [
            "sepal length (cm)    4.6\n",
            "sepal width (cm)     3.1\n",
            "petal length (cm)    1.5\n",
            "petal width (cm)     0.2\n",
            "target               0.0\n",
            "Name: 3, dtype: float64\n"
          ]
        }
      ]
    },
    {
      "cell_type": "markdown",
      "source": [
        "####파생 변수 추가\n",
        "---\n",
        "기존의 변수를 조합하여 만들어진 새로운 변수인 파생 변수를 생성한다.  \n",
        "```\n",
        "apply(메서드)\n",
        "```"
      ],
      "metadata": {
        "id": "QJK4JTzpxDM-"
      }
    },
    {
      "cell_type": "code",
      "source": [
        "from sklearn.datasets import load_iris\n",
        "import pandas as pd\n",
        "\n",
        "iris = load_iris()\n",
        "df = pd.DataFrame(data=iris.data, columns=iris.feature_names)\n",
        "df['target']=iris.target\n",
        "def fn(x):\n",
        "  if x>6:\n",
        "    return 'L'\n",
        "  else:\n",
        "    return 'S'\n",
        "\n",
        "df['Len']=df['sepal length (cm)'].apply(fn)\n",
        "print(df[['target','Len']])"
      ],
      "metadata": {
        "colab": {
          "base_uri": "https://localhost:8080/"
        },
        "id": "bmRFb4QhxeFA",
        "outputId": "7d728ac4-84e7-4d12-bbd3-f580c02005fc"
      },
      "execution_count": null,
      "outputs": [
        {
          "output_type": "stream",
          "name": "stdout",
          "text": [
            "     target Len\n",
            "0         0   S\n",
            "1         0   S\n",
            "2         0   S\n",
            "3         0   S\n",
            "4         0   S\n",
            "..      ...  ..\n",
            "145       2   L\n",
            "146       2   L\n",
            "147       2   L\n",
            "148       2   L\n",
            "149       2   S\n",
            "\n",
            "[150 rows x 2 columns]\n"
          ]
        }
      ]
    },
    {
      "cell_type": "markdown",
      "source": [
        "#### 원-핫 인코딩(One-Hot Encoding)\n",
        "---\n",
        "원-핫  인코딩은 표현하고 싶은 단어의 인덱스에 1의 값을 부여하고, 다른 인덱스에는 0을 부여하는 방식이다.\n",
        "\n",
        "```\n",
        "pd.get_dummies(data, drop first)\n",
        "```\n",
        "파라미터  \n",
        "* data: 원-핫 인코딩을 적용할 데이터\n",
        "* drop first: 첫 번째 더미 변수를 제거할지 여부를 지정 (기본값 'False')\n"
      ],
      "metadata": {
        "id": "8Xj5j-pPzC1C"
      }
    },
    {
      "cell_type": "code",
      "source": [
        "iris.target_names"
      ],
      "metadata": {
        "colab": {
          "base_uri": "https://localhost:8080/"
        },
        "id": "br10oKP03Ikr",
        "outputId": "ad7fdd8c-5214-4b5c-8d41-9ad45c71caec"
      },
      "execution_count": null,
      "outputs": [
        {
          "output_type": "execute_result",
          "data": {
            "text/plain": [
              "array(['setosa', 'versicolor', 'virginica'], dtype='<U10')"
            ]
          },
          "metadata": {},
          "execution_count": 28
        }
      ]
    },
    {
      "cell_type": "code",
      "source": [
        "import pandas as pd\n",
        "\n",
        "df= pd.DataFrame({'Species':\\\n",
        "                  ['Versicolor', ' setosa', 'Virgnica', 'Setosa', 'Setasa']})\n",
        "encoded_df = pd.get_dummies(df['Species'])\n",
        "\n",
        "print(encoded_df)\n"
      ],
      "metadata": {
        "id": "4uFavm4YzUYm",
        "colab": {
          "base_uri": "https://localhost:8080/"
        },
        "outputId": "36a3b8d8-1418-464e-a3e3-e1874a707366"
      },
      "execution_count": null,
      "outputs": [
        {
          "output_type": "stream",
          "name": "stdout",
          "text": [
            "    setosa  Setasa  Setosa  Versicolor  Virgnica\n",
            "0    False   False   False        True     False\n",
            "1     True   False   False       False     False\n",
            "2    False   False   False       False      True\n",
            "3    False   False    True       False     False\n",
            "4    False    True   False       False     False\n"
          ]
        }
      ]
    },
    {
      "cell_type": "code",
      "source": [
        "encoded_df =pd.get_dummies(df['Species'],drop_first=True)\n",
        "\n",
        "print(encoded_df)"
      ],
      "metadata": {
        "colab": {
          "base_uri": "https://localhost:8080/"
        },
        "id": "YDbf34PY46hV",
        "outputId": "c38ea76b-2382-4e9a-e688-7dd886a302c2"
      },
      "execution_count": null,
      "outputs": [
        {
          "output_type": "stream",
          "name": "stdout",
          "text": [
            "   Setasa  Setosa  Versicolor  Virgnica\n",
            "0   False   False        True     False\n",
            "1   False   False       False     False\n",
            "2   False   False       False      True\n",
            "3   False    True       False     False\n",
            "4    True   False       False     False\n"
          ]
        }
      ]
    },
    {
      "cell_type": "markdown",
      "source": [
        "####group by 함수\n",
        "___\n",
        "group by 함수는 데이터를 특정 기준으로 그룹화하는 기능을 제공하는 함수이다.\n",
        "```\n",
        "groupby(열)\n",
        "```\n",
        "---\n",
        "group by와 함께 사용되는 집계 함수\n",
        "\n",
        "\n",
        "* mean : 그룹별 평균\n",
        "* var  : 그룹별 분산\n",
        "* std  : 그룹별 표준 편차\n",
        "* sum  : 그룹별 합게\n",
        "* median : 그룹별 중앙값\n",
        "* min : 그룹별 최솟값\n",
        "* max : 그룹별 최대값\n",
        "* size : 그룹별 빈도"
      ],
      "metadata": {
        "id": "Gwf2gw0T5BLw"
      }
    },
    {
      "cell_type": "code",
      "source": [
        "from sklearn.datasets import load_iris\n",
        "import pandas as pd\n",
        "\n",
        "iris = load_iris()\n",
        "df=pd.DataFrame(data=iris.data ,columns=iris.feature_names)\n",
        "df['target']=iris.target\n",
        "\n",
        "print(df.groupby('target').mean())"
      ],
      "metadata": {
        "colab": {
          "base_uri": "https://localhost:8080/"
        },
        "id": "Ra3yWg8j56wA",
        "outputId": "45130e0c-67d5-4695-a611-4939dff6e049"
      },
      "execution_count": null,
      "outputs": [
        {
          "output_type": "stream",
          "name": "stdout",
          "text": [
            "        sepal length (cm)  sepal width (cm)  petal length (cm)  \\\n",
            "target                                                           \n",
            "0                   5.006             3.428              1.462   \n",
            "1                   5.936             2.770              4.260   \n",
            "2                   6.588             2.974              5.552   \n",
            "\n",
            "        petal width (cm)  \n",
            "target                    \n",
            "0                  0.246  \n",
            "1                  1.326  \n",
            "2                  2.026  \n"
          ]
        }
      ]
    },
    {
      "cell_type": "markdown",
      "source": [
        "####sort_values 함수\n",
        "---\n",
        "sort_values 함수는 특정한 열을 기준으로 데이터를 정렬해주는 함수이다.\n",
        "```\n",
        "sort_values(by,ascending)\n",
        "```\n",
        "파라미터\n",
        "by : 정렬의 기준이 되는 열\n",
        "ascending : 오름차순(기본값 True), 내림차순"
      ],
      "metadata": {
        "id": "aiPeJmI67pYS"
      }
    },
    {
      "cell_type": "code",
      "source": [
        "from sklearn.datasets import load_iris\n",
        "import pandas as pd\n",
        "\n",
        "iris = load_iris()\n",
        "df = pd.DataFrame(data=iris.data, columns= iris.feature_names)\n",
        "df['target']=iris.target\n",
        "df = df [['target','sepal length (cm)']]\n",
        "print(df.sort_values(by=['sepal length (cm)']))\n",
        "print(df.sort_values(by=['sepal length (cm)'],ascending=False))"
      ],
      "metadata": {
        "colab": {
          "base_uri": "https://localhost:8080/"
        },
        "id": "HDzxlBbB8o7f",
        "outputId": "f32c3c1f-0352-4bb6-d04b-59d58ba34878"
      },
      "execution_count": null,
      "outputs": [
        {
          "output_type": "stream",
          "name": "stdout",
          "text": [
            "     target  sepal length (cm)\n",
            "13        0                4.3\n",
            "42        0                4.4\n",
            "38        0                4.4\n",
            "8         0                4.4\n",
            "41        0                4.5\n",
            "..      ...                ...\n",
            "122       2                7.7\n",
            "118       2                7.7\n",
            "117       2                7.7\n",
            "135       2                7.7\n",
            "131       2                7.9\n",
            "\n",
            "[150 rows x 2 columns]\n",
            "     target  sepal length (cm)\n",
            "131       2                7.9\n",
            "135       2                7.7\n",
            "122       2                7.7\n",
            "117       2                7.7\n",
            "118       2                7.7\n",
            "..      ...                ...\n",
            "41        0                4.5\n",
            "42        0                4.4\n",
            "38        0                4.4\n",
            "8         0                4.4\n",
            "13        0                4.3\n",
            "\n",
            "[150 rows x 2 columns]\n"
          ]
        }
      ]
    },
    {
      "cell_type": "markdown",
      "source": [
        "####concat 함수\n",
        "---\n",
        "concat 함수는 데이터를 결합하는 함수이다.\n",
        "```\n",
        "pd.concat(objs, axis)\n",
        "```\n",
        "파라미터  \n",
        " * objs : 정렬의 기준이 되는열\n",
        " * axis : 행/열을 기준으로 결합할지 정하는 속성(기본값 0)\n"
      ],
      "metadata": {
        "id": "JIgFC2nxsff-"
      }
    },
    {
      "cell_type": "code",
      "source": [
        "import pandas as pd\n",
        "x = pd.DataFrame({'a':['s1','s2','s3'],\n",
        "                  'b':['A','B','C']})\n",
        "y= pd.DataFrame({'a':['s5','s6','s7'],\n",
        "                 'b':['E','F','G']})\n",
        "print(pd.concat([x,y]))\n",
        "print(pd.concat([x,y],axis=0))\n",
        "print(pd.concat([x,y],axis=1))"
      ],
      "metadata": {
        "colab": {
          "base_uri": "https://localhost:8080/"
        },
        "id": "jFzz04zktBYV",
        "outputId": "4839c10e-1876-43a2-e7ee-21b86241081b"
      },
      "execution_count": null,
      "outputs": [
        {
          "output_type": "stream",
          "name": "stdout",
          "text": [
            "    a  b\n",
            "0  s1  A\n",
            "1  s2  B\n",
            "2  s3  C\n",
            "0  s5  E\n",
            "1  s6  F\n",
            "2  s7  G\n",
            "    a  b\n",
            "0  s1  A\n",
            "1  s2  B\n",
            "2  s3  C\n",
            "0  s5  E\n",
            "1  s6  F\n",
            "2  s7  G\n",
            "    a  b   a  b\n",
            "0  s1  A  s5  E\n",
            "1  s2  B  s6  F\n",
            "2  s3  C  s7  G\n"
          ]
        }
      ]
    },
    {
      "cell_type": "markdown",
      "source": [
        "####merge 함수\n",
        "---\n",
        " * merge함수는 공통된 열을 하나 이상 가지고 있는 두 데이터 프레임에 대하여 기준이 되는 특정 컬럼의 값이 같은 행끼리 묶어주는 병합 함수이다.\n",
        " * 데이터베이스에서 join과 동일한 역할을 한다.\n",
        " ```\n",
        " pd.merge(left,rigth,how,on)\n",
        " ```\n",
        " 파라미터  \n",
        " * left: 병합하려는 데이터프레임\n",
        " * right: 병합하려는 데이터프레임\n",
        " * 병합할 때 기준이 되는 열을 지정하는 파라미터   \n",
        "    * inner : 두 데이터 프레임에서 공통으로 존재하는 모든 열을 병합\n",
        "    * left  : 왼쪽 데이터 프레임을 기준으로 병합\n",
        "    * right : 오른쪽 데이터 프렝미을 기준으로 병합\n",
        "    * outer : 두 데이터 프레임에 존재하는 모든 열을 병합하는 함수\n",
        " * on : 병합 기준이 되는 열의 이름    "
      ],
      "metadata": {
        "id": "Sza1k2RXvGDR"
      }
    },
    {
      "cell_type": "code",
      "source": [
        "import pandas as pd\n",
        "x=pd.DataFrame({'name':['a','b','c'],\n",
        "                'math' :[1,2,3]})\n",
        "y=pd.DataFrame({'name':['c','b','d'],\n",
        "                'english':[4,5,6]})\n",
        "print(pd.merge(x,y, how='inner', on='name'))"
      ],
      "metadata": {
        "colab": {
          "base_uri": "https://localhost:8080/"
        },
        "id": "Xf5u9sZawPb6",
        "outputId": "ccc471b6-9f22-4886-fbb1-ac144627dc25"
      },
      "execution_count": null,
      "outputs": [
        {
          "output_type": "stream",
          "name": "stdout",
          "text": [
            "  name  math  english\n",
            "0    b     2        5\n",
            "1    c     3        4\n"
          ]
        }
      ]
    },
    {
      "cell_type": "code",
      "source": [
        "print(pd.merge(x,y,how='left', on='name'))"
      ],
      "metadata": {
        "colab": {
          "base_uri": "https://localhost:8080/"
        },
        "id": "2YNEOgNP6hEt",
        "outputId": "22f06931-9fd5-4e65-f19f-a50b5b717e6f"
      },
      "execution_count": null,
      "outputs": [
        {
          "output_type": "stream",
          "name": "stdout",
          "text": [
            "  name  math  english\n",
            "0    a     1      NaN\n",
            "1    b     2      5.0\n",
            "2    c     3      4.0\n"
          ]
        }
      ]
    },
    {
      "cell_type": "code",
      "source": [
        "print(pd.merge(x,y,how='right', on='name'))"
      ],
      "metadata": {
        "colab": {
          "base_uri": "https://localhost:8080/"
        },
        "id": "3cUujo-_6qC4",
        "outputId": "6a7695c0-44c8-4385-e775-b4723c5b53fa"
      },
      "execution_count": null,
      "outputs": [
        {
          "output_type": "stream",
          "name": "stdout",
          "text": [
            "  name  math  english\n",
            "0    c   3.0        4\n",
            "1    b   2.0        5\n",
            "2    d   NaN        6\n"
          ]
        }
      ]
    },
    {
      "cell_type": "code",
      "source": [
        "print(pd.merge(x,y,how='outer', on='name'))"
      ],
      "metadata": {
        "colab": {
          "base_uri": "https://localhost:8080/"
        },
        "id": "1Iq9uV2P66uN",
        "outputId": "0eee62ca-abd6-453a-b232-e69aa8386fd8"
      },
      "execution_count": null,
      "outputs": [
        {
          "output_type": "stream",
          "name": "stdout",
          "text": [
            "  name  math  english\n",
            "0    a   1.0      NaN\n",
            "1    b   2.0      5.0\n",
            "2    c   3.0      4.0\n",
            "3    d   NaN      6.0\n"
          ]
        }
      ]
    },
    {
      "cell_type": "markdown",
      "source": [
        "### Numpy 패키지"
      ],
      "metadata": {
        "id": "PwAZr7zP7edb"
      }
    },
    {
      "cell_type": "markdown",
      "source": [
        "#### where 함수\n",
        "---\n",
        "where 함수는 배열에서 조건에 따라 원하는 값을 선택하기 위한 함수이다.\n",
        "```\n",
        "np.where(조건)\n",
        "```"
      ],
      "metadata": {
        "id": "gzsPUEEo9O_-"
      }
    },
    {
      "cell_type": "code",
      "source": [
        "import numpy as np\n",
        "\n",
        "a=np.array([1,2,3,4])\n",
        "print(a)\n",
        "\n",
        "a=np.where(a>2,2,a)\n",
        "print(a)"
      ],
      "metadata": {
        "colab": {
          "base_uri": "https://localhost:8080/"
        },
        "id": "ro29TElU9gpO",
        "outputId": "5d1c474b-8606-4a78-bb80-b4016048ac51"
      },
      "execution_count": null,
      "outputs": [
        {
          "output_type": "stream",
          "name": "stdout",
          "text": [
            "[1 2 3 4]\n",
            "[1 2 2 2]\n"
          ]
        }
      ]
    },
    {
      "cell_type": "markdown",
      "source": [
        "##데이터 정제"
      ],
      "metadata": {
        "id": "sIWGALqo-V9t"
      }
    },
    {
      "cell_type": "markdown",
      "source": [
        "### 결측값\n",
        "\n",
        "\n",
        "1.   결측값 개념   \n",
        "결측값은 입력이 누락된 값이다.\n",
        "2.   결측값 인식  \n",
        " *   분석 데이터의 입력에 결측값이 있는지 확인한다.\n",
        " *   결측값이 데이터에 포함되어 있으면 산술 연산을 수행할 수 없으므로 분석 결과가 왜곡될 수 있다.\n",
        "\n",
        "\n",
        "\n"
      ],
      "metadata": {
        "id": "jAYYcb0M-qF9"
      }
    },
    {
      "cell_type": "markdown",
      "source": [
        "####isna 함수를 이용한 결측값 확인\n",
        "---\n",
        "isna 함수는 결측값 인식 함수이다.\n",
        "```\n",
        "isna(x)\n",
        "```\n",
        "파라미터  \n",
        "x : 데이터의 각 행(Row)과 변수(Column)별로 결측값이 있을 경우 True, 아니면 False 출력"
      ],
      "metadata": {
        "id": "xpjKADRq_O5F"
      }
    },
    {
      "cell_type": "code",
      "source": [
        "import pandas as pd\n",
        "\n",
        "airquality=pd.read_csv('airquality.csv')\n",
        "print(airquality)\n",
        "print(airquality.isna())"
      ],
      "metadata": {
        "colab": {
          "base_uri": "https://localhost:8080/"
        },
        "id": "MPnq9wZwVIMW",
        "outputId": "76e369bf-ccba-4781-9f55-128775920b3d"
      },
      "execution_count": null,
      "outputs": [
        {
          "output_type": "stream",
          "name": "stdout",
          "text": [
            "     Unnamed: 0  Ozone  Solar.R  Wind  Temp  Month  Day\n",
            "0             1   41.0    190.0   7.4    67      5    1\n",
            "1             2   36.0    118.0   8.0    72      5    2\n",
            "2             3   12.0    149.0  12.6    74      5    3\n",
            "3             4   18.0    313.0  11.5    62      5    4\n",
            "4             5    NaN      NaN  14.3    56      5    5\n",
            "..          ...    ...      ...   ...   ...    ...  ...\n",
            "148         149   30.0    193.0   6.9    70      9   26\n",
            "149         150    NaN    145.0  13.2    77      9   27\n",
            "150         151   14.0    191.0  14.3    75      9   28\n",
            "151         152   18.0    131.0   8.0    76      9   29\n",
            "152         153   20.0    223.0  11.5    68      9   30\n",
            "\n",
            "[153 rows x 7 columns]\n",
            "     Unnamed: 0  Ozone  Solar.R   Wind   Temp  Month    Day\n",
            "0         False  False    False  False  False  False  False\n",
            "1         False  False    False  False  False  False  False\n",
            "2         False  False    False  False  False  False  False\n",
            "3         False  False    False  False  False  False  False\n",
            "4         False   True     True  False  False  False  False\n",
            "..          ...    ...      ...    ...    ...    ...    ...\n",
            "148       False  False    False  False  False  False  False\n",
            "149       False   True    False  False  False  False  False\n",
            "150       False  False    False  False  False  False  False\n",
            "151       False  False    False  False  False  False  False\n",
            "152       False  False    False  False  False  False  False\n",
            "\n",
            "[153 rows x 7 columns]\n"
          ]
        }
      ]
    },
    {
      "cell_type": "markdown",
      "source": [
        "#### info 함수를 이용한 결측값 확인\n",
        "\n",
        "*   info 함수는 데이터 프레임의 간략한 요약 정보를 제공하는 함수이다.\n",
        "*   데이터 프레임의 크기, 열의 이름과 개수, 각 열의 데이터 타입, 결측치의 개수 등의 정보를 포함한다.\n",
        "\n"
      ],
      "metadata": {
        "id": "4vsUcgM1VsKz"
      }
    },
    {
      "cell_type": "code",
      "source": [
        "import pandas as pd\n",
        "\n",
        "airquality = pd.read_csv('airquality.csv')\n",
        "print(airquality.info())"
      ],
      "metadata": {
        "colab": {
          "base_uri": "https://localhost:8080/"
        },
        "id": "kE8gx2HIvbCW",
        "outputId": "41bc7c28-db44-42b9-d549-ed1db07b9556"
      },
      "execution_count": null,
      "outputs": [
        {
          "output_type": "stream",
          "name": "stdout",
          "text": [
            "<class 'pandas.core.frame.DataFrame'>\n",
            "RangeIndex: 153 entries, 0 to 152\n",
            "Data columns (total 7 columns):\n",
            " #   Column      Non-Null Count  Dtype  \n",
            "---  ------      --------------  -----  \n",
            " 0   Unnamed: 0  153 non-null    int64  \n",
            " 1   Ozone       116 non-null    float64\n",
            " 2   Solar.R     146 non-null    float64\n",
            " 3   Wind        153 non-null    float64\n",
            " 4   Temp        153 non-null    int64  \n",
            " 5   Month       153 non-null    int64  \n",
            " 6   Day         153 non-null    int64  \n",
            "dtypes: float64(3), int64(4)\n",
            "memory usage: 8.5 KB\n",
            "None\n"
          ]
        }
      ]
    },
    {
      "cell_type": "markdown",
      "source": [
        "#### 행별, 컬럼별, 전체 결측값 확인"
      ],
      "metadata": {
        "id": "uwoK_sm93eGC"
      }
    },
    {
      "cell_type": "code",
      "source": [
        "import pandas as pd\n",
        "\n",
        "airquality=pd.read_csv('airquality.csv')\n",
        "print(airquality.isna().sum(axis=1))\n",
        "\n",
        "print(airquality.isna().sum(axis=1).sum())\n",
        "\n",
        "print(airquality.shape[0]-airquality.dropna().shape[0])\n"
      ],
      "metadata": {
        "colab": {
          "base_uri": "https://localhost:8080/"
        },
        "id": "QwtPGjDf3jT1",
        "outputId": "81f18ded-a59f-4b25-8118-a524f152700e"
      },
      "execution_count": null,
      "outputs": [
        {
          "output_type": "stream",
          "name": "stdout",
          "text": [
            "0      0\n",
            "1      0\n",
            "2      0\n",
            "3      0\n",
            "4      2\n",
            "      ..\n",
            "148    0\n",
            "149    1\n",
            "150    0\n",
            "151    0\n",
            "152    0\n",
            "Length: 153, dtype: int64\n",
            "44\n",
            "42\n"
          ]
        }
      ]
    },
    {
      "cell_type": "code",
      "source": [
        "print(airquality.shape)\n",
        "print(airquality.shape[0])\n",
        "print(airquality.shape[1])\n",
        "print(airquality.dropna().shape)\n",
        "print(airquality.dropna().shape[0])\n",
        "print(airquality.dropna().shape[1])"
      ],
      "metadata": {
        "colab": {
          "base_uri": "https://localhost:8080/"
        },
        "id": "x9AZaxDy6lSg",
        "outputId": "725be658-2123-44ac-f9c4-b9b9071671d1"
      },
      "execution_count": null,
      "outputs": [
        {
          "output_type": "stream",
          "name": "stdout",
          "text": [
            "(153, 7)\n",
            "153\n",
            "7\n",
            "(111, 7)\n",
            "111\n",
            "7\n"
          ]
        }
      ]
    },
    {
      "cell_type": "markdown",
      "source": [
        "###결측값 처리"
      ],
      "metadata": {
        "id": "xpUrsRom66kM"
      }
    },
    {
      "cell_type": "markdown",
      "source": [
        "####결측값 삭제\n",
        "---\n",
        "결측값을 삭제하면 결측값이 너무 많은 특정 컬럼만 삭제할 수도 있으며, 결측값이 존재하는 모든 행을 삭제할 수도 있다.\n",
        "```\n",
        "drop(labels,axis=axis)\n",
        "```\n",
        "파라미터  \n",
        "labels\n",
        "\n",
        "\n",
        "*   제거할 열이나 행의 레이블을 지정하는 파라미터\n",
        "*   하나의 레이블 또는 여러 레이블을 리스트 형태로 지정할 수 있음\n",
        "\n",
        "axis\n",
        "\n",
        "\n",
        "*   행/열을 기준으로 삭제할지 정하는 속성(기본값 0)  \n",
        "\n",
        " *   0 : 결측값이 존재하는 행을 기준으로 삭제\n",
        " *   1 : 결측값이 존재하는 열을 기준으로 삭제\n",
        "\n",
        "```\n",
        "dropna(axis,how)\n",
        "```\n",
        "파라미터  \n",
        "\n",
        "axis\n",
        "*   행/열을 기준으로 삭제할지 정하는 파라미터(기본값0)\n",
        "\n",
        " *   0 : 결측값이 존재하는 행을 기준으로 삭제\n",
        " *   1 : 결측값이 존재하는 열을 기준으로 삭제\n",
        "\n",
        "\n",
        "how  \n",
        "\n",
        "*   결측값이 포함된 행 또는 열을 제거하는 방법을 지정하는 파라미터(기본값 'any')\n",
        "\n",
        " *   해당 행 또는 열에 하나 이상의 결측값이 있는 경우 제거\n",
        " *   해당 행 또는 열의 모든 값이 결측값인 경우에만 제거\n",
        "\n"
      ],
      "metadata": {
        "id": "kADmH4ku6-xr"
      }
    },
    {
      "cell_type": "code",
      "source": [
        "#결측값이 있는 행 삭제\n",
        "import pandas as pd\n",
        "\n",
        "airquality = pd.read_csv('airquality.csv')\n",
        "print(airquality)\n",
        "airquality = airquality.dropna(axis=0)\n",
        "print(airquality)\n",
        "print(airquality.isna().sum(axis=0))"
      ],
      "metadata": {
        "colab": {
          "base_uri": "https://localhost:8080/"
        },
        "id": "NGQgpu2J-dHj",
        "outputId": "db6c9dc9-ac83-49e7-ffe4-ff9a50075f97"
      },
      "execution_count": null,
      "outputs": [
        {
          "output_type": "stream",
          "name": "stdout",
          "text": [
            "     Unnamed: 0  Ozone  Solar.R  Wind  Temp  Month  Day\n",
            "0             1   41.0    190.0   7.4    67      5    1\n",
            "1             2   36.0    118.0   8.0    72      5    2\n",
            "2             3   12.0    149.0  12.6    74      5    3\n",
            "3             4   18.0    313.0  11.5    62      5    4\n",
            "4             5    NaN      NaN  14.3    56      5    5\n",
            "..          ...    ...      ...   ...   ...    ...  ...\n",
            "148         149   30.0    193.0   6.9    70      9   26\n",
            "149         150    NaN    145.0  13.2    77      9   27\n",
            "150         151   14.0    191.0  14.3    75      9   28\n",
            "151         152   18.0    131.0   8.0    76      9   29\n",
            "152         153   20.0    223.0  11.5    68      9   30\n",
            "\n",
            "[153 rows x 7 columns]\n",
            "     Unnamed: 0  Ozone  Solar.R  Wind  Temp  Month  Day\n",
            "0             1   41.0    190.0   7.4    67      5    1\n",
            "1             2   36.0    118.0   8.0    72      5    2\n",
            "2             3   12.0    149.0  12.6    74      5    3\n",
            "3             4   18.0    313.0  11.5    62      5    4\n",
            "6             7   23.0    299.0   8.6    65      5    7\n",
            "..          ...    ...      ...   ...   ...    ...  ...\n",
            "147         148   14.0     20.0  16.6    63      9   25\n",
            "148         149   30.0    193.0   6.9    70      9   26\n",
            "150         151   14.0    191.0  14.3    75      9   28\n",
            "151         152   18.0    131.0   8.0    76      9   29\n",
            "152         153   20.0    223.0  11.5    68      9   30\n",
            "\n",
            "[111 rows x 7 columns]\n",
            "Unnamed: 0    0\n",
            "Ozone         0\n",
            "Solar.R       0\n",
            "Wind          0\n",
            "Temp          0\n",
            "Month         0\n",
            "Day           0\n",
            "dtype: int64\n"
          ]
        }
      ]
    },
    {
      "cell_type": "code",
      "source": [
        "#결측값이 있는 열 삭제\n",
        "import pandas as pd\n",
        "\n",
        "airquality = pd.read_csv('airquality.csv')\n",
        "print(airquality)\n",
        "print(airquality.isna().sum(axis=1))\n",
        "airquality = airquality.dropna(axis=1)\n",
        "print(airquality)\n",
        "print(airquality.isna().sum(axis=1))\n"
      ],
      "metadata": {
        "colab": {
          "base_uri": "https://localhost:8080/"
        },
        "id": "eOEgWoRfALoB",
        "outputId": "63a66c01-0694-4e0c-80f0-9e2289853846"
      },
      "execution_count": null,
      "outputs": [
        {
          "output_type": "stream",
          "name": "stdout",
          "text": [
            "     Unnamed: 0  Ozone  Solar.R  Wind  Temp  Month  Day\n",
            "0             1   41.0    190.0   7.4    67      5    1\n",
            "1             2   36.0    118.0   8.0    72      5    2\n",
            "2             3   12.0    149.0  12.6    74      5    3\n",
            "3             4   18.0    313.0  11.5    62      5    4\n",
            "4             5    NaN      NaN  14.3    56      5    5\n",
            "..          ...    ...      ...   ...   ...    ...  ...\n",
            "148         149   30.0    193.0   6.9    70      9   26\n",
            "149         150    NaN    145.0  13.2    77      9   27\n",
            "150         151   14.0    191.0  14.3    75      9   28\n",
            "151         152   18.0    131.0   8.0    76      9   29\n",
            "152         153   20.0    223.0  11.5    68      9   30\n",
            "\n",
            "[153 rows x 7 columns]\n",
            "0      0\n",
            "1      0\n",
            "2      0\n",
            "3      0\n",
            "4      2\n",
            "      ..\n",
            "148    0\n",
            "149    1\n",
            "150    0\n",
            "151    0\n",
            "152    0\n",
            "Length: 153, dtype: int64\n",
            "     Unnamed: 0  Wind  Temp  Month  Day\n",
            "0             1   7.4    67      5    1\n",
            "1             2   8.0    72      5    2\n",
            "2             3  12.6    74      5    3\n",
            "3             4  11.5    62      5    4\n",
            "4             5  14.3    56      5    5\n",
            "..          ...   ...   ...    ...  ...\n",
            "148         149   6.9    70      9   26\n",
            "149         150  13.2    77      9   27\n",
            "150         151  14.3    75      9   28\n",
            "151         152   8.0    76      9   29\n",
            "152         153  11.5    68      9   30\n",
            "\n",
            "[153 rows x 5 columns]\n",
            "0      0\n",
            "1      0\n",
            "2      0\n",
            "3      0\n",
            "4      0\n",
            "      ..\n",
            "148    0\n",
            "149    0\n",
            "150    0\n",
            "151    0\n",
            "152    0\n",
            "Length: 153, dtype: int64\n"
          ]
        }
      ]
    },
    {
      "cell_type": "markdown",
      "source": [
        "#### 단순대치법\n",
        "\n",
        "*   결측값이 존재하면 삭제하지 않고 평균, 중위수 등으로 대체할 수 있다.\n",
        "*   결측값이 인식되면 단순 대치법이나 다중 대치법을 활용하여 결측값을 대체한다.\n",
        "*   단순 대치법에는 평균 대치법(데이터의 결측값을 평균값으로 변경하는 기법)을 많이 사용한다.\n",
        "\n",
        "```\n",
        "fillna(value.axis)\n",
        "```\n",
        "\n",
        "파라미터  \n",
        "value  \n",
        " * 결측값을 대체할 값  \n",
        "\n",
        "axis  \n",
        " * 행/열을 기준으로 삭제할지 정하는 속성(기본값 0)\n",
        "\n",
        "  *   0 : 결측값이 존재하는 행을 기준으로 삭제\n",
        "  *   1 : 결측값이 존재하는 열을 기준으로 삭제"
      ],
      "metadata": {
        "id": "EKd_IZCoDJ9H"
      }
    },
    {
      "cell_type": "code",
      "source": [
        "## 평균대치법\n",
        "import pandas as pd\n",
        "\n",
        "airquality = pd.read_csv('airquality.csv')\n",
        "print(pd.isna(airquality['Ozone']).value_counts())"
      ],
      "metadata": {
        "colab": {
          "base_uri": "https://localhost:8080/"
        },
        "id": "J4aEPdnZEooi",
        "outputId": "4663c1b0-f1a7-4879-eeac-f3873ca4f5a2"
      },
      "execution_count": null,
      "outputs": [
        {
          "output_type": "stream",
          "name": "stdout",
          "text": [
            "Ozone\n",
            "False    116\n",
            "True      37\n",
            "Name: count, dtype: int64\n"
          ]
        }
      ]
    },
    {
      "cell_type": "code",
      "source": [
        "airquality['Ozone'] =airquality['Ozone'].fillna(airquality['Ozone'].mean())\n",
        "print(pd.isna(airquality['Ozone']).value_counts())"
      ],
      "metadata": {
        "colab": {
          "base_uri": "https://localhost:8080/"
        },
        "id": "7cFFI1_tFBrO",
        "outputId": "dab1df41-4369-4fa7-ed5d-e1b298734c91"
      },
      "execution_count": null,
      "outputs": [
        {
          "output_type": "stream",
          "name": "stdout",
          "text": [
            "Ozone\n",
            "False    153\n",
            "Name: count, dtype: int64\n"
          ]
        }
      ]
    },
    {
      "cell_type": "code",
      "source": [
        "#결측값 대체\n",
        "import pandas as pd\n",
        "\n",
        "airquality = pd.read_csv('airquality.csv')\n",
        "a = airquality['Ozone'].std()\n",
        "print(a)"
      ],
      "metadata": {
        "colab": {
          "base_uri": "https://localhost:8080/"
        },
        "id": "aFzELudmGSI-",
        "outputId": "a069f84e-ebf4-4634-fb86-cf43b3b16f0b"
      },
      "execution_count": null,
      "outputs": [
        {
          "output_type": "stream",
          "name": "stdout",
          "text": [
            "32.98788451443395\n"
          ]
        }
      ]
    },
    {
      "cell_type": "code",
      "source": [
        "airquality['Ozone']=airquality['Ozone'].fillna(airquality['Ozone'].mean())\n",
        "b = airquality['Ozone'].std()\n",
        "print(b)"
      ],
      "metadata": {
        "colab": {
          "base_uri": "https://localhost:8080/"
        },
        "id": "nljU-wGkG5BL",
        "outputId": "7f0544a4-8dd2-42db-9892-d770df871e7e"
      },
      "execution_count": null,
      "outputs": [
        {
          "output_type": "stream",
          "name": "stdout",
          "text": [
            "28.693372188220756\n"
          ]
        }
      ]
    },
    {
      "cell_type": "code",
      "source": [
        "print(a-b)"
      ],
      "metadata": {
        "colab": {
          "base_uri": "https://localhost:8080/"
        },
        "id": "jZpjllywG5DR",
        "outputId": "c42454c2-aab8-4455-d8ba-2d627d2b5d9b"
      },
      "execution_count": null,
      "outputs": [
        {
          "output_type": "stream",
          "name": "stdout",
          "text": [
            "4.294512326213194\n"
          ]
        }
      ]
    },
    {
      "cell_type": "markdown",
      "source": [],
      "metadata": {
        "id": "bldKkkyFIA9F"
      }
    },
    {
      "cell_type": "markdown",
      "source": [
        "### 이상값\n",
        "\n",
        "1.   이상값의 개념  \n",
        "\n",
        " *   이상값은 관측된 데이터의 범위에서 많이 벗어난 아주 작은 값이나 아주 큰 값이다.\n",
        " *   이상값은 입력 오류, 데이터 처리 오류 등의 이유로 특정 범위에서 벗어난 데이터 값을 의미한다.\n",
        " *   분석 모형을 구축할 때 이상값은 나쁜 영향을 끼치는 경우가 많으므로 전처리 단계에서 처리가 필요하다.\n",
        "\n",
        "\n",
        "2.   이상값 판별  \n",
        "\n",
        " *   이상값은 통계적 기법의 ESD, 기하평균, 사분위수 등을 활용해 확인한다.\n",
        " *   다양한 이상값 검출 방법이 있으며 평균과 표준편차를 이용한 ESD(Extreame Studentized Deviation) 방법과 4분위수를 이용한 방법을 많이 이용한다.\n",
        "\n",
        " * 이상값 탐색 기법  \n",
        "      *  ESD(Extreme Studentized Deviation)   \n",
        "        * 평균(μ)으로부터 3*표준편차(σ)떨어진 값(각 0.15%)을 이상값으로 판단  \n",
        "$ \\mu-3\\sigma<X<\\mu+3\\sigma  \\Leftrightarrow   | \\frac{\\chi-\\mu} { \\sigma }| <3$\n",
        "      *  기하평균 활용\n",
        "        * 기하평균으로부터 2.5표준편차(σ)떨어진 값을 이상값으로 판단  \n",
        "$기하평균 - 2.5 \\times\\sigma <data<기하평균+2.5\\times\\sigma$\n",
        "\n",
        "3. 사분위 수 활용\n",
        " * 사분위 수(Quartile)는 4등분하는 위치의 수로서 전체 데이터를 순위별로 4등분하는 위치의 수 3개 $Q_{1},Q_{2},Q_3$ 가 있음  \n",
        "    * 제1사분위수($Q_{1}$) 누적 백분율이 25%에 해당하는 값, 25번째 백분위 수\n",
        "    * 제2사분위수($Q_{2}$) 누적 백분율이 50%에 해당하는 값, 50번째 백분위 수\n",
        "    (중앙값과 같음)\n",
        "    * 제3사분위수($Q_{3}$) 누적 백분율이 75%에 해당하는 값, 75번째 백분위 수\n",
        "\n",
        " * 제1사분위, 제3사분위를 기준으로 사분위 간 범위($Q_{3}-Q{1}$)의 1.5배를 한 값과 떨어진 위치를 이상값으로 판단\n",
        " * 박스 플롯(Box-plot)을 통해서 시각적으로 확인\n",
        " $$ Q_1-1.5\\times(Q_3-Q_1)<data<Q_3+1.5(Q_3-Q_1)$$\n",
        "\n",
        "\n",
        "\n"
      ],
      "metadata": {
        "id": "MWEwAXC4IA_f"
      }
    },
    {
      "cell_type": "markdown",
      "source": [
        "####ESD(Extreme Studentized Deviation)\n",
        "\n",
        "\n",
        "*   ESD는 평균에서 3 표준편차보다 큰 값들을 이상값으로 판별하는 방법이다.\n",
        "*   ESD도 평균을 이용하기 떄문에 이상값에 민감하다.\n",
        "\n"
      ],
      "metadata": {
        "id": "tJHlEdS7Ra7F"
      }
    },
    {
      "cell_type": "code",
      "source": [
        "import pandas as pd\n",
        "\n",
        "df = pd.DataFrame({'score':[1,1,1,1,1,1,1,1,1,1,1,1000000000],\n",
        "                   'name':[\"A\",\"B\",\"C\",\"D\",\"E\",\"F\",\"G\",\"H\",\"I\",\"J\",\"K\",\"L\"]})\n",
        "def esd(x):\n",
        "  return abs(x-x.mean()/x.std())<3\n",
        "\n",
        "print(df[esd(df['score'])])"
      ],
      "metadata": {
        "colab": {
          "base_uri": "https://localhost:8080/"
        },
        "id": "52FO3J_AmqFZ",
        "outputId": "ccf32104-662c-4ece-ab7c-b9c6ca69b958"
      },
      "execution_count": null,
      "outputs": [
        {
          "output_type": "stream",
          "name": "stdout",
          "text": [
            "    score name\n",
            "0       1    A\n",
            "1       1    B\n",
            "2       1    C\n",
            "3       1    D\n",
            "4       1    E\n",
            "5       1    F\n",
            "6       1    G\n",
            "7       1    H\n",
            "8       1    I\n",
            "9       1    J\n",
            "10      1    K\n"
          ]
        }
      ]
    },
    {
      "cell_type": "markdown",
      "source": [
        "#### 4분위수 이용\n",
        "\n",
        "\n",
        "*   제 2사분위(중위수) 기준으로 4분위수 범위($Q_3-Q_1;IQR$)의 1.5배를 한 값 이상인 값을 이상값으로 판단한다.\n",
        "*   박스 플롯을 이용할 수 있으며 IQR함수를 이용하여서도 이상값 검출이 가능하다.\n",
        "*   중위수를 이용하므로 ESD와 달리 이상값에 민감하지 않다.\n",
        "\n",
        "박스 플롯을 이용한 이상값 검출\n",
        "\n",
        "\n",
        "*   박스 플롯은 통계적으로 이상값을 판별하는 대표적인 방법이다.\n",
        "*   박스 플롯의 5가지 수치 요약(Five-Number Summary)을 이용하여 이상값을 판별할 수 있다.\n",
        "\n",
        "박스 플롯의 5가지 수치 요약\n",
        " *   최솟값  \n",
        "   *   하위 경계 내 관측치의 최솟값\n",
        "   *   plt.boxplot['whiskers'][0].get_ydata[1]이용하여 확인\n",
        " *   제 1사분위수($Q_1$)(1st Quantile)\n",
        "   *   자료들의 하위 25%의 위치\n",
        "   *   plt.boxplot['boxes'][0].get_ydata()[1]이용하여 확인\n",
        " * 제2 사분위($Q_2$, 중위수)  \n",
        "   *   자료들의 50%의 위치로 중위수(Median)를 의미\n",
        "   *   두꺼운 막대로 가시성을 높여서 표현\n",
        "   *   plt.boxplot['medians'][0].get_ydata()[0]이용하여 확인\n",
        " * 제3 사분위($Q_3$)(3rd Quantile)  \n",
        "   *   자료들의 하위 75%의 위치\n",
        "   *   plt.boxplot['boxes'][0].get_ydata()[2] 이용하여 확인\n",
        " * 최댓값(Maximum)\n",
        "   *   상위 경계 내 관측치의 최댓값\n",
        "   *   plt.boxplot['whiskers'][1].get_ydata()[1] 이용하여 확인\n",
        "\n",
        "```\n",
        "boxplot(x)\n",
        "```\n",
        "파라미터  \n",
        " * x : 박스 플롯에 필요한 데이터"
      ],
      "metadata": {
        "id": "EMH-e1nSptTu"
      }
    },
    {
      "cell_type": "code",
      "source": [
        "import pandas as pd\n",
        "import matplotlib.pyplot as plt\n",
        "\n",
        "df = pd.DataFrame({'score':[65,60,70,75,200],\n",
        "                   'name':[\"Bell\",\"Cherry\",\"Don\",\"Jake\",\"Fox\"]})\n",
        "\n",
        "box_score = plt.boxplot(df['score'])\n",
        "\n"
      ],
      "metadata": {
        "colab": {
          "base_uri": "https://localhost:8080/",
          "height": 430
        },
        "id": "QrOU_-wGzLmJ",
        "outputId": "279d9947-2745-4523-ac1d-5636e58a4197"
      },
      "execution_count": null,
      "outputs": [
        {
          "output_type": "display_data",
          "data": {
            "text/plain": [
              "<Figure size 640x480 with 1 Axes>"
            ],
            "image/png": "[encoded data removed]"
          },
          "metadata": {}
        }
      ]
    },
    {
      "cell_type": "code",
      "source": [
        "\n",
        "whiskers = [item.get_ydata()for item in box_score['whiskers']]\n",
        "boxes=[item.get_ydata()for item in box_score['boxes']]\n",
        "median = [item.get_ydata()for item in box_score['medians']]\n",
        "fliers = [item.get_ydata()for item in box_score['fliers']]\n",
        "\n",
        "print(\"whisekrs:\",whiskers)  #상자 수염\n",
        "print(\"boxes:\",boxes)        #(사분위수[1],[2])와(중앙값의 신뢰구간)\n",
        "print(\"median:\",median)      #중앙값\n",
        "print(\"fliers:\",fliers)      #수염 범위 밖 데이터 포인트\n",
        "\n"
      ],
      "metadata": {
        "colab": {
          "base_uri": "https://localhost:8080/"
        },
        "id": "Z_s7DdPhZ3Mk",
        "outputId": "a6bdae49-5eee-48fa-dc6c-f69c518f9a02"
      },
      "execution_count": null,
      "outputs": [
        {
          "output_type": "stream",
          "name": "stdout",
          "text": [
            "whisekrs: [array([65., 60.]), array([75., 75.])]\n",
            "boxes: [array([65., 65., 75., 75., 65.])]\n",
            "median: [array([70., 70.])]\n",
            "fliers: [array([200])]\n"
          ]
        }
      ]
    },
    {
      "cell_type": "code",
      "source": [
        "minimum = box_score['whiskers'][0].get_ydata()[1]\n",
        "q1 = box_score['boxes'][0].get_ydata()[1]\n",
        "q2 = box_score['medians'][0].get_ydata()[0]\n",
        "q3 = box_score['boxes'][0].get_ydata()[2]\n",
        "maximum = box_score['whiskers'][1].get_ydata()[1]\n",
        "outliers= []\n",
        "\n",
        "for point in df['score']:\n",
        "  if point < minimum or point > maximum:\n",
        "    outliers.append(point)\n",
        "\n"
      ],
      "metadata": {
        "id": "bqSoBG4IZPfK"
      },
      "execution_count": null,
      "outputs": []
    },
    {
      "cell_type": "code",
      "source": [
        "print(\"최솟값:\",minimum)\n",
        "print(\"1사분위:\",q1)\n",
        "print(\"2사분위(중앙값)\",q2)\n",
        "print(\"3사분위\",q3)\n",
        "print(\"최대값:\",maximum)\n",
        "print(\"이상값:\",outliers)"
      ],
      "metadata": {
        "colab": {
          "base_uri": "https://localhost:8080/"
        },
        "id": "EAanl3FWbKvw",
        "outputId": "5ad8dc7f-f56e-484b-ad6d-97bcf8f12a07"
      },
      "execution_count": null,
      "outputs": [
        {
          "output_type": "stream",
          "name": "stdout",
          "text": [
            "최솟값: 60.0\n",
            "1사분위: 65.0\n",
            "2사분위(중앙값) 70.0\n",
            "3사분위 75.0\n",
            "최대값: 75.0\n",
            "이상값: [200]\n"
          ]
        }
      ]
    },
    {
      "cell_type": "markdown",
      "source": [
        "####IQR 함수를 이용한 이상값 검출\n",
        "\n",
        "```\n",
        "iqr(x) #IQR을 계산할 데이터\n",
        "```"
      ],
      "metadata": {
        "id": "uLff4S6UsX9n"
      }
    },
    {
      "cell_type": "code",
      "source": [
        "# 이상값을 제외한 데이터를 출력\n",
        "\n",
        "import pandas as pd\n",
        "from scipy.stats import iqr\n",
        "\n",
        "df= pd.DataFrame({'score':[65,60,70,75,200],\n",
        "                  'name':[\"Bell\",\"Cherry\",\"Don\",\"Jake\",\"Fox\"]})\n",
        "\n",
        "min_score=df['score'].median()-2*iqr(df['score'])\n",
        "max_score=df['score'].median()+2*iqr(df['score'])\n",
        "\n",
        "print(df[(df['score']>=min_score)&(df['score']<=max_score)])"
      ],
      "metadata": {
        "colab": {
          "base_uri": "https://localhost:8080/"
        },
        "id": "HvZwR8C9zQ3R",
        "outputId": "f50f33a2-cd21-4cb8-d6aa-b9eb63fc4ee0"
      },
      "execution_count": null,
      "outputs": [
        {
          "output_type": "stream",
          "name": "stdout",
          "text": [
            "   score    name\n",
            "0     65    Bell\n",
            "1     60  Cherry\n",
            "2     70     Don\n",
            "3     75    Jake\n"
          ]
        }
      ]
    },
    {
      "cell_type": "markdown",
      "source": [
        "####이상값 처리\n",
        "\n",
        "\n",
        "*   이상값을 반드시 제거해야 하는 것은 아니므로 이상값을 처리할지는 분석의 목적에 따라 적절한 판단이 필요하다.\n",
        "*   데이터 이상값 처리 기법에는 삭제,대체,변환,분류 등이 있다.\n",
        "\n",
        "---\n",
        "####처리 기법\n",
        "\n",
        "1. 삭제(Deleting Observation)\n",
        " *   이상값으로 판단되는 관측값을 제외하고 분석하는 방법\n",
        " *   추정치의 분산은 작아지지만, 실제보다 과소(또는 과대)추정되어 편의가 발생할 수 있음\n",
        "\n",
        "2. 대체(Impultation)\n",
        " * 이상값을 평균이나 중앙값 등으로 대체하는 방법\n",
        " * 하한값보다 작으면 하한값으로 대체하고 상한값보다 크면 상한값으로 대체\n",
        "\n",
        "3. 변환(Transformation)\n",
        " * 극단적인 값으로 인해 이상값이 발생했다면 자연로그를 취해서 값을 감소시키는 방법\n",
        "\n",
        "4. 분류(Classification)\n",
        " * 서로 다른 그룹으로 통계적인 분석을 실행하여 처리하는 방법\n",
        " * 각각의 그룹에 대해서 통계적인 모형을 생성하고, 결과를 결합하는 방법 사용"
      ],
      "metadata": {
        "id": "QfUsgNdR1LTE"
      }
    },
    {
      "cell_type": "markdown",
      "source": [
        "##데이터 변환"
      ],
      "metadata": {
        "id": "s495nvxb6HF4"
      }
    },
    {
      "cell_type": "markdown",
      "source": [
        "###데이터 유형 변환\n",
        "astype 함수는 데이터 유형을 반환하는 함수이다.\n",
        "```\n",
        "astype(dtype)\n",
        "```\n",
        "파라미터\n",
        " * dtype : 변환하려는 데이터 타입을 지정"
      ],
      "metadata": {
        "id": "3CXyVjWY6Pbu"
      }
    },
    {
      "cell_type": "code",
      "source": [
        "import pandas as pd\n",
        "df = pd.DataFrame({'Class':[1,2,3,1,2,1],\n",
        "                   'Age' :[1,3.2,11.8,33.2,42.9,33.2],\n",
        "                   'Part':[3,7,2,1,3,5]})\n",
        "print(df.info())\n"
      ],
      "metadata": {
        "colab": {
          "base_uri": "https://localhost:8080/"
        },
        "id": "u2lJSWry6rps",
        "outputId": "06c5a803-8708-4d76-f95a-758a86c853f9"
      },
      "execution_count": null,
      "outputs": [
        {
          "output_type": "stream",
          "name": "stdout",
          "text": [
            "<class 'pandas.core.frame.DataFrame'>\n",
            "RangeIndex: 6 entries, 0 to 5\n",
            "Data columns (total 3 columns):\n",
            " #   Column  Non-Null Count  Dtype  \n",
            "---  ------  --------------  -----  \n",
            " 0   Class   6 non-null      int64  \n",
            " 1   Age     6 non-null      float64\n",
            " 2   Part    6 non-null      int64  \n",
            "dtypes: float64(1), int64(2)\n",
            "memory usage: 272.0 bytes\n",
            "None\n"
          ]
        }
      ]
    },
    {
      "cell_type": "code",
      "source": [
        "df['Class'] =df['Class'].astype('category')\n",
        "df['Age'] = df['Age'].astype(int)\n",
        "df['Part'] = df['Part'].astype(float)\n",
        "\n",
        "print(df.info())\n",
        "\n",
        "print(df)"
      ],
      "metadata": {
        "colab": {
          "base_uri": "https://localhost:8080/"
        },
        "id": "y9ev1VW17yWB",
        "outputId": "8477237d-edc6-47f4-882d-1ea68f2bed41"
      },
      "execution_count": null,
      "outputs": [
        {
          "output_type": "stream",
          "name": "stdout",
          "text": [
            "<class 'pandas.core.frame.DataFrame'>\n",
            "RangeIndex: 6 entries, 0 to 5\n",
            "Data columns (total 3 columns):\n",
            " #   Column  Non-Null Count  Dtype   \n",
            "---  ------  --------------  -----   \n",
            " 0   Class   6 non-null      category\n",
            " 1   Age     6 non-null      int64   \n",
            " 2   Part    6 non-null      float64 \n",
            "dtypes: category(1), float64(1), int64(1)\n",
            "memory usage: 362.0 bytes\n",
            "None\n",
            "  Class  Age  Part\n",
            "0     1    1   3.0\n",
            "1     2    3   7.0\n",
            "2     3   11   2.0\n",
            "3     1   33   1.0\n",
            "4     2   42   3.0\n",
            "5     1   33   5.0\n"
          ]
        }
      ]
    },
    {
      "cell_type": "markdown",
      "source": [
        "###날짜 데이터 변환"
      ],
      "metadata": {
        "id": "fOAT4sLU75EW"
      }
    },
    {
      "cell_type": "markdown",
      "source": [
        "#### datetime.strptime 함수\n",
        "datetime.strptime 함수는 문자열을 datetime 객체로 변환하는 데 사용되는 함수이다.\n",
        "\n",
        "```\n",
        "datetime.strptime(date_string,format)\n",
        "```\n",
        "파라미터\n",
        " * date_string : 문자열로 표현된 날짜\n",
        " * format : 날짜의 형식\n",
        "  1. 연도\n",
        "    *  %Y : 4자리 연도\n",
        "    *  %y : 2자리 연도\n",
        "  2. 월\n",
        "    *  %m : 월 숫자 표현\n",
        "    *  %B : 월 전체 영어 표현 ex):January\n",
        "    *  %b : 월 표현 영어 축약형 ex):Jan\n",
        "  3. 일\n",
        "    * %d : 일\n",
        "  4. 시\n",
        "    * %H : 24시간제 시\n",
        "    * %I : 12시간제 시\n",
        "  5. 분\n",
        "    * %M : 분\n",
        "  6. 초\n",
        "    * %S : 초"
      ],
      "metadata": {
        "id": "qPcF5Vv-775p"
      }
    },
    {
      "cell_type": "code",
      "source": [
        "#ymd 함수\n",
        "\n",
        "from datetime import datetime\n",
        "\n",
        "a= datetime.strptime(\"1919 March 1\", \"%Y %B %d\")\n",
        "\n",
        "y= a.year\n",
        "m = a.month\n",
        "d= a.day"
      ],
      "metadata": {
        "id": "m92Rvp4b9rYU"
      },
      "execution_count": null,
      "outputs": []
    },
    {
      "cell_type": "code",
      "source": [
        "print(y)\n",
        "print(m)\n",
        "print(d)\n"
      ],
      "metadata": {
        "colab": {
          "base_uri": "https://localhost:8080/"
        },
        "id": "2gWeE2XK-h9s",
        "outputId": "0c871674-a5f0-45ba-8c97-7b24d5580b5b"
      },
      "execution_count": null,
      "outputs": [
        {
          "output_type": "stream",
          "name": "stdout",
          "text": [
            "1919\n",
            "3\n",
            "1\n"
          ]
        }
      ]
    },
    {
      "cell_type": "code",
      "source": [
        "b=datetime.strptime(\"3-1 1919\", \"%m-%d %Y\")\n",
        "y= b.year\n",
        "m= b.month\n",
        "d= b.day"
      ],
      "metadata": {
        "id": "es_T-UkU-ybb"
      },
      "execution_count": null,
      "outputs": []
    },
    {
      "cell_type": "code",
      "source": [
        "print(y)\n",
        "print(m)\n",
        "print(d)"
      ],
      "metadata": {
        "colab": {
          "base_uri": "https://localhost:8080/"
        },
        "id": "43UNzRXW_FDi",
        "outputId": "93d0a289-1433-4cf3-ff78-1e76187961f7"
      },
      "execution_count": null,
      "outputs": [
        {
          "output_type": "stream",
          "name": "stdout",
          "text": [
            "1919\n",
            "3\n",
            "1\n"
          ]
        }
      ]
    },
    {
      "cell_type": "markdown",
      "source": [
        "#### total_seconds 함수\n",
        "total_seconds 함수는 객체가 나타내는 총 초수를 반환하는 함수이다."
      ],
      "metadata": {
        "id": "EcdnsFCx_Kx4"
      }
    },
    {
      "cell_type": "code",
      "source": [
        "#total_seconds함수\n",
        "\n",
        "from datetime import datetime\n",
        "\n",
        "x=datetime(1919, 3, 1, 12, 1, 0)\n",
        "y=datetime(1919, 3, 1, 12, 2, 0)\n",
        "z=(x-y).total_seconds()\n",
        "print(x)\n",
        "print(y)\n",
        "print(z)"
      ],
      "metadata": {
        "colab": {
          "base_uri": "https://localhost:8080/"
        },
        "id": "YQSeOXqs_Ye4",
        "outputId": "a469e340-f64f-4f39-b033-dfb2660d8e1d"
      },
      "execution_count": null,
      "outputs": [
        {
          "output_type": "stream",
          "name": "stdout",
          "text": [
            "1919-03-01 12:01:00\n",
            "1919-03-01 12:02:00\n",
            "-60.0\n"
          ]
        }
      ]
    },
    {
      "cell_type": "markdown",
      "source": [
        "###데이터의 범위 변환\n",
        "데이터의 범위 변환 방식에는 정규화와 표준화 기법이 있다."
      ],
      "metadata": {
        "id": "T1OEktiR_-t5"
      }
    },
    {
      "cell_type": "markdown",
      "source": [
        "#### 정규화\n",
        "\n",
        "\n",
        "1.   정규화(Nomalization)의 개념  \n",
        " * 정규화는 데이터의 범위를 0과 1사이로 변환하여 데이터의 분포를 조정하는 기법이다.\n",
        " * 정규화는 데이터가 가지는 값의 범위를 통일하여 변환하는 것을 의미한다.\n",
        "2.   정규화의 종류 - 최소 -최대 정규화(Min-Max Normalization)\n",
        " * 최소-최대 정규화는 데이터를 정규화하는 가장 일반적인 기법이다.\n",
        " * 모든 데이터에 대해 각각의 최솟값 0, 최댓값1로,그리고 다른 값들은 0과 1사이의 값으로 변환한다.\n",
        " * 최소-최대 정규화의 단점은 이상값에 많은 영향을 받는다.\n",
        "\n",
        " 최소-최대 정규화\n",
        " $$MinMax= \\frac{X-Min}{Max-Min} $$\n",
        " * $X$: 입력데이터    \n",
        " * Min: 최솟값\n",
        " * Max: 최댓값\n",
        "\n"
      ],
      "metadata": {
        "id": "ZbpZZF7_AOxk"
      }
    },
    {
      "cell_type": "code",
      "source": [
        "#최소-최대 정규화(1)\n",
        "import numpy as np\n",
        "from sklearn.preprocessing import MinMaxScaler\n",
        "\n",
        "data = np.array([1,3,5,7,8])\n",
        "x = data.reshape(-1, 1) # -1의 의미 : -1 이 있는 위치(행 or 열)의 차원은 원래 배열의 길이와 남은 차원으로 부터 추정\"\n",
        "print(x)\n",
        "scaled_data = MinMaxScaler().fit_transform(x)\n",
        "print(scaled_data.flatten())"
      ],
      "metadata": {
        "colab": {
          "base_uri": "https://localhost:8080/"
        },
        "id": "LjmG6Ay3HfMg",
        "outputId": "9f5cc318-bf4b-4307-937b-4ca6326a0eff"
      },
      "execution_count": null,
      "outputs": [
        {
          "output_type": "stream",
          "name": "stdout",
          "text": [
            "[[1]\n",
            " [3]\n",
            " [5]\n",
            " [7]\n",
            " [8]]\n",
            "[0.         0.28571429 0.57142857 0.85714286 1.        ]\n"
          ]
        }
      ]
    },
    {
      "cell_type": "code",
      "source": [
        "#최소-최대 정규화(2)\n",
        "import numpy as np\n",
        "\n",
        "data = np.array([1,3,5,7,9])\n",
        "\n",
        "def normalize(arr):\n",
        "  return((arr-np.min(arr))/ (np.max(arr) -np.min(arr)))\n",
        "\n",
        "print(normalize(data))"
      ],
      "metadata": {
        "colab": {
          "base_uri": "https://localhost:8080/"
        },
        "id": "6OnmpJyZLucC",
        "outputId": "49222d51-40bb-4e8f-aca4-6807d186340c"
      },
      "execution_count": null,
      "outputs": [
        {
          "output_type": "stream",
          "name": "stdout",
          "text": [
            "[0.   0.25 0.5  0.75 1.  ]\n"
          ]
        }
      ]
    },
    {
      "cell_type": "markdown",
      "source": [
        "####표준화\n",
        "\n",
        "\n",
        "1.   표준화(Standardization)의 개념\n",
        "표준화는 어떤 특성의 값들이 정규분포를 따른다고 가정하고 값들을 0의 평균, 1의 표준 편차를 갖도록 변환해 주는 기법이다.\n",
        "2.   표준화의 종류 -Z- 점수 (z-score)\n",
        " * Z-점수는 이상값(Outlier)문제를 피하는 기법이다.\n",
        " * 데이터들의 평균과 표준편차를 구하고, 평균 대비 몇 표준편차만큼 데이터가 떨어져 있는지를 점수화한다.\n",
        " * X의 값이 평균과 일치하면 0, 평균보다 작으면 음수, 평균보다 크면 양수가 되며,\n",
        " 표준편차가 크면 Z-스코어는 0에 가까워진다.\n",
        "\n",
        "Z-점수\n",
        "$$Z=\\frac{X-\\bar X}{s}$$\n",
        "\n",
        "* $X$ : 데이터\n",
        "* $\\bar X$ : 표본 평균\n",
        "* $s$ : 표본표준편차\n",
        "\n"
      ],
      "metadata": {
        "id": "Tdu9cHnpNhPP"
      }
    },
    {
      "cell_type": "code",
      "source": [
        "#z-점수 표준화\n",
        "import numpy as np\n",
        "\n",
        "data = np.array([1,3,5,7,9])\n",
        "def standardize(a):\n",
        "  return (a-np.mean(a))/np.std(a, ddof=1) #ddof는 자유도\n",
        "\n",
        "data_zscore = standardize(data)\n",
        "\n",
        "print(np.mean(data_zscore))\n",
        "print(np.std(data_zscore, ddof=1))\n",
        "print(data_zscore)"
      ],
      "metadata": {
        "colab": {
          "base_uri": "https://localhost:8080/"
        },
        "id": "uMS1aA7lPCXq",
        "outputId": "4b79005d-0006-4f36-e999-995b4539adcf"
      },
      "execution_count": null,
      "outputs": [
        {
          "output_type": "stream",
          "name": "stdout",
          "text": [
            "4.4408920985006264e-17\n",
            "1.0\n",
            "[-1.26491106 -0.63245553  0.          0.63245553  1.26491106]\n"
          ]
        }
      ]
    },
    {
      "cell_type": "code",
      "source": [
        "from sklearn.preprocessing import StandardScaler\n",
        "import numpy as np\n",
        "\n",
        "data= np.array([1,3,5,7,9])\n",
        "x=data.reshape(-1,1)\n",
        "scaler=StandardScaler()\n",
        "scaled_data=scaler.fit_transform(x)\n",
        "print(scaled_data.flatten())"
      ],
      "metadata": {
        "colab": {
          "base_uri": "https://localhost:8080/"
        },
        "id": "wPk5RBHoaLjb",
        "outputId": "d2c28d88-0686-4d5a-c468-ed8c1be6f644"
      },
      "execution_count": null,
      "outputs": [
        {
          "output_type": "stream",
          "name": "stdout",
          "text": [
            "-1.414213562373095\n"
          ]
        }
      ]
    },
    {
      "cell_type": "markdown",
      "source": [
        "#표본 추출 및 데이터 전처리"
      ],
      "metadata": {
        "id": "r0tFVYQHPEmz"
      }
    },
    {
      "cell_type": "markdown",
      "source": [
        "##표본 추출\n",
        "\n",
        "\n",
        "1.   표본 추출(sampling)개념  \n",
        " * 표본 추출은모집단에서 표본을 추출하는 방식이다.\n",
        "\n",
        "2.   표본 추출 함수 - random.choice 함수\n",
        " *   random.choice는 단순 무작위 추출을 수행하는 함수이다.\n",
        " *   random.choice함수는 단순 무작위 추출에 사용되며 파라미터를 이용하여 다양하게 추출 할 수 있다.\n",
        "\n"
      ],
      "metadata": {
        "id": "zofoqHf1PQX1"
      }
    },
    {
      "cell_type": "code",
      "source": [
        "#sample 함수\n",
        "\n",
        "import numpy as np\n",
        "\n",
        "numbers = np.arange(1,11)\n",
        "s = np.random.choice(numbers, size=5, replace=False)\n",
        "print(s)\n",
        "\n",
        "s= np.random.choice(numbers, size=5, replace=True)\n",
        "print(s)"
      ],
      "metadata": {
        "colab": {
          "base_uri": "https://localhost:8080/"
        },
        "id": "RFVtrAhtQLWC",
        "outputId": "65fddf02-32b2-4db8-d75b-259f5aadca8d"
      },
      "execution_count": null,
      "outputs": [
        {
          "output_type": "stream",
          "name": "stdout",
          "text": [
            "[10  8  6  4  3]\n",
            "[7 4 4 3 4]\n"
          ]
        }
      ]
    },
    {
      "cell_type": "markdown",
      "source": [
        "##데이터 전처리\n"
      ],
      "metadata": {
        "id": "3He0DbBfQ9tI"
      }
    },
    {
      "cell_type": "markdown",
      "source": [
        "### 중심 경향성 통계량\n",
        "데이터의 중심 경향성을 나타내는 평균(Mean),중위수(Median),최빈수(Mode)등을 구할 수 있다."
      ],
      "metadata": {
        "id": "oKFLSAZjRFAk"
      }
    },
    {
      "cell_type": "markdown",
      "source": [
        "####평균\n",
        "\n",
        "*   평균은 자료를 모두 더한 후 자료 개수로 나눈 값이다.\n",
        "*   mean 함수는 데이터의 평균을 출력하는 함수이다.  \n",
        "```\n",
        "np.mean(arr)\n",
        "```\n",
        "파라미터   \n",
        "  * arr: 계산할 데이터의 배열\n",
        "---\n",
        "* nanmean함수는 결측값을 제거한 데이터의 평균을 출력하는 함수이다.\n",
        "```\n",
        "np.nanmean(arr)\n",
        "```\n",
        "파라미터\n",
        " * arr: 계산할 데이터의 배열\n",
        "*trim_mean함수는 양쪽 끝의 일정 부분을 제외한 값들에 대한 평균을 출력하는 함수이다.\n",
        "```\n",
        "trim_mean(arr,proportiontocut)\n",
        "```\n",
        "파라미터  \n",
        "  * arr: 계산할 데이터의 배열\n",
        "  * proportiontocut: 제외할 데이터의 백분율 범위를 나타내는 값"
      ],
      "metadata": {
        "id": "I1S8qY7PR0Oc"
      }
    },
    {
      "cell_type": "code",
      "source": [
        "#평균 함수\n",
        "import numpy as np\n",
        "from scipy.stats import trim_mean\n",
        "\n",
        "x=np.concatenate([np.arange(0, 51), [50]])\n",
        "print(np.mean(x))\n"
      ],
      "metadata": {
        "colab": {
          "base_uri": "https://localhost:8080/"
        },
        "id": "RsVhr7RqU7AA",
        "outputId": "c4b06617-e580-4439-ccdc-2137e17672b8"
      },
      "execution_count": null,
      "outputs": [
        {
          "output_type": "stream",
          "name": "stdout",
          "text": [
            "25.48076923076923\n"
          ]
        }
      ]
    },
    {
      "cell_type": "code",
      "source": [
        "print(trim_mean(x,0.10))"
      ],
      "metadata": {
        "colab": {
          "base_uri": "https://localhost:8080/"
        },
        "id": "IEOzkPlCVfKF",
        "outputId": "cb150bb1-6c2f-4279-9b06-d728a2799444"
      },
      "execution_count": null,
      "outputs": [
        {
          "output_type": "stream",
          "name": "stdout",
          "text": [
            "25.5\n"
          ]
        }
      ]
    },
    {
      "cell_type": "code",
      "source": [
        "y = np.array([12,7,4,-5, np.nan])\n",
        "print(np.mean(y))"
      ],
      "metadata": {
        "colab": {
          "base_uri": "https://localhost:8080/"
        },
        "id": "0_6f8hOgWQuG",
        "outputId": "6ad22efa-38ce-44a3-d316-2cbd8c7bf571"
      },
      "execution_count": null,
      "outputs": [
        {
          "output_type": "stream",
          "name": "stdout",
          "text": [
            "nan\n"
          ]
        }
      ]
    },
    {
      "cell_type": "code",
      "source": [
        "print(np.nanmean(y))"
      ],
      "metadata": {
        "colab": {
          "base_uri": "https://localhost:8080/"
        },
        "id": "UJoMFF6TWdJg",
        "outputId": "e2043016-b50f-4ccb-e498-0a8bf94b25a0"
      },
      "execution_count": null,
      "outputs": [
        {
          "output_type": "stream",
          "name": "stdout",
          "text": [
            "4.5\n"
          ]
        }
      ]
    },
    {
      "cell_type": "markdown",
      "source": [
        "#### 중위수\n",
        " * 중위수는 모든 데이터값을 순서대로 배열하였을 때 중앙에 위치한 데이터값이다.\n",
        " * meadian은 데이터의 중위수를 출력하는 함수이다.\n",
        " ```\n",
        " np.median(arr)\n",
        " ```\n",
        " 파라미터   \n",
        "  * arr : 계산할 데이터의 배열\n",
        "\n",
        " * nanmedian 함수는 결측값을 제거한 데이터의 중위수를 출력하는 함수이다.\n",
        " ```\n",
        " np.median(arr)\n",
        " ```\n",
        " 파라미터  \n",
        "  * arr : 계산할 데이터의 배열"
      ],
      "metadata": {
        "id": "FfjvPU4lWnrg"
      }
    },
    {
      "cell_type": "code",
      "source": [
        "#중위수 함수\n",
        "import numpy as np\n",
        "\n",
        "x=np.array([12,7,4,-5,np.nan])\n",
        "print(np.median(x))\n",
        "print(np.nanmedian(x))"
      ],
      "metadata": {
        "colab": {
          "base_uri": "https://localhost:8080/"
        },
        "id": "Fbq8H-wGXZsc",
        "outputId": "abd8d9f6-b6de-4060-a472-40da08f07993"
      },
      "execution_count": null,
      "outputs": [
        {
          "output_type": "stream",
          "name": "stdout",
          "text": [
            "nan\n",
            "5.5\n"
          ]
        }
      ]
    },
    {
      "cell_type": "markdown",
      "source": [
        "#### 최빈수\n",
        " * 최빈수는 데이터값 중에서 빈도수가 가장 높은 데이터 값이다.\n",
        " * bincount 함수를 통해 각 요소의 빈도를 계산하여 반환하고, argmax함수를 사용하여 최댓값의 인덱스인 최빈수를 출력한다.\n",
        " ```\n",
        " np.bincount(arr).argmax()\n",
        " ```\n",
        " 파라미터\n",
        "  * arr : 계산할 데이터의 배열"
      ],
      "metadata": {
        "id": "Nl7rGlXbXvNN"
      }
    },
    {
      "cell_type": "code",
      "source": [
        "#최빈수 함수\n",
        "import numpy as np\n",
        "\n",
        "x = np.array([2,1,1,3,1])\n",
        "print(np.bincount(x).argmax())"
      ],
      "metadata": {
        "colab": {
          "base_uri": "https://localhost:8080/"
        },
        "id": "jys0I7IRYJze",
        "outputId": "3b9679e0-e937-4bd2-a7a5-b30acd38078f"
      },
      "execution_count": null,
      "outputs": [
        {
          "output_type": "stream",
          "name": "stdout",
          "text": [
            "1\n"
          ]
        }
      ]
    },
    {
      "cell_type": "markdown",
      "source": [
        "###산포도 통계량(분포 계산)\n",
        "데이터의 흩어진 정도인 산포도를 표현하는 분산, 표준 편차, 사분위수 등을 구할 수 있다."
      ],
      "metadata": {
        "id": "aswCM5gsaKwy"
      }
    },
    {
      "cell_type": "markdown",
      "source": [
        "#### 분산\n",
        " * 분산은 평균으로 부터 얼마나 떨어져 있는지를 나타내는 값이다.\n",
        " * var함수는 분산을 계산하는 함수이다.\n",
        "```\n",
        "np.var(a, ddof)\n",
        "```\n",
        "파라미터\n",
        " * a : 계산할 데이터의 배열\n",
        " * ddof : 자유도 보정(기본값 0)  \n",
        "  * 0 : 모집단의 분산을 계산\n",
        "  * 1 : 표본집단의 분산을 계산"
      ],
      "metadata": {
        "id": "Y7rMoLiQaTDb"
      }
    },
    {
      "cell_type": "code",
      "source": [
        "# var 함수\n",
        "import numpy as np\n",
        "\n",
        "x= np.array([3,4,5,2,4,3,4])\n",
        "print(np.var(x,ddof=1))"
      ],
      "metadata": {
        "colab": {
          "base_uri": "https://localhost:8080/"
        },
        "id": "oXXrHn6tn30u",
        "outputId": "fc2fac18-313a-47d0-de0a-0feba0620b3d"
      },
      "execution_count": null,
      "outputs": [
        {
          "output_type": "stream",
          "name": "stdout",
          "text": [
            "0.9523809523809526\n"
          ]
        }
      ]
    },
    {
      "cell_type": "markdown",
      "source": [],
      "metadata": {
        "id": "ImGW3ULZpvjl"
      }
    },
    {
      "cell_type": "markdown",
      "source": [
        "#### 표준편차\n",
        "* 표준편차는 분산에서 양의 제곱근을 취한 값이다.\n",
        "* std는 표준편차를 계산하는 함수이다.\n",
        "```\n",
        "np.std(a, ddof)\n",
        "```\n",
        "파라미터  \n",
        " * a: 계산할 데이터의 배열\n",
        " * ddof: 자유도 보정(기본값은 0)  \n",
        "   * 0 : 모집단의 표준편차를 계산\n",
        "   * 1 : 표본집단의 표준편차를 계산\n",
        "   \n"
      ],
      "metadata": {
        "id": "cHlX7pH5pvnC"
      }
    },
    {
      "cell_type": "code",
      "source": [
        "#std(표준편차)\n",
        "\n",
        "import numpy as np\n",
        "\n",
        "x=np.array([3,4,5,2,4,3,4])\n",
        "print(np.std(x,ddof=1))"
      ],
      "metadata": {
        "colab": {
          "base_uri": "https://localhost:8080/"
        },
        "id": "I2TnxdHmw_t4",
        "outputId": "58cc0df4-6892-4f20-a1a2-8e1a97df7c7f"
      },
      "execution_count": null,
      "outputs": [
        {
          "output_type": "stream",
          "name": "stdout",
          "text": [
            "0.9759000729485333\n"
          ]
        }
      ]
    },
    {
      "cell_type": "markdown",
      "source": [
        "####범위\n",
        " * 범위는 최댓값에서 최솟값을 뺀 값이다.\n",
        " * ptp(Peak to Peak) 함수는 범위를 계산하는 함수이다.\n",
        " ```\n",
        " np.ptp(a)\n",
        " ```\n",
        " 파라미터  \n",
        "  * a : 계산할 데이터의 배열\n",
        "\n",
        " ```\n",
        " np.min(x)\n",
        " ```\n",
        " 파라미터\n",
        "  * x: 계산할 데이터의 배열\n",
        "\n",
        " ```\n",
        " np.max(x)\n",
        " ```\n",
        " 파라미터\n",
        "  * x: 계산할 데이터의 배열"
      ],
      "metadata": {
        "id": "yP7sPn5Bxnm3"
      }
    },
    {
      "cell_type": "code",
      "source": [
        "import numpy as np\n",
        "\n",
        "x = np.array([1,7,3,5,11,4,6])\n",
        "print(np.ptp(x))"
      ],
      "metadata": {
        "colab": {
          "base_uri": "https://localhost:8080/"
        },
        "id": "DUwIyLrQyeKv",
        "outputId": "b5d86e95-28f4-489f-d31e-0f8a787a6361"
      },
      "execution_count": null,
      "outputs": [
        {
          "output_type": "stream",
          "name": "stdout",
          "text": [
            "10\n"
          ]
        }
      ]
    },
    {
      "cell_type": "code",
      "source": [
        "print(np.min(x))"
      ],
      "metadata": {
        "colab": {
          "base_uri": "https://localhost:8080/"
        },
        "id": "2DZc584ayvfF",
        "outputId": "8ffd9d2e-55fb-4b62-a2c3-61dca89ac9e0"
      },
      "execution_count": null,
      "outputs": [
        {
          "output_type": "stream",
          "name": "stdout",
          "text": [
            "1\n"
          ]
        }
      ]
    },
    {
      "cell_type": "code",
      "source": [
        "print(np.max(x))"
      ],
      "metadata": {
        "colab": {
          "base_uri": "https://localhost:8080/"
        },
        "id": "klQu78CNyzmc",
        "outputId": "68cc5072-9b2c-499f-fc40-02d10bf39ea2"
      },
      "execution_count": null,
      "outputs": [
        {
          "output_type": "stream",
          "name": "stdout",
          "text": [
            "11\n"
          ]
        }
      ]
    },
    {
      "cell_type": "markdown",
      "source": [
        "#### percentile, IQR\n",
        "* percentile 함수는 데이터의 백분위를 계산하는 함수이다.\n",
        "```\n",
        "np.percentile(a,q)\n",
        "```\n",
        " 파라미터    \n",
        " * a : 계산할 데이터의 배열\n",
        " * q  \n",
        "   * 계산할 백분위수 값\n",
        "   * 0~100의 값을 가짐\n",
        "*iqr함수는 사분위수 범위를 계산하는 함수이다.\n",
        "```\n",
        "iqr(x)\n",
        "```\n",
        " 파라미터  \n",
        "  * x : IQR을 계산할 데이터"
      ],
      "metadata": {
        "id": "YudAJ8RjzbfQ"
      }
    },
    {
      "cell_type": "code",
      "source": [
        "import numpy as np\n",
        "from scipy.stats import iqr\n",
        "\n",
        "x = np.array([3,4,5,2,4,3,4])\n",
        "q1 = np.percentile(x,25)\n",
        "q3 = np.percentile(x,75)\n",
        "print(q3-q1)\n",
        "print(iqr(x))"
      ],
      "metadata": {
        "colab": {
          "base_uri": "https://localhost:8080/"
        },
        "id": "bLaIZtGi0T7l",
        "outputId": "2073a64c-3900-4ec2-e663-3313f8cf540b"
      },
      "execution_count": null,
      "outputs": [
        {
          "output_type": "stream",
          "name": "stdout",
          "text": [
            "1.0\n",
            "1.0\n"
          ]
        }
      ]
    },
    {
      "cell_type": "markdown",
      "source": [
        "###순위 계산\n",
        " * 대상 데이터를 추출하거나 복잡한 시간 데이터를 결합할 때 시간 순서로 순위를 매겨서 결합의 조건으로 이용할 수 있다.\n",
        " * 순위를 계산할 때는 데이터의 행을 집약한 후에 집약한 결과를 다시 계산하여 각 행에 첨부한다.\n",
        " * 순위는 pandas패키지의 Series(x).rank 함수를 이용하며, method파라미터로 순위를 계산하는 방법을 지정한다.\n",
        " ```\n",
        " pd.Series(x).rank(method)\n",
        " ```\n",
        " 파라미터  \n",
        "  * x : 순위를 지정할 데이터\n",
        "  * method : 순위를 계산하는 방법을 지정하는 파라미터(기본값 'average')\n",
        "    * 'average' : 동일한 값을 가진 항목들에 대해서 평균 순위를 부여\n",
        "    * 'first' : 데이터가 나타나는 순서대로 순위를 부여\n",
        "    * 'min' : 동일한 값을 가진 항목들에 대해서 가장 작은 순위를 부여\n",
        "    * 'dense' : 순위를 부여할 때 연속적인 정수를 사용하여 순위를 부여"
      ],
      "metadata": {
        "id": "48L1-1ll6thw"
      }
    },
    {
      "cell_type": "code",
      "source": [
        "import pandas as pd\n",
        "\n",
        "x= np.array([1,1,5,5,9,7])\n",
        "print(pd.Series(x).rank(method='first'))"
      ],
      "metadata": {
        "colab": {
          "base_uri": "https://localhost:8080/"
        },
        "id": "YDBNxoT0EsiV",
        "outputId": "e6e3254b-bf08-45ab-8b08-1f20e97b4cff"
      },
      "execution_count": null,
      "outputs": [
        {
          "output_type": "stream",
          "name": "stdout",
          "text": [
            "0    1.0\n",
            "1    2.0\n",
            "2    3.0\n",
            "3    4.0\n",
            "4    6.0\n",
            "5    5.0\n",
            "dtype: float64\n"
          ]
        }
      ]
    },
    {
      "cell_type": "code",
      "source": [
        "print(pd.Series(x).rank(method='min'))"
      ],
      "metadata": {
        "colab": {
          "base_uri": "https://localhost:8080/"
        },
        "id": "tENce641JQKR",
        "outputId": "a516039f-bca6-4d60-dedf-85f6633b2416"
      },
      "execution_count": null,
      "outputs": [
        {
          "output_type": "stream",
          "name": "stdout",
          "text": [
            "0    1.0\n",
            "1    1.0\n",
            "2    3.0\n",
            "3    3.0\n",
            "4    6.0\n",
            "5    5.0\n",
            "dtype: float64\n"
          ]
        }
      ]
    },
    {
      "cell_type": "code",
      "source": [
        "print(pd.Series(x).rank(method='dense'))"
      ],
      "metadata": {
        "colab": {
          "base_uri": "https://localhost:8080/"
        },
        "id": "voao8nh8JaXC",
        "outputId": "2b05e0dd-5866-4ec0-c8a9-6e0d6263039b"
      },
      "execution_count": null,
      "outputs": [
        {
          "output_type": "stream",
          "name": "stdout",
          "text": [
            "0    1.0\n",
            "1    1.0\n",
            "2    2.0\n",
            "3    2.0\n",
            "4    4.0\n",
            "5    3.0\n",
            "dtype: float64\n"
          ]
        }
      ]
    },
    {
      "cell_type": "code",
      "source": [
        "print(pd.Series(x).rank())"
      ],
      "metadata": {
        "colab": {
          "base_uri": "https://localhost:8080/"
        },
        "id": "of-i4k1hJkW1",
        "outputId": "c5b1b8ca-9374-408c-d512-ba75c53ba09b"
      },
      "execution_count": null,
      "outputs": [
        {
          "output_type": "stream",
          "name": "stdout",
          "text": [
            "0    1.5\n",
            "1    1.5\n",
            "2    3.5\n",
            "3    3.5\n",
            "4    6.0\n",
            "5    5.0\n",
            "dtype: float64\n"
          ]
        }
      ]
    },
    {
      "cell_type": "markdown",
      "source": [
        "### 기타"
      ],
      "metadata": {
        "id": "9FHAafIMJ9eU"
      }
    },
    {
      "cell_type": "markdown",
      "source": [
        "#### 반올림\n",
        "round 함수는 반올림하는 함수이다.\n",
        "```\n",
        "round(number,ndigits)\n",
        "```\n",
        "파라미터  \n",
        " * number : 반올림할 숫자\n",
        " * ndigits : 반올림하여 표시할 소수 자릿수"
      ],
      "metadata": {
        "id": "ofUjVPwMKdwk"
      }
    },
    {
      "cell_type": "code",
      "source": [
        "print(round(3.1425,2))"
      ],
      "metadata": {
        "colab": {
          "base_uri": "https://localhost:8080/"
        },
        "id": "YID1o-JWLFw5",
        "outputId": "10e52991-4fd4-4d9a-a232-1a73302eb2ea"
      },
      "execution_count": null,
      "outputs": [
        {
          "output_type": "stream",
          "name": "stdout",
          "text": [
            "3.14\n"
          ]
        }
      ]
    },
    {
      "cell_type": "markdown",
      "source": [
        "#### 정수형 변환\n",
        "int 함수는 정숫값으로 변환하는 함수이다.\n",
        "\n",
        "```\n",
        "int(x)\n",
        "```\n",
        "파라미터  \n",
        " * x : 변환하고자 하는 값\n"
      ],
      "metadata": {
        "id": "WZc8eIrnK37Z"
      }
    },
    {
      "cell_type": "code",
      "source": [
        "print(int(3.1425))"
      ],
      "metadata": {
        "colab": {
          "base_uri": "https://localhost:8080/"
        },
        "id": "ErYP-eP7LJve",
        "outputId": "41927cb1-a6ed-42ba-aceb-2a3276be8c72"
      },
      "execution_count": null,
      "outputs": [
        {
          "output_type": "stream",
          "name": "stdout",
          "text": [
            "3\n"
          ]
        }
      ]
    }
  ]
}