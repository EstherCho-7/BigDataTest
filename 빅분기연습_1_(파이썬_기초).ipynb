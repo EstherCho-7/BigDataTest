{
  "nbformat": 4,
  "nbformat_minor": 0,
  "metadata": {
    "colab": {
      "provenance": [],
      "toc_visible": true,
      "include_colab_link": true
    },
    "kernelspec": {
      "name": "python3",
      "display_name": "Python 3"
    },
    "language_info": {
      "name": "python"
    }
  },
  "cells": [
    {
      "cell_type": "markdown",
      "metadata": {
        "id": "view-in-github",
        "colab_type": "text"
      },
      "source": [
        "<a href=\"https://colab.research.google.com/github/GITSangWoo/BigDataTest/blob/main/%EB%B9%85%EB%B6%84%EA%B8%B0%EC%97%B0%EC%8A%B5_1_(%ED%8C%8C%EC%9D%B4%EC%8D%AC_%EA%B8%B0%EC%B4%88).ipynb\" target=\"_parent\"><img src=\"https://colab.research.google.com/assets/colab-badge.svg\" alt=\"Open In Colab\"/></a>"
      ]
    },
    {
      "cell_type": "markdown",
      "source": [
        "#연산자"
      ],
      "metadata": {
        "id": "6WgRxTZW1Koa"
      }
    },
    {
      "cell_type": "markdown",
      "source": [
        "##산술연산자\n"
      ],
      "metadata": {
        "id": "SZ_honXa2WUq"
      }
    },
    {
      "cell_type": "code",
      "source": [
        "print(7+4) #더하기"
      ],
      "metadata": {
        "colab": {
          "base_uri": "https://localhost:8080/"
        },
        "id": "r_1M3fsD2ZOp",
        "outputId": "48f45758-13bf-42c8-d488-9a66429a27ea"
      },
      "execution_count": null,
      "outputs": [
        {
          "output_type": "stream",
          "name": "stdout",
          "text": [
            "11\n"
          ]
        }
      ]
    },
    {
      "cell_type": "code",
      "source": [
        "print(7/4) #나누기"
      ],
      "metadata": {
        "colab": {
          "base_uri": "https://localhost:8080/"
        },
        "id": "upwCx93x241o",
        "outputId": "b0a5f0ce-c55d-40d2-fe6e-6b1c01bdd436"
      },
      "execution_count": null,
      "outputs": [
        {
          "output_type": "stream",
          "name": "stdout",
          "text": [
            "1.75\n"
          ]
        }
      ]
    },
    {
      "cell_type": "code",
      "source": [
        "print(7%4) #나머지"
      ],
      "metadata": {
        "colab": {
          "base_uri": "https://localhost:8080/"
        },
        "id": "XB8EIa6t283O",
        "outputId": "7bea38c9-5d1a-449c-be90-3431cc6edb8c"
      },
      "execution_count": null,
      "outputs": [
        {
          "output_type": "stream",
          "name": "stdout",
          "text": [
            "3\n"
          ]
        }
      ]
    },
    {
      "cell_type": "code",
      "source": [
        "print(7//4) #몫"
      ],
      "metadata": {
        "colab": {
          "base_uri": "https://localhost:8080/"
        },
        "id": "uz1Jnb0j2_Nx",
        "outputId": "eafee1b9-1a6c-490a-ee55-42782fa67d38"
      },
      "execution_count": null,
      "outputs": [
        {
          "output_type": "stream",
          "name": "stdout",
          "text": [
            "1\n"
          ]
        }
      ]
    },
    {
      "cell_type": "code",
      "source": [
        "print(7**4) #제곱"
      ],
      "metadata": {
        "colab": {
          "base_uri": "https://localhost:8080/"
        },
        "id": "2n8npj403CFH",
        "outputId": "b1afcd4d-b9e5-47af-b568-2a87ed2a5a64"
      },
      "execution_count": null,
      "outputs": [
        {
          "output_type": "stream",
          "name": "stdout",
          "text": [
            "2401\n"
          ]
        }
      ]
    },
    {
      "cell_type": "markdown",
      "source": [
        "##비교연산자"
      ],
      "metadata": {
        "id": "-d0R1uIf3mRE"
      }
    },
    {
      "cell_type": "code",
      "source": [
        "print(7>4)  #왼쪽에 있는 값이 오른쪽에 있는 값보다 크면 참을 반환하고, 그렇지 않으면 거짓을 반환하는 연산자"
      ],
      "metadata": {
        "id": "n_cWVnoX35T7",
        "colab": {
          "base_uri": "https://localhost:8080/"
        },
        "outputId": "5d0129b5-ddc5-42dd-92fd-d91259245956"
      },
      "execution_count": null,
      "outputs": [
        {
          "output_type": "stream",
          "name": "stdout",
          "text": [
            "True\n"
          ]
        }
      ]
    },
    {
      "cell_type": "code",
      "source": [
        "print(7<4) #왼쪽에 있는 값이 오른쪽에 있는 값보다 작으면 참을 반환하고, 그렇지 않으면 거짓을 반환하는 연산자"
      ],
      "metadata": {
        "colab": {
          "base_uri": "https://localhost:8080/"
        },
        "id": "n7yDpDGogt63",
        "outputId": "1fc95b15-0a90-45d7-94df-cb37aa9ba2b4"
      },
      "execution_count": null,
      "outputs": [
        {
          "output_type": "stream",
          "name": "stdout",
          "text": [
            "False\n"
          ]
        }
      ]
    },
    {
      "cell_type": "code",
      "source": [
        "print(7==4) #왼쪽에 있는 값이 오른쪽에 있는 값과 같으면 참을 반환하고, 그렇지 않으면 거짓을 반환하는 연산자"
      ],
      "metadata": {
        "colab": {
          "base_uri": "https://localhost:8080/"
        },
        "id": "svlEHGcGgwJ6",
        "outputId": "9d82501b-e75c-4f98-f5a2-522640c46290"
      },
      "execution_count": null,
      "outputs": [
        {
          "output_type": "stream",
          "name": "stdout",
          "text": [
            "False\n"
          ]
        }
      ]
    },
    {
      "cell_type": "code",
      "source": [
        "print(7!=4) #왼쪽에 있는 값이 오른쪽에 있는 값과 다르면 참을 반환하고, 그렇지 않으면 거짓을 반환하는 연산자"
      ],
      "metadata": {
        "colab": {
          "base_uri": "https://localhost:8080/"
        },
        "id": "-wgnQzOVgx9c",
        "outputId": "06f60ec9-b9ae-4e52-cb6f-bee85fe65a09"
      },
      "execution_count": null,
      "outputs": [
        {
          "output_type": "stream",
          "name": "stdout",
          "text": [
            "True\n"
          ]
        }
      ]
    },
    {
      "cell_type": "markdown",
      "source": [
        "##논리 연산자"
      ],
      "metadata": {
        "id": "ZvTK9oKahSkx"
      }
    },
    {
      "cell_type": "code",
      "source": [
        "True and False #두 개의 논릿값이 모두 참이면 참을 반환하고, 그렇지 않으면 거짓을 반환하는 연산자"
      ],
      "metadata": {
        "colab": {
          "base_uri": "https://localhost:8080/"
        },
        "id": "vhVmbKzLhUI2",
        "outputId": "8fd74aad-43aa-4637-dc4c-9862cb43c205"
      },
      "execution_count": null,
      "outputs": [
        {
          "output_type": "execute_result",
          "data": {
            "text/plain": [
              "False"
            ]
          },
          "metadata": {},
          "execution_count": 6
        }
      ]
    },
    {
      "cell_type": "code",
      "source": [
        "True or False  #두 개의 논릿값 중 하나라도 참이면 참을 반환하고, 그렇지 않으면 거짓을 반환하는 연산자"
      ],
      "metadata": {
        "colab": {
          "base_uri": "https://localhost:8080/"
        },
        "id": "5DL2fu8jhgTN",
        "outputId": "99e93feb-ec76-45ca-9aee-2b3c4de01767"
      },
      "execution_count": null,
      "outputs": [
        {
          "output_type": "execute_result",
          "data": {
            "text/plain": [
              "True"
            ]
          },
          "metadata": {},
          "execution_count": 7
        }
      ]
    },
    {
      "cell_type": "code",
      "source": [
        "not True       #반대 논릿값을 반환하는 연산자"
      ],
      "metadata": {
        "colab": {
          "base_uri": "https://localhost:8080/"
        },
        "id": "d4xocI91hdym",
        "outputId": "cbd24e35-843b-4d3d-f383-e7ff806568af"
      },
      "execution_count": null,
      "outputs": [
        {
          "output_type": "execute_result",
          "data": {
            "text/plain": [
              "False"
            ]
          },
          "metadata": {},
          "execution_count": 8
        }
      ]
    },
    {
      "cell_type": "markdown",
      "source": [
        "##대입 연산자\n",
        "---\n",
        "= : 왼쪽변수에 오른쪽의 값을 대입하는 연산자  \n",
        "(+,-,x,/,%,**,//)= : 왼쪽의 변수에 오른쪽의 값을  \n",
        "(더하기,빼기,곱하기,나누기,나머지,제곱,몫)구한 후, 그 결과값을 왼쪽의 변수에 대입하는 연산자   \n"
      ],
      "metadata": {
        "id": "jtmXE4Y4h57n"
      }
    },
    {
      "cell_type": "markdown",
      "source": [
        "#변수"
      ],
      "metadata": {
        "id": "pMQWqW7oKtVy"
      }
    },
    {
      "cell_type": "markdown",
      "source": [
        "## 변수 생성\n",
        "---\n",
        "변수를 선언하고 값을 할당할 대는 대입 연산자를 사용한다"
      ],
      "metadata": {
        "id": "Yd8jFRABK1Hi"
      }
    },
    {
      "cell_type": "code",
      "source": [
        "a = \"bigdata\""
      ],
      "metadata": {
        "id": "cknSsaOHK4rl"
      },
      "execution_count": null,
      "outputs": []
    },
    {
      "cell_type": "code",
      "source": [
        "b=5"
      ],
      "metadata": {
        "id": "P8xJO30hLK-N"
      },
      "execution_count": null,
      "outputs": []
    },
    {
      "cell_type": "code",
      "source": [
        "print(a)"
      ],
      "metadata": {
        "colab": {
          "base_uri": "https://localhost:8080/"
        },
        "id": "HxtbNZLULLtn",
        "outputId": "f66ab7f7-7d7b-4613-8f20-019729666faf"
      },
      "execution_count": null,
      "outputs": [
        {
          "output_type": "stream",
          "name": "stdout",
          "text": [
            "bigdata\n"
          ]
        }
      ]
    },
    {
      "cell_type": "code",
      "source": [
        "print(b)"
      ],
      "metadata": {
        "colab": {
          "base_uri": "https://localhost:8080/"
        },
        "id": "jJ0gWkJMLMhg",
        "outputId": "91d4ca6f-f08c-45a6-df9a-147e5ea4d4a5"
      },
      "execution_count": null,
      "outputs": [
        {
          "output_type": "stream",
          "name": "stdout",
          "text": [
            "5\n"
          ]
        }
      ]
    },
    {
      "cell_type": "markdown",
      "source": [
        "# 자료형\n",
        "---\n",
        "자료형은 프로그래밍 언어에서 실수형, 문자형과 같은 여러 종류의 데이터를 식별하는 형태"
      ],
      "metadata": {
        "id": "Zf5eMC6RLQbg"
      }
    },
    {
      "cell_type": "markdown",
      "source": [
        "## 기본 자료형\n",
        "---\n",
        "\n",
        "\n",
        "*   기본 자료형은 직접 자료를 표현하는 자료형이다.\n",
        "*   기본 자료형에는 숫자형, 논리형이 있다.\n",
        "\n"
      ],
      "metadata": {
        "id": "9NyNIKOsLVGi"
      }
    },
    {
      "cell_type": "code",
      "source": [
        "print(31+2.7)"
      ],
      "metadata": {
        "colab": {
          "base_uri": "https://localhost:8080/"
        },
        "id": "Vq0RfCE-LZeF",
        "outputId": "3a811bd2-a411-444e-fdcf-e6a74d6e0b9e"
      },
      "execution_count": null,
      "outputs": [
        {
          "output_type": "stream",
          "name": "stdout",
          "text": [
            "33.7\n"
          ]
        }
      ]
    },
    {
      "cell_type": "code",
      "source": [
        "print(True)"
      ],
      "metadata": {
        "colab": {
          "base_uri": "https://localhost:8080/"
        },
        "id": "zq0YH-pfLffu",
        "outputId": "793f2237-b02a-4552-e896-b35b9e694ef9"
      },
      "execution_count": null,
      "outputs": [
        {
          "output_type": "stream",
          "name": "stdout",
          "text": [
            "True\n"
          ]
        }
      ]
    },
    {
      "cell_type": "markdown",
      "source": [
        "## 컬렉션 자료형\n",
        "---\n",
        "*   컬렉션 자료형은 시퀀스 자료형과 비시퀀스 자료형이 있다.  \n",
        "    (시퀀스 자료형은 순서가 있는 자료형, 비시퀀스 자료형은 순서가 없는 자료형)\n",
        "*   시퀀스 자료형은 문자열형, 리스트형, 튜플형이 있다.   \n",
        "*   비시퀀스 자료형은 세트형 딕셔너리형이 있다.\n",
        "---\n",
        "시퀀스 자료형  \n",
        "* 문자열형(string): 문자를 한 개 또는 여러개 저장하고자 할 때 사용하는 자료형  \n",
        "예: s = \"soojebi\"\n",
        "* 리스트형(List): 크기가 가변적으로 변하는 선형리스트의 성질을 가지고 있는 자료형  \n",
        "예:  I =[1,2,3]  \n",
        "(읽기, 쓰기가 모두 가능)\n",
        "*튜플형(Tuple): 초기에 선언된 값에서 값을 생성. 삭제, 수정할 수 있는 형태의 자료형  \n",
        "예: t=(1,2,3)  \n",
        "(읽기 전용이며 속도가 빠름)\n",
        "---\n",
        "비시퀀스 자료형  \n",
        "*   세트형(set): 중복된 원소를 허용하지 않는 집합의 성질을 가지고 없는 자료형   \n",
        "예:  s={1,2,3}\n",
        "*   딕셔너리형(Dictionary) : 키와 값으로 구성된 객체를 저장하는 구조로 되어 있는 자료형   \n",
        "예: d={'s':1,'j':2,'b':3}\n",
        "\n"
      ],
      "metadata": {
        "id": "5j05TvDOMGeS"
      }
    },
    {
      "cell_type": "markdown",
      "source": [
        "###시퀀스 자료형"
      ],
      "metadata": {
        "id": "y77KKxLmhEAj"
      }
    },
    {
      "cell_type": "markdown",
      "source": [
        "#####문자열형(String)"
      ],
      "metadata": {
        "id": "-CzbaNtohL9R"
      }
    },
    {
      "cell_type": "code",
      "source": [
        "print(\"soojebi\")"
      ],
      "metadata": {
        "colab": {
          "base_uri": "https://localhost:8080/"
        },
        "id": "XeTgkMSzhQal",
        "outputId": "9cd51b6a-e616-4302-c52d-b0d10c391df3"
      },
      "execution_count": null,
      "outputs": [
        {
          "output_type": "stream",
          "name": "stdout",
          "text": [
            "soojebi\n"
          ]
        }
      ]
    },
    {
      "cell_type": "code",
      "source": [
        "print(\"Soojebi\",\"World\")"
      ],
      "metadata": {
        "colab": {
          "base_uri": "https://localhost:8080/"
        },
        "id": "u3WjtL9ohZfs",
        "outputId": "cf7ed0c8-6748-4773-c029-9a0c328406bf"
      },
      "execution_count": null,
      "outputs": [
        {
          "output_type": "stream",
          "name": "stdout",
          "text": [
            "Soojebi World\n"
          ]
        }
      ]
    },
    {
      "cell_type": "code",
      "source": [
        "print(\"Soojebi\"*3)"
      ],
      "metadata": {
        "colab": {
          "base_uri": "https://localhost:8080/"
        },
        "id": "MwlxYhH6heWQ",
        "outputId": "8d8139e0-ffac-4e5f-9606-8020c3558315"
      },
      "execution_count": null,
      "outputs": [
        {
          "output_type": "stream",
          "name": "stdout",
          "text": [
            "SoojebiSoojebiSoojebi\n"
          ]
        }
      ]
    },
    {
      "cell_type": "markdown",
      "source": [
        "####리스트형(List)\n",
        "---\n",
        "리스트형 메서드\n",
        "\n",
        "\n",
        "*   append(x) : 리스트 마지막 요소 뒤에 x값을 추가하는 메서드\n",
        "*   clear(): 리스트의 모든 항목을 삭제시키는 메서드\n",
        "*   copy():리스트를 복사하는 메서드\n",
        "*   count(x) 리스트에서 x항목의 갯수를 알려주는 메서드\n",
        "*   extend(i):리스트마지막에 컬렉션 자료형 i를 추가하는 메서드\n",
        "*   index(x): 값 x와 같은 값을  가지고 있는 인덱스 번호를 알려주는 메서드\n",
        "*   insert(i,x): 리스트 i 번지 위치에 값 x를 삽입하는 메서드\n",
        "*   pop(): 마지막 항목을 삭제하고 값을 꺼내오는 메서드\n",
        "*   remove(x): 리스트에서 해당하는 값x를 제거하는 메서드   \n",
        "    (해당하는 값이 여러개 있을 경우 가장 앞에 있는 값을 제거)\n",
        "*   reverse(): 리스트의 위치를 전부 역순으로 바꿔주는 메서드\n",
        "*   sort(): 리스트의 항목들을 정렬하는 메서드\n",
        "\n"
      ],
      "metadata": {
        "id": "ANf5pZ5qhmf9"
      }
    },
    {
      "cell_type": "code",
      "source": [
        "a=[20,10,30]"
      ],
      "metadata": {
        "id": "sFb9hiPFhum4"
      },
      "execution_count": null,
      "outputs": []
    },
    {
      "cell_type": "code",
      "source": [
        "print(a)"
      ],
      "metadata": {
        "colab": {
          "base_uri": "https://localhost:8080/"
        },
        "id": "y9KWx2JmjQeM",
        "outputId": "b8a931b8-6581-4323-ff31-334d98983ded"
      },
      "execution_count": null,
      "outputs": [
        {
          "output_type": "stream",
          "name": "stdout",
          "text": [
            "[20, 10, 30]\n"
          ]
        }
      ]
    },
    {
      "cell_type": "code",
      "source": [
        "a.extend(a)"
      ],
      "metadata": {
        "id": "uVCfukj6jRU3"
      },
      "execution_count": null,
      "outputs": []
    },
    {
      "cell_type": "code",
      "source": [
        "print(a)"
      ],
      "metadata": {
        "colab": {
          "base_uri": "https://localhost:8080/"
        },
        "id": "V3gJQDycjT7x",
        "outputId": "934fe2db-6e2a-4944-c6d3-df0d7fdc9341"
      },
      "execution_count": null,
      "outputs": [
        {
          "output_type": "stream",
          "name": "stdout",
          "text": [
            "[20, 10, 30, 20, 10, 30]\n"
          ]
        }
      ]
    },
    {
      "cell_type": "code",
      "source": [
        "a.pop()"
      ],
      "metadata": {
        "colab": {
          "base_uri": "https://localhost:8080/"
        },
        "id": "XXMHBww1jVtp",
        "outputId": "c1a33a90-9f55-4171-c69f-41ec05d8fd5e"
      },
      "execution_count": null,
      "outputs": [
        {
          "output_type": "execute_result",
          "data": {
            "text/plain": [
              "30"
            ]
          },
          "metadata": {},
          "execution_count": 8
        }
      ]
    },
    {
      "cell_type": "code",
      "source": [
        "print(a)"
      ],
      "metadata": {
        "colab": {
          "base_uri": "https://localhost:8080/"
        },
        "id": "n3E5ec2CjZt3",
        "outputId": "d0092755-8898-434a-8cad-c1a2d2d95546"
      },
      "execution_count": null,
      "outputs": [
        {
          "output_type": "stream",
          "name": "stdout",
          "text": [
            "[20, 10, 30, 20, 10]\n"
          ]
        }
      ]
    },
    {
      "cell_type": "code",
      "source": [
        "a.reverse()"
      ],
      "metadata": {
        "id": "VhxvWUN6jcVo"
      },
      "execution_count": null,
      "outputs": []
    },
    {
      "cell_type": "code",
      "source": [
        "print(a)"
      ],
      "metadata": {
        "colab": {
          "base_uri": "https://localhost:8080/"
        },
        "id": "6mEWGKUKjd1i",
        "outputId": "b6f48d21-ded0-4747-edc2-c7ed9fecb807"
      },
      "execution_count": null,
      "outputs": [
        {
          "output_type": "stream",
          "name": "stdout",
          "text": [
            "[10, 20, 30, 10, 20]\n"
          ]
        }
      ]
    },
    {
      "cell_type": "code",
      "source": [
        "l=[3,5,7]"
      ],
      "metadata": {
        "id": "3L0kpLR3jinc"
      },
      "execution_count": null,
      "outputs": []
    },
    {
      "cell_type": "code",
      "source": [
        "l.append(3)"
      ],
      "metadata": {
        "id": "CVYp4pt4jk-w"
      },
      "execution_count": null,
      "outputs": []
    },
    {
      "cell_type": "code",
      "source": [
        "print(l)"
      ],
      "metadata": {
        "colab": {
          "base_uri": "https://localhost:8080/"
        },
        "id": "d9gZ4osDjmfM",
        "outputId": "e81d615c-40b7-4c4b-cd26-25964eac858e"
      },
      "execution_count": null,
      "outputs": [
        {
          "output_type": "stream",
          "name": "stdout",
          "text": [
            "[3, 5, 7, 3]\n"
          ]
        }
      ]
    },
    {
      "cell_type": "code",
      "source": [
        "l.insert(2,4)"
      ],
      "metadata": {
        "id": "oMabGAy6jnXt"
      },
      "execution_count": null,
      "outputs": []
    },
    {
      "cell_type": "code",
      "source": [
        "print(l)"
      ],
      "metadata": {
        "colab": {
          "base_uri": "https://localhost:8080/"
        },
        "id": "yaMs4JLljpuD",
        "outputId": "cd71e8c7-3e09-4102-9890-1f0b5399a609"
      },
      "execution_count": null,
      "outputs": [
        {
          "output_type": "stream",
          "name": "stdout",
          "text": [
            "[3, 5, 4, 7, 3]\n"
          ]
        }
      ]
    },
    {
      "cell_type": "code",
      "source": [
        "l.remove(3)"
      ],
      "metadata": {
        "id": "kDUDU1RkjrL0"
      },
      "execution_count": null,
      "outputs": []
    },
    {
      "cell_type": "code",
      "source": [
        "print(l)"
      ],
      "metadata": {
        "colab": {
          "base_uri": "https://localhost:8080/"
        },
        "id": "Jvb6jGYYjvX5",
        "outputId": "a403ff84-8981-483f-d63d-382b3f59263c"
      },
      "execution_count": null,
      "outputs": [
        {
          "output_type": "stream",
          "name": "stdout",
          "text": [
            "[5, 4, 7, 3]\n"
          ]
        }
      ]
    },
    {
      "cell_type": "markdown",
      "source": [
        "####튜플형(Tuple)"
      ],
      "metadata": {
        "id": "Zto1FPvvj_tZ"
      }
    },
    {
      "cell_type": "code",
      "source": [
        "t=('s','j','b')"
      ],
      "metadata": {
        "id": "NufaYTQQkwd-"
      },
      "execution_count": null,
      "outputs": []
    },
    {
      "cell_type": "code",
      "source": [
        "print(t)"
      ],
      "metadata": {
        "colab": {
          "base_uri": "https://localhost:8080/"
        },
        "id": "mbHMjGjxk6EA",
        "outputId": "5ac61d0c-a3c0-4196-bcbc-8ee4611f645d"
      },
      "execution_count": null,
      "outputs": [
        {
          "output_type": "stream",
          "name": "stdout",
          "text": [
            "('s', 'j', 'b')\n"
          ]
        }
      ]
    },
    {
      "cell_type": "markdown",
      "source": [
        "###시퀀스 자료형 요소 접근 방법"
      ],
      "metadata": {
        "id": "mFI5Jx1jnz3a"
      }
    },
    {
      "cell_type": "markdown",
      "source": [
        "#### 인덱싱"
      ],
      "metadata": {
        "id": "W-tA8F65n6So"
      }
    },
    {
      "cell_type": "code",
      "source": [
        "print(\"soojebi\"[3])"
      ],
      "metadata": {
        "colab": {
          "base_uri": "https://localhost:8080/"
        },
        "id": "N8wHc2UyofNS",
        "outputId": "a9ebe1c3-b4cf-48fe-cbc1-367ce4ab726f"
      },
      "execution_count": null,
      "outputs": [
        {
          "output_type": "stream",
          "name": "stdout",
          "text": [
            "j\n"
          ]
        }
      ]
    },
    {
      "cell_type": "code",
      "source": [
        "print(\"soojebi\"[-7])"
      ],
      "metadata": {
        "colab": {
          "base_uri": "https://localhost:8080/"
        },
        "id": "JUFr_jPgoszx",
        "outputId": "544bb6e8-d9ce-4caf-cd13-6345f7f7d53e"
      },
      "execution_count": null,
      "outputs": [
        {
          "output_type": "stream",
          "name": "stdout",
          "text": [
            "s\n"
          ]
        }
      ]
    },
    {
      "cell_type": "code",
      "source": [
        "str=\"soojebi\""
      ],
      "metadata": {
        "id": "dSztajqEox6T"
      },
      "execution_count": null,
      "outputs": []
    },
    {
      "cell_type": "code",
      "source": [
        "print(str[1])"
      ],
      "metadata": {
        "colab": {
          "base_uri": "https://localhost:8080/"
        },
        "id": "VrA27rMvo2qo",
        "outputId": "69ae88ab-0a86-4c64-a297-cbc0d9cb6182"
      },
      "execution_count": null,
      "outputs": [
        {
          "output_type": "stream",
          "name": "stdout",
          "text": [
            "o\n"
          ]
        }
      ]
    },
    {
      "cell_type": "code",
      "source": [
        "t=('s','j','b')"
      ],
      "metadata": {
        "id": "ROkx2pjtpEHf"
      },
      "execution_count": null,
      "outputs": []
    },
    {
      "cell_type": "code",
      "source": [
        "print(t[0])"
      ],
      "metadata": {
        "colab": {
          "base_uri": "https://localhost:8080/"
        },
        "id": "XTJFx-rEpHzh",
        "outputId": "c32ed9e4-f638-4600-b7d1-582332f8cb25"
      },
      "execution_count": null,
      "outputs": [
        {
          "output_type": "stream",
          "name": "stdout",
          "text": [
            "s\n"
          ]
        }
      ]
    },
    {
      "cell_type": "markdown",
      "source": [
        "#### 슬라이싱\n",
        "---\n",
        "\n",
        "\n",
        "*   슬라이싱은 시퀀스 자료형에서 여러 개의 데이터에 동시에 접근하는 기법이다.\n",
        "*   시퀀스변수명[시작:종료:스텝]\n",
        "\n"
      ],
      "metadata": {
        "id": "zl12zhGnn9BB"
      }
    },
    {
      "cell_type": "markdown",
      "source": [
        "#####문자열 슬라이싱"
      ],
      "metadata": {
        "id": "ecnNbNObp7_I"
      }
    },
    {
      "cell_type": "code",
      "source": [
        "print(\"soojebi\"[1:])"
      ],
      "metadata": {
        "colab": {
          "base_uri": "https://localhost:8080/"
        },
        "id": "yGZgVJ0fqpDu",
        "outputId": "794f02f2-2439-476e-a1be-88d94db46cee"
      },
      "execution_count": null,
      "outputs": [
        {
          "output_type": "stream",
          "name": "stdout",
          "text": [
            "oojebi\n"
          ]
        }
      ]
    },
    {
      "cell_type": "code",
      "source": [
        "print(\"soojebi\"[2:4])"
      ],
      "metadata": {
        "colab": {
          "base_uri": "https://localhost:8080/"
        },
        "id": "Djl1TIa9quk4",
        "outputId": "4beb11b5-645b-48b6-b3aa-e1dbce4e7715"
      },
      "execution_count": null,
      "outputs": [
        {
          "output_type": "stream",
          "name": "stdout",
          "text": [
            "oj\n"
          ]
        }
      ]
    },
    {
      "cell_type": "code",
      "source": [
        "print(\"soojebi\"[:3])"
      ],
      "metadata": {
        "colab": {
          "base_uri": "https://localhost:8080/"
        },
        "id": "Jh75Vdqyq2wd",
        "outputId": "a6112284-d0cd-47ca-d030-59c63aa05bd5"
      },
      "execution_count": null,
      "outputs": [
        {
          "output_type": "stream",
          "name": "stdout",
          "text": [
            "soo\n"
          ]
        }
      ]
    },
    {
      "cell_type": "markdown",
      "source": [
        "#####리스트 슬라이싱"
      ],
      "metadata": {
        "id": "efAl4qG-p-sn"
      }
    },
    {
      "cell_type": "code",
      "source": [
        "a=[4,2,7,3,5]"
      ],
      "metadata": {
        "id": "vBO-mbUUrDfZ"
      },
      "execution_count": null,
      "outputs": []
    },
    {
      "cell_type": "code",
      "source": [
        "print(a[0:4:2])"
      ],
      "metadata": {
        "colab": {
          "base_uri": "https://localhost:8080/"
        },
        "id": "T_ah_L1XrITf",
        "outputId": "a7ed38b1-6a79-4fa4-88d9-73a7820076ec"
      },
      "execution_count": null,
      "outputs": [
        {
          "output_type": "stream",
          "name": "stdout",
          "text": [
            "[4, 7]\n"
          ]
        }
      ]
    },
    {
      "cell_type": "markdown",
      "source": [
        "#####튜플 슬라이싱"
      ],
      "metadata": {
        "id": "zjsjIi0Gp-9a"
      }
    },
    {
      "cell_type": "code",
      "source": [
        "t= ('s','j','b')"
      ],
      "metadata": {
        "id": "3mqWW-HMrD_8"
      },
      "execution_count": null,
      "outputs": []
    },
    {
      "cell_type": "code",
      "source": [
        "print(t[1:])"
      ],
      "metadata": {
        "colab": {
          "base_uri": "https://localhost:8080/"
        },
        "id": "tkubOrLZsAk4",
        "outputId": "e119584b-41b4-4df4-9adb-e81fab910016"
      },
      "execution_count": null,
      "outputs": [
        {
          "output_type": "stream",
          "name": "stdout",
          "text": [
            "('j', 'b')\n"
          ]
        }
      ]
    },
    {
      "cell_type": "markdown",
      "source": [
        "###비시퀀스 자료형"
      ],
      "metadata": {
        "id": "rvpH_GE7sLzL"
      }
    },
    {
      "cell_type": "markdown",
      "source": [
        "####세트(Set)형\n",
        "---\n",
        "\n",
        "1.   세트형 개념\n",
        "\n",
        " *   세트형은 중복된 원소를 허용하지 않는 집합의 성질을 가지고 있는 자료형이다.\n",
        " *   세트명 = set([요소1,요소2, ...])\n",
        "\n",
        "2.   세트형 메서드\n",
        "   \n",
        " *   add(값) : 값을 1개 추가하는 메서드\n",
        " *   update([값1,값2,...]):여러 개의 값을 한꺼번에 추가하는 메서드\n",
        " *   remove(값): 특정 값을 제거하는 메서드\n"
      ],
      "metadata": {
        "id": "m0XHNtBHsdTf"
      }
    },
    {
      "cell_type": "code",
      "source": [
        "s={1,5,7}"
      ],
      "metadata": {
        "id": "Fvua1Kj20Vj8"
      },
      "execution_count": null,
      "outputs": []
    },
    {
      "cell_type": "code",
      "source": [
        "s.add(3)"
      ],
      "metadata": {
        "id": "B459Tdt_0Z9Z"
      },
      "execution_count": null,
      "outputs": []
    },
    {
      "cell_type": "code",
      "source": [
        "print(s)"
      ],
      "metadata": {
        "colab": {
          "base_uri": "https://localhost:8080/"
        },
        "id": "Ng_LikoW0dKC",
        "outputId": "3d4856a7-79e6-4625-da01-a49a72f37f4b"
      },
      "execution_count": null,
      "outputs": [
        {
          "output_type": "stream",
          "name": "stdout",
          "text": [
            "{1, 3, 5, 7}\n"
          ]
        }
      ]
    },
    {
      "cell_type": "code",
      "source": [
        "s.add(5)"
      ],
      "metadata": {
        "id": "lu22jEBQ0fhb"
      },
      "execution_count": null,
      "outputs": []
    },
    {
      "cell_type": "code",
      "source": [
        "print(s)"
      ],
      "metadata": {
        "colab": {
          "base_uri": "https://localhost:8080/"
        },
        "id": "T_pLKFIn4-ox",
        "outputId": "27fc2f36-f311-4567-faad-1327393d87e5"
      },
      "execution_count": null,
      "outputs": [
        {
          "output_type": "stream",
          "name": "stdout",
          "text": [
            "{1, 3, 5, 7}\n"
          ]
        }
      ]
    },
    {
      "cell_type": "code",
      "source": [
        "s.update([1,2,3,4])"
      ],
      "metadata": {
        "id": "1_YHMYJn7gGE"
      },
      "execution_count": null,
      "outputs": []
    },
    {
      "cell_type": "code",
      "source": [
        "print(s)"
      ],
      "metadata": {
        "colab": {
          "base_uri": "https://localhost:8080/"
        },
        "id": "4crtLEjf7uC_",
        "outputId": "50e6f1a8-abc4-4391-a43e-94aa514b91cd"
      },
      "execution_count": null,
      "outputs": [
        {
          "output_type": "stream",
          "name": "stdout",
          "text": [
            "{1, 2, 3, 4, 5, 7}\n"
          ]
        }
      ]
    },
    {
      "cell_type": "code",
      "source": [
        "s.remove(1)"
      ],
      "metadata": {
        "id": "ivk5_eEl7wZ1"
      },
      "execution_count": null,
      "outputs": []
    },
    {
      "cell_type": "code",
      "source": [
        "print(s)"
      ],
      "metadata": {
        "colab": {
          "base_uri": "https://localhost:8080/"
        },
        "id": "VIsTH-ii7ykk",
        "outputId": "305deffa-ff0e-4f3e-95db-090595033dd8"
      },
      "execution_count": null,
      "outputs": [
        {
          "output_type": "stream",
          "name": "stdout",
          "text": [
            "{2, 3, 4, 5, 7}\n"
          ]
        }
      ]
    },
    {
      "cell_type": "markdown",
      "source": [
        "####딕셔너리\n",
        "---\n",
        "딕셔너리형은 키와 값으로 구성된 객체를 저장하는 구조의 자료형  \n",
        "*   딕셔너리 요소 생성  \n",
        "딕셔너리명={키1:키값1,키2:키값2,...}  \n",
        "\n",
        "*   딕셔너리형 요소 변경  \n",
        "딕셔너리명[키]= 값\n",
        "\n",
        "*   딕셔너리형 요소 삭제  \n",
        "del 딕셔너리명[키]\n",
        "\n"
      ],
      "metadata": {
        "id": "hXsasCmg8Zow"
      }
    },
    {
      "cell_type": "code",
      "source": [
        "d={'A':5, 'C':4}"
      ],
      "metadata": {
        "id": "2GjF8MGV-An7"
      },
      "execution_count": null,
      "outputs": []
    },
    {
      "cell_type": "code",
      "source": [
        "print(d)"
      ],
      "metadata": {
        "colab": {
          "base_uri": "https://localhost:8080/"
        },
        "id": "ZqaJQeo--Jc9",
        "outputId": "0426fc48-b38a-4fab-8eb1-51bbe0d84cdf"
      },
      "execution_count": null,
      "outputs": [
        {
          "output_type": "stream",
          "name": "stdout",
          "text": [
            "{'A': 5, 'C': 4}\n"
          ]
        }
      ]
    },
    {
      "cell_type": "code",
      "source": [
        "d['K']=7"
      ],
      "metadata": {
        "id": "9xFw9dbf-NdB"
      },
      "execution_count": null,
      "outputs": []
    },
    {
      "cell_type": "code",
      "source": [
        "print(d)"
      ],
      "metadata": {
        "colab": {
          "base_uri": "https://localhost:8080/"
        },
        "id": "cXB2rQO_-f0k",
        "outputId": "0ff6eeba-ec68-48b1-af77-19d688679035"
      },
      "execution_count": null,
      "outputs": [
        {
          "output_type": "stream",
          "name": "stdout",
          "text": [
            "{'A': 5, 'C': 4, 'K': 7}\n"
          ]
        }
      ]
    },
    {
      "cell_type": "code",
      "source": [
        "del d['C']"
      ],
      "metadata": {
        "id": "Z9gcbu9G-Xb3"
      },
      "execution_count": null,
      "outputs": []
    },
    {
      "cell_type": "code",
      "source": [
        "d['K']=6"
      ],
      "metadata": {
        "id": "nj9p4mFb-cTc"
      },
      "execution_count": null,
      "outputs": []
    },
    {
      "cell_type": "code",
      "source": [
        "print(d)"
      ],
      "metadata": {
        "colab": {
          "base_uri": "https://localhost:8080/"
        },
        "id": "U1xOjcoA-t0h",
        "outputId": "205a4dfd-1dfb-49f4-aa1a-4fd238875616"
      },
      "execution_count": null,
      "outputs": [
        {
          "output_type": "stream",
          "name": "stdout",
          "text": [
            "{'A': 5, 'K': 6}\n"
          ]
        }
      ]
    },
    {
      "cell_type": "markdown",
      "source": [
        "###자료형 함수"
      ],
      "metadata": {
        "id": "-ujNNEju_HM4"
      }
    },
    {
      "cell_type": "markdown",
      "source": [
        "####Type함수\n",
        "---\n",
        "* 자료형을 확인할 수 있는 함수  \n",
        "---\n",
        "\n",
        "자료형의 종류\n",
        "\n",
        "\n",
        "*   기본자료형\n",
        "\n",
        "  *   정수형(integer) | <class 'int'>\n",
        "  *   실수형(floating point) | <class 'float'>\n",
        "  *   논리형(Logical) | <class 'bool'>\n",
        "\n",
        "\n",
        "*   컬렉션 자료형\n",
        "\n",
        " *   문자열형(String) | <class 'str'>\n",
        " *   리스트형(List) | <class 'list'>\n",
        " *   튜플형(Tuple) | <class 'tuple'>\n",
        " *   딕셔너리형(Dictionary) | <class 'dict'>\n",
        " *   세트형(Set) | <class 'set'>\n",
        "\n"
      ],
      "metadata": {
        "id": "KNFaFjB0_PR6"
      }
    },
    {
      "cell_type": "code",
      "source": [
        "print(type(31))"
      ],
      "metadata": {
        "colab": {
          "base_uri": "https://localhost:8080/"
        },
        "id": "suTsuCHj_NbY",
        "outputId": "a615fe56-c9f3-48af-f853-01bc69d791a9"
      },
      "execution_count": null,
      "outputs": [
        {
          "output_type": "stream",
          "name": "stdout",
          "text": [
            "<class 'int'>\n"
          ]
        }
      ]
    },
    {
      "cell_type": "code",
      "source": [
        "print(type(2.7))"
      ],
      "metadata": {
        "colab": {
          "base_uri": "https://localhost:8080/"
        },
        "id": "Y42eeezpKM8M",
        "outputId": "e51a5719-454f-46ce-c6ba-a027b9fb6338"
      },
      "execution_count": null,
      "outputs": [
        {
          "output_type": "stream",
          "name": "stdout",
          "text": [
            "<class 'float'>\n"
          ]
        }
      ]
    },
    {
      "cell_type": "code",
      "source": [
        "print(type(True))"
      ],
      "metadata": {
        "colab": {
          "base_uri": "https://localhost:8080/"
        },
        "id": "S709sarpKPKq",
        "outputId": "b4a688a0-b272-41e1-b033-d93a98de6e4c"
      },
      "execution_count": null,
      "outputs": [
        {
          "output_type": "stream",
          "name": "stdout",
          "text": [
            "<class 'bool'>\n"
          ]
        }
      ]
    },
    {
      "cell_type": "code",
      "source": [
        "print(type('Soojebi'))"
      ],
      "metadata": {
        "colab": {
          "base_uri": "https://localhost:8080/"
        },
        "id": "rXAfL-05KRMJ",
        "outputId": "4ccb619c-9042-4c7e-de55-abeef59326a5"
      },
      "execution_count": null,
      "outputs": [
        {
          "output_type": "stream",
          "name": "stdout",
          "text": [
            "<class 'str'>\n"
          ]
        }
      ]
    },
    {
      "cell_type": "code",
      "source": [
        "print(type([1,2,3]))"
      ],
      "metadata": {
        "colab": {
          "base_uri": "https://localhost:8080/"
        },
        "id": "TiUm8aNfKW0H",
        "outputId": "e39294e0-cbad-4550-f65d-0e99f30f9ea9"
      },
      "execution_count": null,
      "outputs": [
        {
          "output_type": "stream",
          "name": "stdout",
          "text": [
            "<class 'list'>\n"
          ]
        }
      ]
    },
    {
      "cell_type": "code",
      "source": [
        "print(type((1,2,3)))"
      ],
      "metadata": {
        "colab": {
          "base_uri": "https://localhost:8080/"
        },
        "id": "6hQ4ofobKacy",
        "outputId": "1675eaf5-010c-4e9e-b8dd-e8b6fade3e4d"
      },
      "execution_count": null,
      "outputs": [
        {
          "output_type": "stream",
          "name": "stdout",
          "text": [
            "<class 'tuple'>\n"
          ]
        }
      ]
    },
    {
      "cell_type": "code",
      "source": [
        "print(type({1,2,3}))"
      ],
      "metadata": {
        "colab": {
          "base_uri": "https://localhost:8080/"
        },
        "id": "OKexgoKZKfKM",
        "outputId": "056b42c7-0a6b-4cee-cd42-ca2b240c917d"
      },
      "execution_count": null,
      "outputs": [
        {
          "output_type": "stream",
          "name": "stdout",
          "text": [
            "<class 'set'>\n"
          ]
        }
      ]
    },
    {
      "cell_type": "code",
      "source": [
        "print(type({'s':1, 'j':2, 'b':3}))"
      ],
      "metadata": {
        "colab": {
          "base_uri": "https://localhost:8080/"
        },
        "id": "lyeAkcLEKmJ6",
        "outputId": "ea5bdbf5-a421-4119-d031-5d65680669b7"
      },
      "execution_count": null,
      "outputs": [
        {
          "output_type": "stream",
          "name": "stdout",
          "text": [
            "<class 'dict'>\n"
          ]
        }
      ]
    },
    {
      "cell_type": "markdown",
      "source": [
        "####len 함수\n",
        "---\n",
        "* len 함수는 컬렉션 자료형의 크기를 계산하는 함수"
      ],
      "metadata": {
        "id": "f0i3029bKxqS"
      }
    },
    {
      "cell_type": "code",
      "source": [
        "print(len('Soojebi'))"
      ],
      "metadata": {
        "colab": {
          "base_uri": "https://localhost:8080/"
        },
        "id": "HSa3vcZOLM4f",
        "outputId": "449c12d8-8a61-4917-e213-63e44324ccb7"
      },
      "execution_count": null,
      "outputs": [
        {
          "output_type": "stream",
          "name": "stdout",
          "text": [
            "7\n"
          ]
        }
      ]
    },
    {
      "cell_type": "code",
      "source": [
        "print(len([1,2,3]))"
      ],
      "metadata": {
        "colab": {
          "base_uri": "https://localhost:8080/"
        },
        "id": "N2-qCoScLV--",
        "outputId": "87e5d6d9-4215-4973-bfee-002b9f85e4e2"
      },
      "execution_count": null,
      "outputs": [
        {
          "output_type": "stream",
          "name": "stdout",
          "text": [
            "3\n"
          ]
        }
      ]
    },
    {
      "cell_type": "code",
      "source": [
        "print(len((1,2,3)))"
      ],
      "metadata": {
        "colab": {
          "base_uri": "https://localhost:8080/"
        },
        "id": "4-Hd0QsYLYLq",
        "outputId": "123ab258-86d1-43a5-e124-959654991fe3"
      },
      "execution_count": null,
      "outputs": [
        {
          "output_type": "stream",
          "name": "stdout",
          "text": [
            "3\n"
          ]
        }
      ]
    },
    {
      "cell_type": "code",
      "source": [
        "print(len({1,2,3}))"
      ],
      "metadata": {
        "colab": {
          "base_uri": "https://localhost:8080/"
        },
        "id": "FGQXNuRDLaHT",
        "outputId": "ce4e4a7b-4fea-4dd1-8192-3bf803dc1edf"
      },
      "execution_count": null,
      "outputs": [
        {
          "output_type": "stream",
          "name": "stdout",
          "text": [
            "3\n"
          ]
        }
      ]
    },
    {
      "cell_type": "code",
      "source": [
        "print(len({'s':1,'j':2,'b':3}))"
      ],
      "metadata": {
        "colab": {
          "base_uri": "https://localhost:8080/"
        },
        "id": "YKaUKcb7LhIy",
        "outputId": "6ccadb92-1984-420c-a69f-813e04878708"
      },
      "execution_count": null,
      "outputs": [
        {
          "output_type": "stream",
          "name": "stdout",
          "text": [
            "3\n"
          ]
        }
      ]
    },
    {
      "cell_type": "markdown",
      "source": [
        "##객체"
      ],
      "metadata": {
        "id": "IIKRlpzgL3A1"
      }
    },
    {
      "cell_type": "markdown",
      "source": [
        "###배열\n",
        "---\n",
        "\n",
        "\n",
        "*   배열은 동일한 유형의 데이터를 저장하는 자료형이다\n",
        "*   numpy 패키지의 array 함수로 데이터 배열을 생성한다.\n",
        "\n",
        "\n"
      ],
      "metadata": {
        "id": "UGdzcZf5L7TI"
      }
    },
    {
      "cell_type": "code",
      "source": [
        "import numpy as np"
      ],
      "metadata": {
        "id": "7pKfPf2CMr8o"
      },
      "execution_count": null,
      "outputs": []
    },
    {
      "cell_type": "code",
      "source": [
        "a=np.array([1,2,3])"
      ],
      "metadata": {
        "id": "ifzNfD1ZM5vr"
      },
      "execution_count": null,
      "outputs": []
    },
    {
      "cell_type": "code",
      "source": [
        "print(a)"
      ],
      "metadata": {
        "colab": {
          "base_uri": "https://localhost:8080/"
        },
        "id": "VRU3eD7WNAMJ",
        "outputId": "8e488873-3621-4995-abfe-d5af8aae4dc3"
      },
      "execution_count": null,
      "outputs": [
        {
          "output_type": "stream",
          "name": "stdout",
          "text": [
            "[1 2 3]\n"
          ]
        }
      ]
    },
    {
      "cell_type": "code",
      "source": [
        "print(type(a))"
      ],
      "metadata": {
        "colab": {
          "base_uri": "https://localhost:8080/"
        },
        "id": "N4dgNUDoNBDh",
        "outputId": "e544e942-4412-46fa-dd7e-749a5ba404d8"
      },
      "execution_count": null,
      "outputs": [
        {
          "output_type": "stream",
          "name": "stdout",
          "text": [
            "<class 'numpy.ndarray'>\n"
          ]
        }
      ]
    },
    {
      "cell_type": "code",
      "source": [
        "b = np.array([[1,2,3],[1,2,3]])"
      ],
      "metadata": {
        "id": "CO6UEtD2NDRe"
      },
      "execution_count": null,
      "outputs": []
    },
    {
      "cell_type": "code",
      "source": [
        "print(b)"
      ],
      "metadata": {
        "colab": {
          "base_uri": "https://localhost:8080/"
        },
        "id": "845Wx8v4NLyK",
        "outputId": "daa82ec2-789d-4855-aacf-184863b1558a"
      },
      "execution_count": null,
      "outputs": [
        {
          "output_type": "stream",
          "name": "stdout",
          "text": [
            "[[1 2 3]\n",
            " [1 2 3]]\n"
          ]
        }
      ]
    },
    {
      "cell_type": "markdown",
      "source": [
        "### 데이터 프레임\n",
        "---\n",
        "* 데이터 프레임은 행과 열을 가지는 표형식의 구조로 숫자, 문자 등 다양한 형식의 데이터 저장이 가능한 자료형이다.\n",
        "* pandas 패키지의 DataFrame 함수로 데이터 프레임을 생선한다."
      ],
      "metadata": {
        "id": "otUxlEKwNQYx"
      }
    },
    {
      "cell_type": "code",
      "source": [
        "import pandas as pd"
      ],
      "metadata": {
        "id": "gakzm6JaNj2c"
      },
      "execution_count": null,
      "outputs": []
    },
    {
      "cell_type": "code",
      "source": [
        "d = pd.DataFrame({'a':[1,2,3,4],\n",
        "                  'b':[2,3,4,5],\n",
        "                  'e':['M','F','M','F']})"
      ],
      "metadata": {
        "id": "O4_vKd5wNmlY"
      },
      "execution_count": null,
      "outputs": []
    },
    {
      "cell_type": "code",
      "source": [
        "print(d)"
      ],
      "metadata": {
        "colab": {
          "base_uri": "https://localhost:8080/"
        },
        "id": "qrS0CVsjN-w5",
        "outputId": "f68f0bf2-cfa5-4f42-ed1c-7c61284ffa64"
      },
      "execution_count": null,
      "outputs": [
        {
          "output_type": "stream",
          "name": "stdout",
          "text": [
            "   a  b  e\n",
            "0  1  2  M\n",
            "1  2  3  F\n",
            "2  3  4  M\n",
            "3  4  5  F\n"
          ]
        }
      ]
    },
    {
      "cell_type": "markdown",
      "source": [
        "# 조건문 - if 문"
      ],
      "metadata": {
        "id": "0uWvR3snOHPk"
      }
    },
    {
      "cell_type": "markdown",
      "source": [
        "##if 문\n",
        "---\n",
        " * if문 조건이 참인지 거짓인지에 따라 경로를 선택하는 명령문이다.\n",
        "  \n",
        "---\n",
        " * if문 조건이 참일 경우 if안에 있는 명령문을 실행한다.\n",
        " * if문의 조건이 거짓이면서 elif 문의 조건이 참일 경우 elif안에 있는 명령문을 실행한다.\n",
        " * elif는 여러개 사용이 가능하다.\n",
        " * else 는 if문의 조건문이 거짓이고 여러개의 elif 문이 모두 거짓일 때 else 안에 있는 명령문을 실행한다.  \n",
        " (else는 사용하지 않거나 한 번만 사용)\n",
        "---\n",
        "* if 문 문법   \n",
        " ```  \n",
        " if 조건문:\n",
        "    명령문\n",
        " elif 조건문:\n",
        "    명령문\n",
        " else:\n",
        "    명령문\n",
        " ```"
      ],
      "metadata": {
        "id": "4fdimpGsOOju"
      }
    },
    {
      "cell_type": "code",
      "source": [
        "score=20"
      ],
      "metadata": {
        "id": "74ko6GslQuLf"
      },
      "execution_count": null,
      "outputs": []
    },
    {
      "cell_type": "code",
      "source": [
        "if score >=90:\n",
        "  print(\"A\")\n",
        "elif score >=80:\n",
        "  print(\"B\")\n",
        "elif score >= 70:\n",
        "  print(\"C\")\n",
        "else:\n",
        "  print(\"F\")"
      ],
      "metadata": {
        "colab": {
          "base_uri": "https://localhost:8080/"
        },
        "id": "uJLBtlTgQy20",
        "outputId": "69e41db0-3db6-4f49-bf69-e66b4e872609"
      },
      "execution_count": null,
      "outputs": [
        {
          "output_type": "stream",
          "name": "stdout",
          "text": [
            "F\n"
          ]
        }
      ]
    },
    {
      "cell_type": "markdown",
      "source": [
        "#반복문"
      ],
      "metadata": {
        "id": "hIotbqBLRGJM"
      }
    },
    {
      "cell_type": "markdown",
      "source": [
        "## for 문\n",
        "---\n",
        "* for문은 in 연산자 뒤에 range 함수를 사용하여 반복의 범위를 지정하거나 리스트 개수만큼 반복을 수행한다.\n"
      ],
      "metadata": {
        "id": "79snCBpnRKUb"
      }
    },
    {
      "cell_type": "markdown",
      "source": [
        "###(1) 일반 for 문\n",
        " * range 함수는 범위를 지정하는 함수이다.\n",
        " * range 함수에서 시작을 생략하면 0, 스텝 값을 생략하면 1이 자동으로 들어간다.  \n",
        " ```\n",
        "for 변수 in range(시작, 종료, 스텝):  ## (시작) 값부터 for문을 반복할 때마다                                        \n",
        "명령문                                ## (스텝) 수만큼값을 증가시키고 변숫값이 (종료) 값 이상이면 반복문을 종료\n",
        "```\n",
        " * range 함수에 값이 하나일 경우 시작=0, 스텝=1이 자동으로 들어가고,\n",
        "range함수에 값이 두 개 일 경우 스텝= 1이 자동으로 들어간다."
      ],
      "metadata": {
        "id": "Tm2_E7W8TlFb"
      }
    },
    {
      "cell_type": "code",
      "source": [
        "i=0"
      ],
      "metadata": {
        "id": "U910_GXzTupK"
      },
      "execution_count": null,
      "outputs": []
    },
    {
      "cell_type": "code",
      "source": [
        "sum=0"
      ],
      "metadata": {
        "id": "Qfke8C5XTxJY"
      },
      "execution_count": null,
      "outputs": []
    },
    {
      "cell_type": "code",
      "source": [
        "for i in range(1,5):\n",
        "  sum= sum + i"
      ],
      "metadata": {
        "id": "VPrtihJETx9d"
      },
      "execution_count": null,
      "outputs": []
    },
    {
      "cell_type": "code",
      "source": [
        "print(sum)"
      ],
      "metadata": {
        "colab": {
          "base_uri": "https://localhost:8080/"
        },
        "id": "qz688_T_T18r",
        "outputId": "f2c5f5c6-6e12-4213-e0ad-2d38f918a040"
      },
      "execution_count": null,
      "outputs": [
        {
          "output_type": "stream",
          "name": "stdout",
          "text": [
            "10\n"
          ]
        }
      ]
    },
    {
      "cell_type": "markdown",
      "source": [
        "###(2) for each 문\n",
        "---\n",
        "for each 문은 시퀀스 자료형의 각각의 요소가 변수에 대입되어 명령문을 싱행하며 반복한다.  \n",
        "```  \n",
        "for 변수 in 시퀀스 자료형:\n",
        "  명령문\n",
        "\n",
        "```"
      ],
      "metadata": {
        "id": "1D0Wcc7GTvS7"
      }
    },
    {
      "cell_type": "code",
      "source": [
        "li=[1,2,3,4,5]\n",
        "for a in li:\n",
        "  print(a)"
      ],
      "metadata": {
        "colab": {
          "base_uri": "https://localhost:8080/"
        },
        "id": "pmcEMsCYUoVl",
        "outputId": "6eb0633c-77b3-4fa3-c156-4e0d51c674c0"
      },
      "execution_count": null,
      "outputs": [
        {
          "output_type": "stream",
          "name": "stdout",
          "text": [
            "1\n",
            "2\n",
            "3\n",
            "4\n",
            "5\n"
          ]
        }
      ]
    },
    {
      "cell_type": "markdown",
      "source": [
        "##while 문\n",
        "---\n",
        "while문은 반복 횟수의 지정 없이 조건이 참이면 계속해서 반복을 수행하는 반복문이다.  \n",
        "```\n",
        "while 조건문:        ##조건문 뒤에는 반드시 콜론(':')을 붙인다.\n",
        "  명령문\n",
        "\n",
        "```"
      ],
      "metadata": {
        "id": "eE8ZxU0wVRcj"
      }
    },
    {
      "cell_type": "code",
      "source": [
        "i=0"
      ],
      "metadata": {
        "id": "x4Vh8Qo6VqGg"
      },
      "execution_count": null,
      "outputs": []
    },
    {
      "cell_type": "code",
      "source": [
        "sum=0"
      ],
      "metadata": {
        "id": "-zA8TyqvVr3b"
      },
      "execution_count": null,
      "outputs": []
    },
    {
      "cell_type": "code",
      "source": [
        "while i < 4:\n",
        "  i=i+1\n",
        "  sum= sum+i"
      ],
      "metadata": {
        "id": "tiq2g_JLVspd"
      },
      "execution_count": null,
      "outputs": []
    },
    {
      "cell_type": "code",
      "source": [
        "print(sum)"
      ],
      "metadata": {
        "colab": {
          "base_uri": "https://localhost:8080/"
        },
        "id": "leDf54R8V3V8",
        "outputId": "7d1e00ad-017a-45a5-f321-920eefb4866e"
      },
      "execution_count": null,
      "outputs": [
        {
          "output_type": "stream",
          "name": "stdout",
          "text": [
            "10\n"
          ]
        }
      ]
    },
    {
      "cell_type": "markdown",
      "source": [
        "##루프 제어 명령어\n",
        "---\n",
        "반복문에서 무한 루프를 방지하기 위해 break문과 contiune문을 사용한다."
      ],
      "metadata": {
        "id": "d8x70UOhWfJ1"
      }
    },
    {
      "cell_type": "markdown",
      "source": [
        "###break문\n",
        "---\n",
        "break 문은 반복문을 중간에 탈출하기 위해 사용하는 명령어이다."
      ],
      "metadata": {
        "id": "XTkW0V3sWq9B"
      }
    },
    {
      "cell_type": "code",
      "source": [
        "for i in range(1,5):\n",
        "  print(i)\n",
        "  if i ==2:\n",
        "    break"
      ],
      "metadata": {
        "colab": {
          "base_uri": "https://localhost:8080/"
        },
        "id": "LDgxatY6W1yJ",
        "outputId": "7de1fd8b-c4a1-4580-d300-fb121f108d4c"
      },
      "execution_count": null,
      "outputs": [
        {
          "output_type": "stream",
          "name": "stdout",
          "text": [
            "1\n",
            "2\n"
          ]
        }
      ]
    },
    {
      "cell_type": "markdown",
      "source": [
        "###contiune 문\n",
        "---\n",
        "continue문은 반복문에서 다음 반복으로 넘어갈 수 있도록 하는 명령어이다."
      ],
      "metadata": {
        "id": "ctx0tj0ZXFzz"
      }
    },
    {
      "cell_type": "code",
      "source": [
        "for i in range(1,5):\n",
        "  if i == 2 :\n",
        "    continue\n",
        "  print(i)"
      ],
      "metadata": {
        "colab": {
          "base_uri": "https://localhost:8080/"
        },
        "id": "PevhN5LTXOWY",
        "outputId": "9f54c4e5-1435-4383-ae19-960e97a2d19d"
      },
      "execution_count": null,
      "outputs": [
        {
          "output_type": "stream",
          "name": "stdout",
          "text": [
            "1\n",
            "3\n",
            "4\n"
          ]
        }
      ]
    },
    {
      "cell_type": "markdown",
      "source": [
        "#사용자 정의 함수\n",
        "---\n",
        "\n",
        "\n",
        "*   사용자 정의 함수는 사용자가 직접 새로운 함수를 정의하여 사용하는 방법이다.\n",
        "*   사용자 정의 함수에서 파라미터나 생성된 변수는 사용자 정의 함수가 종료되면 없어진다.\n",
        "* 사용자 정의 함수 문법\n",
        "```\n",
        "def 함수명(변수명, ...):\n",
        "  명령어\n",
        "  return 반환값\n",
        "```\n"
      ],
      "metadata": {
        "id": "szFCc7y-XcJw"
      }
    },
    {
      "cell_type": "code",
      "source": [
        "def fn (num):\n",
        "  if num % 2 == 0:\n",
        "    return 'Y'\n",
        "  else:\n",
        "    return 'N'"
      ],
      "metadata": {
        "id": "17p3Jd6_YEb4"
      },
      "execution_count": null,
      "outputs": []
    },
    {
      "cell_type": "code",
      "source": [
        "a= fn(5)"
      ],
      "metadata": {
        "id": "MpUsJl2kYUXc"
      },
      "execution_count": null,
      "outputs": []
    },
    {
      "cell_type": "code",
      "source": [
        "print(a)"
      ],
      "metadata": {
        "colab": {
          "base_uri": "https://localhost:8080/"
        },
        "id": "5d28TlEZYVgY",
        "outputId": "c0b9da76-7c58-4b38-ae15-923eacc4483c"
      },
      "execution_count": null,
      "outputs": [
        {
          "output_type": "stream",
          "name": "stdout",
          "text": [
            "N\n"
          ]
        }
      ]
    }
  ]
}